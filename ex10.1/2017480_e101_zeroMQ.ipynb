{
 "cells": [
  {
   "cell_type": "markdown",
   "metadata": {},
   "source": [
    "<h2> Ejercicio 101 Cinemática en un robot móvil</h2>\n",
    "\n",
    "<br>- Requiere que los archivos 'sim.py', 'simConst.py', 'remoteapi.dll' estén alojados en la misma carpeta que este cuaderno de Jupyter. Teneis en la carpeta adjunta a la sesión estos archivos.\n",
    "<br>- Requiere tener el Robot movil de la escena ejercicio102.ttt. \n"
   ]
  },
  {
   "cell_type": "code",
   "execution_count": 1,
   "metadata": {},
   "outputs": [
    {
     "data": {
      "image/jpeg": "[encoded data removed]",
      "text/html": [
       "\n",
       "        <iframe\n",
       "            width=\"400\"\n",
       "            height=\"300\"\n",
       "            src=\"https://www.youtube.com/embed/GltV3XSKXdI\"\n",
       "            frameborder=\"0\"\n",
       "            allowfullscreen\n",
       "            \n",
       "        ></iframe>\n",
       "        "
      ],
      "text/plain": [
       "<IPython.lib.display.YouTubeVideo at 0x1080a3b80>"
      ]
     },
     "execution_count": 1,
     "metadata": {},
     "output_type": "execute_result"
    }
   ],
   "source": [
    "from IPython.display import YouTubeVideo\n",
    "\n",
    "YouTubeVideo('GltV3XSKXdI') "
   ]
  },
  {
   "cell_type": "markdown",
   "metadata": {},
   "source": [
    "<h3> Ejercicio 101</h3>\n",
    "Usando el escenario en CoppeliaSIM de un Robot móvil de la figura siguiente, prueba su funcionamiento.\n",
    "\n",
    "![title](img102.png)\n"
   ]
  },
  {
   "cell_type": "markdown",
   "metadata": {},
   "source": [
    "### 1. Establecer la conexión\n",
    "Utilizaremos las funciones del API Remoto de COPPELIA.\n"
   ]
  },
  {
   "cell_type": "code",
   "execution_count": 2,
   "metadata": {},
   "outputs": [
    {
     "name": "stdout",
     "output_type": "stream",
     "text": [
      "Connected to CoppeliaSim on port 23000\n"
     ]
    }
   ],
   "source": [
    "import coppeliasim_zmqremoteapi_client\n",
    "from coppeliasim_zmqremoteapi_client import RemoteAPIClient\n",
    "import numpy as np\n",
    "\n",
    "def connect(port=23000):\n",
    "    try:\n",
    "        client = RemoteAPIClient('127.0.0.1', port)\n",
    "        print(f\"Connected to CoppeliaSim on port {port}\")\n",
    "        return client\n",
    "    except Exception as e:\n",
    "        print(f\"Could not connect to CoppeliaSim on port {port}: {e}\")\n",
    "        return None\n",
    "\n",
    "client = connect()\n",
    "sim = client.getObject('sim')\n"
   ]
  },
  {
   "cell_type": "markdown",
   "metadata": {},
   "source": [
    "<h3> 2. Obtener los controladores (handlers)</h3>\n",
    "Un controlador (handler) es un número identificador que asigna Coppelia para cada uno de los elementos de la escena."
   ]
  },
  {
   "cell_type": "code",
   "execution_count": 3,
   "metadata": {},
   "outputs": [
    {
     "name": "stdout",
     "output_type": "stream",
     "text": [
      "18 16\n"
     ]
    }
   ],
   "source": [
    "# Obtenemos los controladores para cada eje de las ruedas y el ultrasonido\n",
    "#ret,WR=sim.simxGetObjectHandle(clientID,'Wheel_Right_Joint',sim.simx_opmode_blocking)\n",
    "#ret,WL=sim.simxGetObjectHandle(clientID,'Wheel_Left_Joint',sim.simx_opmode_blocking)\n",
    "#ret,Ultrasonic=sim.simxGetObjectHandle(clientID,'mBot_ultrasonic_sensor',sim.simx_opmode_blocking)\n",
    "\n",
    "WR = sim.getObject('/wheel_right_joint')\n",
    "WL = sim.getObject('/wheel_left_joint')\n",
    "\n",
    "\n",
    "print(WR, WL)"
   ]
  },
  {
   "cell_type": "markdown",
   "metadata": {},
   "source": [
    "<h3> 3. Movemos el robot</h3>\n",
    "Utilizando los controladores, podemos enviar parámetros a los elementos."
   ]
  },
  {
   "cell_type": "code",
   "execution_count": 5,
   "metadata": {},
   "outputs": [],
   "source": [
    "import time\n",
    "velocidad = 0.1\n",
    "time.sleep(3)\n",
    "\n",
    "\n",
    "\n",
    "#Avanzar hacia delante durante 3 segundos:\n",
    "\n",
    "# ---- Modificado código para adaptar a ZeroMQ ------------ Ejemplo:\n",
    "#sim.simxSetJointTargetVelocity(clientID, WR,velocidad,sim.simx_opmode_streaming)\n",
    "#sim.simxSetJointTargetVelocity(clientID, WL,velocidad,sim.simx_opmode_streaming)\n",
    "sim.setJointTargetVelocity(WR, velocidad)\n",
    "sim.setJointTargetVelocity(WL, velocidad)\n",
    "time.sleep(3)\n",
    "#Retroceder hacia atras durante 3 segundos:\n",
    "sim.setJointTargetVelocity(WR, -velocidad)\n",
    "sim.setJointTargetVelocity(WL, -velocidad)\n",
    "time.sleep(3)\n",
    "#Girar hacia la derecha durante 3 segundos:\n",
    "sim.setJointTargetVelocity(WR, -velocidad)\n",
    "sim.setJointTargetVelocity(WL, velocidad)\n",
    "time.sleep(3)\n",
    "#Parar:\n",
    "sim.setJointTargetVelocity(WR, 0)\n",
    "sim.setJointTargetVelocity(WL, 0)\n",
    "time.sleep(3)"
   ]
  },
  {
   "cell_type": "markdown",
   "metadata": {},
   "source": [
    "<h3> Ejercicio a realizar </h3>\n",
    "\n",
    "Realiza un nuevo Robot usando dos ruedas locas \"Caster wheel\" que aparece en la carpeta de componentes y dos ruedas motoras creadas mediante ejes y cilindros, tal y como se ven en la figura: \n",
    "\n",
    "![title](img102b.png)\n",
    "\n",
    "Junta los ejes de las ruedas a una base (pude ser tipo Cuboid), añade un sensor de proximidad tipo cónico y ajusta su volumen y detección.\n"
   ]
  },
  {
   "cell_type": "markdown",
   "metadata": {},
   "source": [
    "<h3> Realizar el código para mover este Robot y detectar obstáculos mediante el sensor de proximidad. </h3>\n",
    "\n",
    " Se ha de entregar la escena, el código en Jupyter Notebook i un Video.\n",
    "\n",
    "\n",
    "\n",
    "\n"
   ]
  },
  {
   "cell_type": "code",
   "execution_count": null,
   "metadata": {},
   "outputs": [],
   "source": []
  },
  {
   "cell_type": "code",
   "execution_count": null,
   "metadata": {},
   "outputs": [],
   "source": []
  },
  {
   "cell_type": "code",
   "execution_count": null,
   "metadata": {},
   "outputs": [],
   "source": []
  },
  {
   "cell_type": "code",
   "execution_count": null,
   "metadata": {},
   "outputs": [],
   "source": []
  }
 ],
 "metadata": {
  "kernelspec": {
   "display_name": "Python 3 (ipykernel)",
   "language": "python",
   "name": "python3"
  },
  "language_info": {
   "codemirror_mode": {
    "name": "ipython",
    "version": 3
   },
   "file_extension": ".py",
   "mimetype": "text/x-python",
   "name": "python",
   "nbconvert_exporter": "python",
   "pygments_lexer": "ipython3",
   "version": "3.10.16"
  }
 },
 "nbformat": 4,
 "nbformat_minor": 4
}
