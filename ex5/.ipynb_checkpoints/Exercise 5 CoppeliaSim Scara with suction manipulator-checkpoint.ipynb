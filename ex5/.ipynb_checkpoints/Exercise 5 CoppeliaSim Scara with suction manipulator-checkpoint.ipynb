{
 "cells": [
  {
   "cell_type": "markdown",
   "metadata": {},
   "source": [
    "<h2> Session 5.1 Inverse kinematics in CoppeliaSim with suction cup type manipulator</h2>\n",
    "\n",
    "<br>- It requires that the files 'sim.py', 'simConst.py', 'remoteapi.dll' are hosted in the same folder as this Jupyter notebook. It also requires using the attached scene: RobotScaraManIK.ttt where a Scara robot appears, cylindrical primitives and a pneumatic actuator (suction cup) preprogrammed to pick up and down elements.\n",
    "\n",
    "<br>- You have in the folder attached to the session these files ( guideactivitys5.zip )\n",
    "\n",
    "#### You can follow this video to perform the guided part of the exercise:\n"
   ]
  },
  {
   "cell_type": "code",
   "execution_count": 24,
   "metadata": {},
   "outputs": [
    {
     "data": {
      "text/html": [
       "\n",
       "        <iframe\n",
       "            width=\"400\"\n",
       "            height=\"300\"\n",
       "            src=\"https://www.youtube.com/embed/RmZZ2ZXt43U\"\n",
       "            frameborder=\"0\"\n",
       "            allowfullscreen\n",
       "        ></iframe>\n",
       "        "
      ],
      "text/plain": [
       "<IPython.lib.display.YouTubeVideo at 0x1d326120490>"
      ]
     },
     "execution_count": 24,
     "metadata": {},
     "output_type": "execute_result"
    }
   ],
   "source": [
    "from IPython.display import YouTubeVideo\n",
    "\n",
    "YouTubeVideo('RmZZ2ZXt43U')"
   ]
  },
  {
   "cell_type": "markdown",
   "metadata": {},
   "source": [
    "<br><h4> Remember:</h4>\n",
    "<br>1. Open the scene RobotScaraManIK.ttt\n",
    "<br>2. Check that in the scene hierarchy there are several scripts: in the base to connect to the Jupyter and in the Suction Cup (SuctionPad) there are two scripts to force from Jupyter its activation / deactivation. \n",
    "<br>3.Remember that the Coppelia scene must be in PLAY to be controlled from Jupyter.\n",
    "\n",
    "\n",
    "<br><h4> Important notes: </h4>\n",
    "\n",
    "1 Remember that the dynamic behavior of Joint 1 and 2 of the Scara del Coppelia ranges from -180º to 180º. And that in the Coppelia program you can see the data in degrees but that from the Jupyter you have to send the data in Radians.\n",
    "\n",
    "2 Remember that the code can be improved by reducing the accuracy of nsolve and give a warning if there is no solution \n",
    "\n"
   ]
  },
  {
   "cell_type": "code",
   "execution_count": 2,
   "metadata": {},
   "outputs": [],
   "source": [
    "# We import the necessary libraries\n",
    "#import sim           # library to connect with CoppeliaSim\n",
    "import sympy as sp   # library for symbolic calculation\n",
    "import numpy as np\n",
    "from sympy import *"
   ]
  },
  {
   "cell_type": "code",
   "execution_count": 3,
   "metadata": {},
   "outputs": [],
   "source": [
    "from sympy.physics.vector import init_vprinting\n",
    "init_vprinting(use_latex='mathjax', pretty_print=False)"
   ]
  },
  {
   "cell_type": "code",
   "execution_count": 4,
   "metadata": {},
   "outputs": [
    {
     "data": {
      "text/latex": [
       "$\\displaystyle \\left( \\theta_{1}, \\  \\theta_{2}, \\  d_{3}, \\  lc, \\  la, \\  lb, \\  \\theta, \\  \\alpha, \\  a, \\  d\\right)$"
      ],
      "text/plain": [
       "(theta1, theta2, d3, lc, la, lb, theta, alpha, a, d)"
      ]
     },
     "execution_count": 4,
     "metadata": {},
     "output_type": "execute_result"
    }
   ],
   "source": [
    "from sympy.physics.mechanics import dynamicsymbols\n",
    "theta1, theta2, d3, lc, la, lb, theta, alpha, a, d = dynamicsymbols('theta1 theta2 d3 lc la lb theta alpha a d')\n",
    "theta1, theta2, d3, lc, la, lb, theta, alpha, a, d "
   ]
  },
  {
   "cell_type": "markdown",
   "metadata": {},
   "source": [
    "### 0. We establish the connection\n",
    "We will use the functions of the COPPELIA Remote API."
   ]
  },
  {
   "cell_type": "code",
   "execution_count": 5,
   "metadata": {},
   "outputs": [],
   "source": [
    "import coppeliasim_zmqremoteapi_client\n",
    "from coppeliasim_zmqremoteapi_client import RemoteAPIClient\n",
    "\n",
    "\n",
    "def connect(port=23000):\n",
    "    try:\n",
    "        client = RemoteAPIClient('127.0.0.1', port)\n",
    "        print(f\"Connected to CoppeliaSim on port {port}\")\n",
    "        return client\n",
    "    except Exception as e:\n",
    "        print(f\"Could not connect to CoppeliaSim on port {port}: {e}\")\n",
    "        return None\n",
    "\n",
    "client = connect()\n",
    "sim = client.getObject('sim')"
   ]
  },
  {
   "cell_type": "markdown",
   "metadata": {},
   "source": [
    "<h3> 1. Suction cup control </h3>\n",
    "Function that allows you to activate or deactivate the suction cup of the Coppelia from Jupyter. There are instructions in the Coppelia suctionPad scripts that allow remote use. "
   ]
  },
  {
   "cell_type": "code",
   "execution_count": 6,
   "metadata": {},
   "outputs": [],
   "source": [
    "def setEffector(val):\n",
    "# function that triggers the end effector remotely\n",
    "# val is Int with value 0 or 1 to disable or activate the final actuator.\n",
    "    res,retInts,retFloats,retStrings,retBuffer=sim.simxCallScriptFunction(clientID,\n",
    "        \"suctionPad\", sim.sim_scripttype_childscript,\"setEffector\",[val],[],[],\"\", sim.simx_opmode_blocking)\n",
    "    return res"
   ]
  },
  {
   "cell_type": "markdown",
   "metadata": {},
   "source": [
    "<h3> 2. We get the handlers and take an object with the suction cup</h3>\n"
   ]
  },
  {
   "cell_type": "code",
   "execution_count": 7,
   "metadata": {},
   "outputs": [
    {
     "name": "stdout",
     "output_type": "stream",
     "text": [
      "conectado a 19999\n",
      "24 22 17 19 21\n"
     ]
    }
   ],
   "source": [
    "# We require the handlers for the joints, the suction cup and the suction sensor (Allows to know if the object is nearby)\n",
    "clientID = connect(19999)\n",
    "\n",
    "retCode,tip=sim.simxGetObjectHandle(clientID,'suctionPadSensor',sim.simx_opmode_blocking)\n",
    "retCode,suction=sim.simxGetObjectHandle(clientID,'suctionPad',sim.simx_opmode_blocking)\n",
    "retCode,joint1=sim.simxGetObjectHandle(clientID,'Joint1',sim.simx_opmode_blocking)\n",
    "retCode,joint2=sim.simxGetObjectHandle(clientID,'Joint2',sim.simx_opmode_blocking)\n",
    "retCode,joint3=sim.simxGetObjectHandle(clientID,'Joint3',sim.simx_opmode_blocking)\n",
    "print(tip, suction, joint1, joint2, joint3)"
   ]
  },
  {
   "cell_type": "code",
   "execution_count": 9,
   "metadata": {},
   "outputs": [
    {
     "data": {
      "text/latex": [
       "$\\displaystyle 0$"
      ],
      "text/plain": [
       "0"
      ]
     },
     "execution_count": 9,
     "metadata": {},
     "output_type": "execute_result"
    }
   ],
   "source": [
    "# We deactivate the final actuator (suction cup)\n",
    "setEffector(0)"
   ]
  },
  {
   "cell_type": "code",
   "execution_count": 10,
   "metadata": {},
   "outputs": [],
   "source": [
    "# We send the positions to the joints, the first two in radians\n",
    "\n",
    "q = [0, 0, 0.13] #posición Home and Collected Prism (Suction Cup Up)\n",
    "\n",
    "retCode = sim.simxSetJointTargetPosition(clientID, joint1, q[0], sim.simx_opmode_oneshot)\n",
    "retCode = sim.simxSetJointTargetPosition(clientID, joint2, q[1], sim.simx_opmode_oneshot)\n",
    "retCode = sim.simxSetJointTargetPosition(clientID, joint3, q[2], sim.simx_opmode_oneshot)\n"
   ]
  },
  {
   "cell_type": "code",
   "execution_count": 11,
   "metadata": {},
   "outputs": [],
   "source": [
    "# We lower the suction cup to the object to be taken, without causing a collision (we place it aprox 1 mm above)\n",
    "\n",
    "q = [0, 0, -0.089] \n",
    "\n",
    "retCode = sim.simxSetJointTargetPosition(clientID, joint1, q[0], sim.simx_opmode_oneshot)\n",
    "retCode = sim.simxSetJointTargetPosition(clientID, joint2, q[1], sim.simx_opmode_oneshot)\n",
    "retCode = sim.simxSetJointTargetPosition(clientID, joint3, q[2], sim.simx_opmode_oneshot)"
   ]
  },
  {
   "cell_type": "code",
   "execution_count": 12,
   "metadata": {},
   "outputs": [
    {
     "data": {
      "text/latex": [
       "$\\displaystyle 0$"
      ],
      "text/plain": [
       "0"
      ]
     },
     "execution_count": 12,
     "metadata": {},
     "output_type": "execute_result"
    }
   ],
   "source": [
    "# We activate the final actuator (suction cup), it has to suck the object\n",
    "setEffector(1)"
   ]
  },
  {
   "cell_type": "code",
   "execution_count": 13,
   "metadata": {},
   "outputs": [],
   "source": [
    "# We move the Object to a position, remember that it is in Radians\n",
    "q = [0.3, 0.3, 0.13]\n",
    "\n",
    "retCode = sim.simxSetJointTargetPosition(clientID, joint1, q[0], sim.simx_opmode_oneshot)\n",
    "retCode = sim.simxSetJointTargetPosition(clientID, joint2, q[1], sim.simx_opmode_oneshot)\n",
    "retCode = sim.simxSetJointTargetPosition(clientID, joint3, q[2], sim.simx_opmode_oneshot)"
   ]
  },
  {
   "cell_type": "code",
   "execution_count": 14,
   "metadata": {},
   "outputs": [
    {
     "data": {
      "text/latex": [
       "$\\displaystyle 0$"
      ],
      "text/plain": [
       "0"
      ]
     },
     "execution_count": 14,
     "metadata": {},
     "output_type": "execute_result"
    }
   ],
   "source": [
    "# we deactivate the final actuator (suction cup), we drop the piece\n",
    "setEffector(0)"
   ]
  },
  {
   "cell_type": "code",
   "execution_count": 15,
   "metadata": {},
   "outputs": [
    {
     "name": "stdout",
     "output_type": "stream",
     "text": [
      "[0.35615992546081543, 0.17195305228233337, 0.1369566023349762]\n"
     ]
    }
   ],
   "source": [
    "# y verificamos la posición del actuador\n",
    "retCode,pos=sim.simxGetObjectPosition(clientID, tip, -1, sim.simx_opmode_blocking)\n",
    "print(pos)"
   ]
  },
  {
   "cell_type": "markdown",
   "metadata": {},
   "source": [
    "<h3> 3. We prepare the Inverse Kinematics equations of our robot model. This was done in the previous session</h3>\n",
    "Remember this Translation Matrix:<br>\n",
    "<img src=\"ScaraManIK.png\" width=\"500\"><br>"
   ]
  },
  {
   "cell_type": "code",
   "execution_count": 151,
   "metadata": {},
   "outputs": [],
   "source": [
    "# we prepare the equations by transforming the expressions\n",
    "# from the form <expression = value> to the form <expression - value> = 0"
   ]
  },
  {
   "cell_type": "code",
   "execution_count": 16,
   "metadata": {},
   "outputs": [],
   "source": [
    "# We define a destination point of the red piece (0.3,0.1, -0.089)\n",
    "x = 0.21\n",
    "y = 0.21\n",
    "z = 0.02 #Esta is the height at which we have to take the piece"
   ]
  },
  {
   "cell_type": "code",
   "execution_count": 17,
   "metadata": {},
   "outputs": [
    {
     "data": {
      "text/latex": [
       "$\\displaystyle 0.2 \\operatorname{cos}\\left(\\theta_{1} + \\theta_{2}\\right) + 0.2 \\operatorname{cos}\\left(\\theta_{1}\\right) - 0.21$"
      ],
      "text/plain": [
       "0.2*cos(theta1 + theta2) + 0.2*cos(theta1) - 0.21"
      ]
     },
     "execution_count": 17,
     "metadata": {},
     "output_type": "execute_result"
    }
   ],
   "source": [
    "# eq1 is the one that gives us the value of the position X (eq=f(x)-x=0)\n",
    "\n",
    "eq1 = 0.2 * cos(theta1) + 0.2 * cos(theta1 + theta2) - x\n",
    "eq1"
   ]
  },
  {
   "cell_type": "code",
   "execution_count": 18,
   "metadata": {},
   "outputs": [
    {
     "data": {
      "text/latex": [
       "$\\displaystyle 0.2 \\operatorname{sin}\\left(\\theta_{1} + \\theta_{2}\\right) + 0.2 \\operatorname{sin}\\left(\\theta_{1}\\right) - 0.21$"
      ],
      "text/plain": [
       "0.2*sin(theta1 + theta2) + 0.2*sin(theta1) - 0.21"
      ]
     },
     "execution_count": 18,
     "metadata": {},
     "output_type": "execute_result"
    }
   ],
   "source": [
    "# eq2 is the one that gives us the value of the position Y (eq=f(y)-y=0)\n",
    "eq2 = (0.2 * sin(theta1) + 0.2 * sin(theta1 + theta2)) - y\n",
    "eq2"
   ]
  },
  {
   "cell_type": "code",
   "execution_count": 19,
   "metadata": {},
   "outputs": [
    {
     "data": {
      "text/latex": [
       "$\\displaystyle 0.088 - d_{3}$"
      ],
      "text/plain": [
       "0.088 - d3"
      ]
     },
     "execution_count": 19,
     "metadata": {},
     "output_type": "execute_result"
    }
   ],
   "source": [
    "# eq3 is the one that gives us the value of the position Z (eq=f(z)-z=0)   0.108 is the real height of manipulator\n",
    "eq3 = 0.108 - d3 - z\n",
    "eq3"
   ]
  },
  {
   "cell_type": "code",
   "execution_count": 20,
   "metadata": {},
   "outputs": [
    {
     "name": "stdout",
     "output_type": "stream",
     "text": [
      "Matrix([[0.0513401678359322], [1.46811599112303], [0.0880000000000000]])\n"
     ]
    }
   ],
   "source": [
    "# Use the nsolve function to solve the matrices (remember that it gives the result in radians)\n",
    "q=nsolve((eq1,eq2,eq3),(theta1,theta2,d3),(1,1,1))\n",
    "print(q)"
   ]
  },
  {
   "cell_type": "markdown",
   "metadata": {},
   "source": [
    "<h3> 4. We send previously calculated angles to each axis</h3>"
   ]
  },
  {
   "cell_type": "code",
   "execution_count": 21,
   "metadata": {},
   "outputs": [],
   "source": [
    "retCode = sim.simxSetJointTargetPosition(clientID, joint1, q[0], sim.simx_opmode_oneshot)\n",
    "retCode = sim.simxSetJointTargetPosition(clientID, joint2, q[1], sim.simx_opmode_oneshot)\n"
   ]
  },
  {
   "cell_type": "markdown",
   "metadata": {},
   "source": [
    "<h3> We can check in Coppelia that it is located just above the red object <br>\n",
    "<img src=\"red.png\" width=\"500\">"
   ]
  },
  {
   "cell_type": "code",
   "execution_count": 22,
   "metadata": {},
   "outputs": [],
   "source": [
    "# Now we can go down to pick up the object. You have to take it approx 1mm above its surface\n",
    "retCode = sim.simxSetJointTargetPosition(clientID, joint3, -q[2], sim.simx_opmode_oneshot)"
   ]
  },
  {
   "cell_type": "code",
   "execution_count": 23,
   "metadata": {},
   "outputs": [],
   "source": [
    "# Now I buid a seguence of movements\n",
    "import time\n",
    "setEffector(1)\n",
    "time.sleep(1)\n",
    "retCode = sim.simxSetJointTargetPosition(clientID, joint3, 0.13, sim.simx_opmode_oneshot)\n",
    "time.sleep(1)\n",
    "retCode = sim.simxSetJointTargetPosition(clientID, joint1, 0, sim.simx_opmode_oneshot)\n",
    "retCode = sim.simxSetJointTargetPosition(clientID, joint2, 0, sim.simx_opmode_oneshot)\n",
    "time.sleep(1)\n",
    "retCode = sim.simxSetJointTargetPosition(clientID, joint3, -0.088, sim.simx_opmode_oneshot)\n",
    "time.sleep(1)\n",
    "setEffector(0)\n",
    "time.sleep(1)\n",
    "retCode = sim.simxSetJointTargetPosition(clientID, joint3, 0.13, sim.simx_opmode_oneshot)\n"
   ]
  },
  {
   "cell_type": "code",
   "execution_count": null,
   "metadata": {},
   "outputs": [],
   "source": []
  },
  {
   "cell_type": "code",
   "execution_count": null,
   "metadata": {},
   "outputs": [],
   "source": []
  },
  {
   "cell_type": "markdown",
   "metadata": {},
   "source": [
    "<h3> 5. Build a sequence of movements </h3>\n",
    "\n",
    "#### Using the procedure for calculating inverse kinematics and the time library, try to place the three existing objects on top of each other.\n",
    "<br>- Note1: we can get the position of each object with \n",
    "<br> retCode,pos=sim.simxGetObjectPosition(clientID, nombre_del_objeto, -1, sim.simx_opmode_blocking)\n",
    "<br> print(pos)\n"
   ]
  },
  {
   "cell_type": "code",
   "execution_count": null,
   "metadata": {},
   "outputs": [],
   "source": []
  },
  {
   "cell_type": "code",
   "execution_count": null,
   "metadata": {},
   "outputs": [],
   "source": []
  },
  {
   "cell_type": "markdown",
   "metadata": {},
   "source": []
  },
  {
   "cell_type": "code",
   "execution_count": null,
   "metadata": {},
   "outputs": [],
   "source": []
  }
 ],
 "metadata": {
  "kernelspec": {
   "display_name": "Python 3 (ipykernel)",
   "language": "python",
   "name": "python3"
  },
  "language_info": {
   "codemirror_mode": {
    "name": "ipython",
    "version": 3
   },
   "file_extension": ".py",
   "mimetype": "text/x-python",
   "name": "python",
   "nbconvert_exporter": "python",
   "pygments_lexer": "ipython3",
   "version": "3.10.16"
  }
 },
 "nbformat": 4,
 "nbformat_minor": 4
}
