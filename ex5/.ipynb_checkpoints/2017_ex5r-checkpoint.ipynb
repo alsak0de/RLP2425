{
 "cells": [
  {
   "cell_type": "markdown",
   "metadata": {},
   "source": [
    "<h2> Session 5.1 Inverse kinematics in CoppeliaSim with suction cup type manipulator</h2>\n",
    "\n",
    "<br>- It requires that the files 'sim.py', 'simConst.py', 'remoteapi.dll' are hosted in the same folder as this Jupyter notebook. It also requires using the attached scene: RobotScaraManIK.ttt where a Scara robot appears, cylindrical primitives and a pneumatic actuator (suction cup) preprogrammed to pick up and down elements.\n",
    "\n",
    "<br>- You have in the folder attached to the session these files ( guideactivitys5.zip )\n",
    "\n",
    "#### You can follow this video to perform the guided part of the exercise:\n"
   ]
  },
  {
   "cell_type": "code",
   "execution_count": 95,
   "metadata": {},
   "outputs": [
    {
     "data": {
      "image/jpeg": "[encoded data removed]",
      "text/html": [
       "\n",
       "        <iframe\n",
       "            width=\"400\"\n",
       "            height=\"300\"\n",
       "            src=\"https://www.youtube.com/embed/RmZZ2ZXt43U\"\n",
       "            frameborder=\"0\"\n",
       "            allowfullscreen\n",
       "            \n",
       "        ></iframe>\n",
       "        "
      ],
      "text/plain": [
       "<IPython.lib.display.YouTubeVideo at 0x1128e3460>"
      ]
     },
     "execution_count": 95,
     "metadata": {},
     "output_type": "execute_result"
    }
   ],
   "source": [
    "from IPython.display import YouTubeVideo\n",
    "\n",
    "YouTubeVideo('RmZZ2ZXt43U')"
   ]
  },
  {
   "cell_type": "markdown",
   "metadata": {},
   "source": [
    "<br><h4> Remember:</h4>\n",
    "<br>1. Open the scene RobotScaraManIK.ttt\n",
    "<br>2. Check that in the scene hierarchy there are several scripts: in the base to connect to the Jupyter and in the Suction Cup (SuctionPad) there are two scripts to force from Jupyter its activation / deactivation. \n",
    "<br>3.Remember that the Coppelia scene must be in PLAY to be controlled from Jupyter.\n",
    "\n",
    "\n",
    "<br><h4> Important notes: </h4>\n",
    "\n",
    "1 Remember that the dynamic behavior of Joint 1 and 2 of the Scara del Coppelia ranges from -180º to 180º. And that in the Coppelia program you can see the data in degrees but that from the Jupyter you have to send the data in Radians.\n",
    "\n",
    "2 Remember that the code can be improved by reducing the accuracy of nsolve and give a warning if there is no solution \n",
    "\n"
   ]
  },
  {
   "cell_type": "code",
   "execution_count": 96,
   "metadata": {},
   "outputs": [],
   "source": [
    "# We import the necessary libraries\n",
    "#import sim           # library to connect with CoppeliaSim\n",
    "import sympy as sp   # library for symbolic calculation\n",
    "import numpy as np\n",
    "from sympy import *\n",
    "from sympy import cos, sin "
   ]
  },
  {
   "cell_type": "code",
   "execution_count": 97,
   "metadata": {},
   "outputs": [],
   "source": [
    "from sympy.physics.vector import init_vprinting\n",
    "init_vprinting(use_latex='mathjax', pretty_print=False)"
   ]
  },
  {
   "cell_type": "code",
   "execution_count": 98,
   "metadata": {},
   "outputs": [
    {
     "data": {
      "text/latex": [
       "$\\displaystyle \\left( \\theta_{1}, \\  \\theta_{2}, \\  d_{3}, \\  lc, \\  la, \\  lb, \\  \\theta, \\  \\alpha, \\  a, \\  d\\right)$"
      ],
      "text/plain": [
       "(theta1, theta2, d3, lc, la, lb, theta, alpha, a, d)"
      ]
     },
     "execution_count": 98,
     "metadata": {},
     "output_type": "execute_result"
    }
   ],
   "source": [
    "from sympy.physics.mechanics import dynamicsymbols\n",
    "theta1, theta2, d3, lc, la, lb, theta, alpha, a, d = dynamicsymbols('theta1 theta2 d3 lc la lb theta alpha a d')\n",
    "theta1, theta2, d3, lc, la, lb, theta, alpha, a, d "
   ]
  },
  {
   "cell_type": "markdown",
   "metadata": {},
   "source": [
    "### 0. We establish the connection\n",
    "We will use the functions of the COPPELIA Remote API."
   ]
  },
  {
   "cell_type": "code",
   "execution_count": 99,
   "metadata": {},
   "outputs": [
    {
     "name": "stdout",
     "output_type": "stream",
     "text": [
      "Connected to CoppeliaSim on port 23000\n"
     ]
    }
   ],
   "source": [
    "import coppeliasim_zmqremoteapi_client\n",
    "from coppeliasim_zmqremoteapi_client import RemoteAPIClient\n",
    "\n",
    "\n",
    "def connect(port=23000):\n",
    "    try:\n",
    "        client = RemoteAPIClient('127.0.0.1', port)\n",
    "        print(f\"Connected to CoppeliaSim on port {port}\")\n",
    "        return client\n",
    "    except Exception as e:\n",
    "        print(f\"Could not connect to CoppeliaSim on port {port}: {e}\")\n",
    "        return None\n",
    "\n",
    "client = connect()\n",
    "sim = client.getObject('sim')"
   ]
  },
  {
   "cell_type": "markdown",
   "metadata": {},
   "source": [
    "<h3> 1. Suction cup control </h3>\n",
    "Function that allows you to activate or deactivate the suction cup of the Coppelia from Jupyter. There are instructions in the Coppelia suctionPad scripts that allow remote use. "
   ]
  },
  {
   "cell_type": "code",
   "execution_count": 100,
   "metadata": {},
   "outputs": [],
   "source": [
    "def setEffector(val):\n",
    "    # function that triggers the end effector remotely\n",
    "    # val is Int with value 0 or 1 to disable or activate the final actuator.\n",
    "    scriptHandle = sim.getScriptHandle('suctionPad')\n",
    "    sim.callScriptFunction('setEffector', scriptHandle, [val])\n",
    "    return True"
   ]
  },
  {
   "cell_type": "markdown",
   "metadata": {},
   "source": [
    "<h3> 2. We get the handlers and take an object with the suction cup</h3>\n"
   ]
  },
  {
   "cell_type": "code",
   "execution_count": 101,
   "metadata": {},
   "outputs": [
    {
     "name": "stdout",
     "output_type": "stream",
     "text": [
      "24 22 17 19 21\n"
     ]
    }
   ],
   "source": [
    "# We require the handlers for the joints, the suction cup and the suction sensor\n",
    "tip = sim.getObjectHandle('suctionPadSensor')\n",
    "suction = sim.getObjectHandle('suctionPad')\n",
    "joint1 = sim.getObjectHandle('Joint1')\n",
    "joint2 = sim.getObjectHandle('Joint2')\n",
    "joint3 = sim.getObjectHandle('Joint3')\n",
    "print(tip, suction, joint1, joint2, joint3)"
   ]
  },
  {
   "cell_type": "code",
   "execution_count": 102,
   "metadata": {},
   "outputs": [
    {
     "data": {
      "text/plain": [
       "True"
      ]
     },
     "execution_count": 102,
     "metadata": {},
     "output_type": "execute_result"
    }
   ],
   "source": [
    "# We deactivate the final actuator (suction cup)\n",
    "setEffector(0)"
   ]
  },
  {
   "cell_type": "code",
   "execution_count": 103,
   "metadata": {},
   "outputs": [
    {
     "data": {
      "text/latex": [
       "$\\displaystyle 1$"
      ],
      "text/plain": [
       "1"
      ]
     },
     "execution_count": 103,
     "metadata": {},
     "output_type": "execute_result"
    }
   ],
   "source": [
    "# We send the positions to the joints, the first two in radians\n",
    "\n",
    "q = [0, 0, 0.13] #posición Home and Collected Prism (Suction Cup Up)\n",
    "\n",
    "sim.setJointTargetPosition(joint1, q[0])\n",
    "sim.setJointTargetPosition(joint2, q[1])\n",
    "sim.setJointTargetPosition(joint3, q[2])"
   ]
  },
  {
   "cell_type": "code",
   "execution_count": 104,
   "metadata": {},
   "outputs": [
    {
     "data": {
      "text/latex": [
       "$\\displaystyle 1$"
      ],
      "text/plain": [
       "1"
      ]
     },
     "execution_count": 104,
     "metadata": {},
     "output_type": "execute_result"
    }
   ],
   "source": [
    "# We lower the suction cup to the object to be taken, without causing a collision (we place it aprox 1 mm above)\n",
    "\n",
    "q = [0, 0, -0.089] \n",
    "\n",
    "sim.setJointTargetPosition(joint1, q[0])\n",
    "sim.setJointTargetPosition(joint2, q[1])\n",
    "sim.setJointTargetPosition(joint3, q[2])"
   ]
  },
  {
   "cell_type": "code",
   "execution_count": 105,
   "metadata": {},
   "outputs": [
    {
     "data": {
      "text/plain": [
       "True"
      ]
     },
     "execution_count": 105,
     "metadata": {},
     "output_type": "execute_result"
    }
   ],
   "source": [
    "# We activate the final actuator (suction cup), it has to suck the object\n",
    "setEffector(1)"
   ]
  },
  {
   "cell_type": "code",
   "execution_count": 106,
   "metadata": {},
   "outputs": [
    {
     "data": {
      "text/latex": [
       "$\\displaystyle 1$"
      ],
      "text/plain": [
       "1"
      ]
     },
     "execution_count": 106,
     "metadata": {},
     "output_type": "execute_result"
    }
   ],
   "source": [
    "# We move the Object to a position, remember that it is in Radians\n",
    "q = [0.3, 0.3, 0.13]\n",
    "\n",
    "sim.setJointTargetPosition(joint1, q[0])\n",
    "sim.setJointTargetPosition(joint2, q[1])\n",
    "sim.setJointTargetPosition(joint3, q[2])"
   ]
  },
  {
   "cell_type": "code",
   "execution_count": 107,
   "metadata": {},
   "outputs": [
    {
     "data": {
      "text/plain": [
       "True"
      ]
     },
     "execution_count": 107,
     "metadata": {},
     "output_type": "execute_result"
    }
   ],
   "source": [
    "# we deactivate the final actuator (suction cup), we drop the piece\n",
    "setEffector(0)"
   ]
  },
  {
   "cell_type": "code",
   "execution_count": 108,
   "metadata": {},
   "outputs": [
    {
     "name": "stdout",
     "output_type": "stream",
     "text": [
      "[0.3600059325092991, 0.1647024447979365, 0.13685367087208497]\n"
     ]
    }
   ],
   "source": [
    "# y verificamos la posición del actuador\n",
    "pos = sim.getObjectPosition(tip, -1)\n",
    "print(pos)"
   ]
  },
  {
   "cell_type": "markdown",
   "metadata": {},
   "source": [
    "<h3> 3. We prepare the Inverse Kinematics equations of our robot model. This was done in the previous session</h3>\n",
    "Remember this Translation Matrix:<br>\n",
    "<img src=\"ScaraManIK.png\" width=\"500\"><br>"
   ]
  },
  {
   "cell_type": "code",
   "execution_count": 109,
   "metadata": {},
   "outputs": [],
   "source": [
    "# we prepare the equations by transforming the expressions\n",
    "# from the form <expression = value> to the form <expression - value> = 0"
   ]
  },
  {
   "cell_type": "code",
   "execution_count": 110,
   "metadata": {},
   "outputs": [],
   "source": [
    "# We define a destination point of the red piece (0.3,0.1, -0.089)\n",
    "x = 0.21\n",
    "y = 0.21\n",
    "z = 0.02 #Esta is the height at which we have to take the piece"
   ]
  },
  {
   "cell_type": "code",
   "execution_count": 111,
   "metadata": {},
   "outputs": [
    {
     "data": {
      "text/latex": [
       "$\\displaystyle 0.2 \\cos{\\left(\\theta_{1} + \\theta_{2} \\right)} + 0.2 \\cos{\\left(\\theta_{1} \\right)} - 0.21$"
      ],
      "text/plain": [
       "0.2*cos(theta1 + theta2) + 0.2*cos(theta1) - 0.21"
      ]
     },
     "execution_count": 111,
     "metadata": {},
     "output_type": "execute_result"
    }
   ],
   "source": [
    "# eq1 is the one that gives us the value of the position X (eq=f(x)-x=0)\n",
    "\n",
    "eq1 = 0.2 * cos(theta1) + 0.2 * cos(theta1 + theta2) - x\n",
    "eq1"
   ]
  },
  {
   "cell_type": "code",
   "execution_count": 112,
   "metadata": {},
   "outputs": [
    {
     "data": {
      "text/latex": [
       "$\\displaystyle 0.2 \\sin{\\left(\\theta_{1} + \\theta_{2} \\right)} + 0.2 \\sin{\\left(\\theta_{1} \\right)} - 0.21$"
      ],
      "text/plain": [
       "0.2*sin(theta1 + theta2) + 0.2*sin(theta1) - 0.21"
      ]
     },
     "execution_count": 112,
     "metadata": {},
     "output_type": "execute_result"
    }
   ],
   "source": [
    "# eq2 is the one that gives us the value of the position Y (eq=f(y)-y=0)\n",
    "eq2 = (0.2 * sin(theta1) + 0.2 * sin(theta1 + theta2)) - y\n",
    "eq2"
   ]
  },
  {
   "cell_type": "code",
   "execution_count": 113,
   "metadata": {},
   "outputs": [
    {
     "data": {
      "text/latex": [
       "$\\displaystyle 0.088 - d_{3}$"
      ],
      "text/plain": [
       "0.088 - d3"
      ]
     },
     "execution_count": 113,
     "metadata": {},
     "output_type": "execute_result"
    }
   ],
   "source": [
    "# eq3 is the one that gives us the value of the position Z (eq=f(z)-z=0)   0.108 is the real height of manipulator\n",
    "eq3 = 0.108 - d3 - z\n",
    "eq3"
   ]
  },
  {
   "cell_type": "code",
   "execution_count": 114,
   "metadata": {},
   "outputs": [
    {
     "name": "stdout",
     "output_type": "stream",
     "text": [
      "Matrix([[0.0513401678359322], [1.46811599112303], [0.0880000000000000]])\n"
     ]
    }
   ],
   "source": [
    "# Use the nsolve function to solve the matrices (remember that it gives the result in radians)\n",
    "q=nsolve((eq1,eq2,eq3),(theta1,theta2,d3),(1,1,1))\n",
    "print(q)"
   ]
  },
  {
   "cell_type": "markdown",
   "metadata": {},
   "source": [
    "<h3> 4. We send previously calculated angles to each axis</h3>"
   ]
  },
  {
   "cell_type": "code",
   "execution_count": 115,
   "metadata": {},
   "outputs": [
    {
     "data": {
      "text/latex": [
       "$\\displaystyle 1$"
      ],
      "text/plain": [
       "1"
      ]
     },
     "execution_count": 115,
     "metadata": {},
     "output_type": "execute_result"
    }
   ],
   "source": [
    "# Convert symbolic/matrix values to float\n",
    "q0 = float(q[0])\n",
    "q1 = float(q[1])\n",
    "\n",
    "sim.setJointTargetPosition(joint1, q0)\n",
    "sim.setJointTargetPosition(joint2, q1)\n"
   ]
  },
  {
   "cell_type": "markdown",
   "metadata": {},
   "source": [
    "<h3> We can check in Coppelia that it is located just above the red object <br>\n",
    "<img src=\"red.png\" width=\"500\">"
   ]
  },
  {
   "cell_type": "code",
   "execution_count": 116,
   "metadata": {},
   "outputs": [],
   "source": [
    "# Funciones para movimientos suaves con alturas ajustadas\n",
    "def move_z_smooth(target_pos, steps=20):  # Aumentamos los steps para más suavidad\n",
    "    current_pos = sim.getJointPosition(joint3)\n",
    "    step_size = (target_pos - current_pos) / steps\n",
    "    \n",
    "    for i in range(steps):\n",
    "        next_pos = current_pos + step_size * (i + 1)\n",
    "        sim.setJointTargetPosition(joint3, next_pos)\n",
    "        time.sleep(0.05)  # Reducimos el tiempo entre pasos para un movimiento más fluido\n",
    "\n",
    "def pickup_smooth(x, y, z):\n",
    "    # Posicionamos primero en XY\n",
    "    sim.setJointTargetPosition(joint1, x)\n",
    "    sim.setJointTargetPosition(joint2, y)\n",
    "    time.sleep(1)  # Esperamos a que llegue a posición\n",
    "    \n",
    "    # Primero bajamos a una altura de pre-aproximación\n",
    "    move_z_smooth(-0.085)  # Volvemos a la altura original de aproximación\n",
    "    time.sleep(0.5)\n",
    "    \n",
    "    # Bajamos el último tramo más lentamente\n",
    "    move_z_smooth(-0.089)  # Altura original para recoger el disco\n",
    "    time.sleep(0.5)\n",
    "    \n",
    "    # Activamos la ventosa\n",
    "    setEffector(1)\n",
    "    time.sleep(0.7)  # Damos más tiempo para asegurar el agarre\n",
    "    \n",
    "    # Subimos suavemente en dos etapas\n",
    "    move_z_smooth(-0.070)  # Primero una pequeña elevación\n",
    "    time.sleep(0.3)\n",
    "    move_z_smooth(0.13)    # Luego subida completa\n",
    "\n",
    "def place_smooth(x, y, z):\n",
    "    # Posicionamos en XY\n",
    "    sim.setJointTargetPosition(joint1, x)\n",
    "    sim.setJointTargetPosition(joint2, y)\n",
    "    time.sleep(1)\n",
    "    \n",
    "    # Bajamos en etapas, teniendo en cuenta la altura del disco base\n",
    "    move_z_smooth(-0.070)  # Primera altura de aproximación\n",
    "    time.sleep(0.5)\n",
    "    \n",
    "    # La altura final debe ser la altura del disco base (-0.089) más el grosor del disco (aprox. 0.02)\n",
    "    move_z_smooth(-0.069)  # Ajustamos para quedar justo encima del disco base\n",
    "    time.sleep(0.7)  # Más tiempo para estabilizar\n",
    "    \n",
    "    # Desactivamos la ventosa\n",
    "    setEffector(0)\n",
    "    time.sleep(0.5)\n",
    "    \n",
    "    # Subimos primero un poco y luego completamente\n",
    "    move_z_smooth(-0.060)\n",
    "    time.sleep(0.3)\n",
    "    move_z_smooth(0.13)"
   ]
  },
  {
   "cell_type": "code",
   "execution_count": 117,
   "metadata": {},
   "outputs": [],
   "source": [
    "# Now we can go down to pick up the object. You have to take it approx 1mm above its surface\n",
    "q2 = float(q[2])  # Convert symbolic/matrix value to float\n",
    "#sim.setJointTargetPosition(joint3, -q2)\n",
    "# Now we can go down to pick up the object with smooth movement\n",
    "q2 = float(q[2])  # Convert symbolic/matrix value to float\n",
    "pickup_smooth(float(q[0]), float(q[1]), -q2)"
   ]
  },
  {
   "cell_type": "code",
   "execution_count": 71,
   "metadata": {},
   "outputs": [],
   "source": [
    "# Now we build a sequence of movements with smooth control\n",
    "import time\n",
    "\n",
    "# Movemos a la posición de depositado\n",
    "place_smooth(0, 0, 0.13)\n",
    "\n",
    "# Si queremos hacer otra secuencia de movimientos, podemos encadenarlos:\n",
    "time.sleep(1)  # Pausa entre secuencias\n",
    "\n",
    "# Ejemplo de otra secuencia (opcional)\n",
    "pickup_smooth(0.3, 0.3, 0.13)\n",
    "time.sleep(1)\n",
    "place_smooth(0, 0, -0.088)"
   ]
  },
  {
   "cell_type": "code",
   "execution_count": 46,
   "metadata": {},
   "outputs": [
    {
     "data": {
      "text/latex": [
       "$\\displaystyle 1$"
      ],
      "text/plain": [
       "1"
      ]
     },
     "execution_count": 46,
     "metadata": {},
     "output_type": "execute_result"
    }
   ],
   "source": [
    "# Now I build a sequence of movements\n",
    "import time\n",
    "\n",
    "setEffector(1)\n",
    "time.sleep(1)\n",
    "\n",
    "sim.setJointTargetPosition(joint3, 0.13)\n",
    "time.sleep(1)\n",
    "\n",
    "sim.setJointTargetPosition(joint1, 0)\n",
    "sim.setJointTargetPosition(joint2, 0)\n",
    "time.sleep(1)\n",
    "\n",
    "sim.setJointTargetPosition(joint3, -0.088)\n",
    "time.sleep(1)\n",
    "\n",
    "setEffector(0)\n",
    "time.sleep(1)\n",
    "\n",
    "sim.setJointTargetPosition(joint3, 0.13)\n"
   ]
  },
  {
   "cell_type": "code",
   "execution_count": null,
   "metadata": {},
   "outputs": [],
   "source": []
  },
  {
   "cell_type": "code",
   "execution_count": null,
   "metadata": {},
   "outputs": [],
   "source": []
  },
  {
   "cell_type": "markdown",
   "metadata": {},
   "source": [
    "<h3> 5. Build a sequence of movements </h3>\n",
    "\n",
    "#### Using the procedure for calculating inverse kinematics and the time library, try to place the three existing objects on top of each other.\n",
    "<br>- Note1: we can get the position of each object with \n",
    "<br> retCode,pos=sim.simxGetObjectPosition(clientID, nombre_del_objeto, -1, sim.simx_opmode_blocking)\n",
    "<br> print(pos)\n"
   ]
  },
  {
   "cell_type": "code",
   "execution_count": null,
   "metadata": {},
   "outputs": [],
   "source": []
  },
  {
   "cell_type": "code",
   "execution_count": null,
   "metadata": {},
   "outputs": [],
   "source": []
  },
  {
   "cell_type": "markdown",
   "metadata": {},
   "source": []
  },
  {
   "cell_type": "code",
   "execution_count": null,
   "metadata": {},
   "outputs": [],
   "source": []
  }
 ],
 "metadata": {
  "kernelspec": {
   "display_name": "Python 3 (ipykernel)",
   "language": "python",
   "name": "python3"
  },
  "language_info": {
   "codemirror_mode": {
    "name": "ipython",
    "version": 3
   },
   "file_extension": ".py",
   "mimetype": "text/x-python",
   "name": "python",
   "nbconvert_exporter": "python",
   "pygments_lexer": "ipython3",
   "version": "3.10.16"
  }
 },
 "nbformat": 4,
 "nbformat_minor": 4
}
