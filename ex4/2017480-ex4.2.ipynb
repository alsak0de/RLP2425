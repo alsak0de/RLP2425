{
 "cells": [
  {
   "cell_type": "markdown",
   "metadata": {},
   "source": [
    "<h3>Guided Acivity 4.2 Scara with Prismatic Manipulator</h3>\n",
    "\n",
    "In this Jupyter Notebook we are going to model a Scara Robot with a Prismatic Manipulator and as a final exercise you are going to make a connection to the Coppelia (this part is what we have done in class in guided activity 4.1)"
   ]
  },
  {
   "cell_type": "code",
   "execution_count": null,
   "metadata": {},
   "outputs": [],
   "source": [
    "# You have a Guided Video to help you perform exercise 4.1\n",
    "\n",
    "from IPython.display import YouTubeVideo\n",
    "\n",
    "YouTubeVideo('uTJgaM2UJSY') "
   ]
  },
  {
   "cell_type": "markdown",
   "metadata": {},
   "source": [
    "The image in the figure represents a SCARA robot studied in class and its D-H table.<br>\n",
    "<img src=\"scara.jpg\" width=\"500\"><br>\n",
    "From the parameters indicated in the image, we calculate the coordinate transformation matrices for each joint."
   ]
  },
  {
   "cell_type": "code",
   "execution_count": null,
   "metadata": {},
   "outputs": [],
   "source": [
    "# We import the libraries necessary to work\n",
    "import numpy as np\n",
    "import sympy as sp\n",
    "from sympy import *"
   ]
  },
  {
   "cell_type": "code",
   "execution_count": null,
   "metadata": {},
   "outputs": [],
   "source": [
    "from sympy.physics.vector import init_vprinting\n",
    "init_vprinting(use_latex='mathjax', pretty_print=False)"
   ]
  },
  {
   "cell_type": "code",
   "execution_count": null,
   "metadata": {},
   "outputs": [],
   "source": [
    "# we declare the symbols (lengths, variables, etc.) that will be used for a later formulation.\n",
    "\n",
    "from sympy.physics.mechanics import dynamicsymbols\n",
    "theta1, theta2, d3, lc, la, lb, theta, alpha, a, d = dynamicsymbols('theta1 theta2 d3 lc la lb theta alpha a d')\n",
    "theta1, theta2, d3, lc, la, lb, theta, alpha, a, d "
   ]
  },
  {
   "cell_type": "code",
   "execution_count": null,
   "metadata": {},
   "outputs": [],
   "source": [
    "# The standard homogeneous transformation matrix is represented as:\n",
    "\n",
    "rot = sp.Matrix([[sp.cos(theta), -sp.sin(theta)*sp.cos(alpha), sp.sin(theta)*sp.sin(alpha)],\n",
    "                 [sp.sin(theta), sp.cos(theta)*sp.cos(alpha), -sp.cos(theta)*sp.sin(alpha)],\n",
    "                 [0, sp.sin(alpha), sp.cos(alpha)]])\n",
    "\n",
    "trans = sp.Matrix([a*sp.cos(theta),a*sp.sin(theta),d])\n",
    "\n",
    "last_row = sp.Matrix([[0, 0, 0, 1]])\n",
    "\n",
    "m = sp.Matrix.vstack(sp.Matrix.hstack(rot, trans), last_row)\n",
    "m"
   ]
  },
  {
   "cell_type": "code",
   "execution_count": null,
   "metadata": {},
   "outputs": [],
   "source": [
    "# Transformation: 1st axis from '0' to '1'\n",
    "m01 = m.subs({ theta:theta1, d:lc, a:la , alpha:0})\n",
    "m01"
   ]
  },
  {
   "cell_type": "code",
   "execution_count": null,
   "metadata": {},
   "outputs": [],
   "source": [
    "# Transformation: 2nd axis from '1' to '2'\n",
    "# The 180° of Alpha must be converted to radians\n",
    "# problem with rounding to 0  http://research.iac.es/sieinvens/python-course/source/sympy.html\n",
    "m12  = m.subs({ theta:theta2, d:0,a:lb ,alpha:180*np.pi/180})\n",
    "N(m12,2)"
   ]
  },
  {
   "cell_type": "code",
   "execution_count": null,
   "metadata": {},
   "outputs": [],
   "source": [
    "# We solve Sympy's problem of rounding to 0 by directly assigning the value\n",
    "m12[0,2]=0\n",
    "m12[1,2]=0\n",
    "m12[2,1]=0  #remember the problem when rounding to 0 http://research.iac.es/sieinvens/python-course/source/sympy.html\n",
    "m12"
   ]
  },
  {
   "cell_type": "code",
   "execution_count": null,
   "metadata": {},
   "outputs": [],
   "source": [
    "# Transformation: 3rd axis from '2' to '3'\n",
    "m23 = m.subs({ theta:0, d:d3, a:0 ,alpha:0})\n",
    "m23"
   ]
  },
  {
   "cell_type": "code",
   "execution_count": null,
   "metadata": {},
   "outputs": [],
   "source": [
    "# Transformed Matrix of the Robot without simplifying\n",
    "m03 = (m01*m12*m23)\n",
    "m03"
   ]
  },
  {
   "cell_type": "markdown",
   "metadata": {},
   "source": [
    "The result is the same given in theory:<br>\n",
    "<img src=\"mbeescara.jpg\" width=\"500\"><br>"
   ]
  },
  {
   "cell_type": "code",
   "execution_count": null,
   "metadata": {},
   "outputs": [],
   "source": [
    "# We can simplify it more:\n",
    "mbee= sp.Matrix([[sp.trigsimp(m03[0,0].simplify()), sp.trigsimp(m03[0,1].simplify()), sp.trigsimp(m03[0,2].simplify()),sp.trigsimp(m03[0,3].simplify())],\n",
    "                 [sp.trigsimp(m03[1,0].simplify()), sp.trigsimp(m03[1,1].simplify()), sp.trigsimp(m03[1,2].simplify()),sp.trigsimp(m03[1,3].simplify())],\n",
    "                 [m03[2,0].simplify(), m03[2,1].simplify(), m03[2,2].simplify(),m03[2,3].simplify()],\n",
    "                 [m03[3,0].simplify(), m03[3,1].simplify(), m03[3,2].simplify(),m03[3,3].simplify()]])\n",
    "\n",
    "mbee\n",
    "    "
   ]
  },
  {
   "cell_type": "markdown",
   "metadata": {},
   "source": [
    "##  Checking that the values   (Forward Kinematics)"
   ]
  },
  {
   "cell_type": "code",
   "execution_count": null,
   "metadata": {},
   "outputs": [],
   "source": [
    "# We can check if it works by substituting some parameters to the robot values in Coppelia :\n",
    "# The lengths of the robot made in copelia are la:0.2,lb:0.2,   lc:0.1 (height of Robot)\n",
    "# Si por ejemplo ponemos que Theta1 son 0grados y Theta2 son 90grados y la d3 son 0.05\n",
    "mbee = mbee.subs({ theta1:0*np.pi/180, theta2:90*np.pi/180, la:0.2,lb:0.2,lc:0.1,d3:0.05})\n",
    "N(mbee,4)\n",
    "# Nos ha de dar la posición del manipulador a (0.2,0.2,0.05) "
   ]
  },
  {
   "cell_type": "markdown",
   "metadata": {},
   "source": [
    "## Now we are going to determine the Robot Work AREA, we will use the Plotly library.\n",
    "### This representation must be done in layers, initially we will assume the position of d3=0.1, thus we will draw the layer Z=0 and then d3=0 representing the layer Z=0.1\n"
   ]
  },
  {
   "cell_type": "code",
   "execution_count": null,
   "metadata": {},
   "outputs": [],
   "source": [
    "import numpy as np\n",
    "from plotly.offline import download_plotlyjs, init_notebook_mode, plot, iplot\n",
    "init_notebook_mode(connected=True) # for offline mode in Jupyter Notebook use\n",
    "import plotly.graph_objs as go\n",
    "from numpy import * \n",
    "from plotly.subplots import make_subplots\n",
    "\n",
    "la, lb, lc = 0.2,0.2,0.1  # arm length and height values\n",
    "theta1, theta2 = np.mgrid[-np.pi/2:np.pi/2:100j, -np.pi/2:np.pi/2:100j] # motors that can move from -90 to 90º\n",
    "\n",
    "x = la*cos(theta1) + lb*cos(theta1 + theta2)\n",
    "y = la*sin(theta1) + lb*sin(theta1 + theta2)\n",
    "z = y*0   # The initial area represented is in the layer Z=0 d3=0.1 --> Z=0.1-d3=0\n",
    "\n",
    "fig = make_subplots(rows=1, cols=1,\n",
    "                    specs=[[{'is_3d': True}]],\n",
    "                    subplot_titles=['WORK AREA FOR LAYERS d3=0.1 and d3=0'],\n",
    "                    )\n",
    "\n",
    "fig.add_trace(go.Surface(x=x, y=y, z=z, colorbar_x=-0.07))\n",
    "# The final area represented is in layer Z=0.1,d3=0 Z=0.1-d3=0.1\n",
    "fig.add_trace(go.Surface(x=x, y=y, z=z+0.1, colorbar_x=-0.07)) \n",
    "fig.update_layout(title_text=\"SCARA WITH PRISMATIC MANIPULATOR\")\n",
    "fig.show()"
   ]
  },
  {
   "cell_type": "markdown",
   "metadata": {},
   "source": [
    "##  Final exercise you are going to make a connection to the Coppelia using the API SIM (this part is what we have done in class in guided activity 4.1).\n",
    "\n",
    "\n"
   ]
  },
  {
   "cell_type": "markdown",
   "metadata": {},
   "source": [
    "### Import libraries"
   ]
  },
  {
   "cell_type": "code",
   "execution_count": null,
   "metadata": {},
   "outputs": [],
   "source": [
    "import coppeliasim_zmqremoteapi_client\n",
    "from coppeliasim_zmqremoteapi_client import RemoteAPIClient\n"
   ]
  },
  {
   "cell_type": "markdown",
   "metadata": {},
   "source": [
    "### 1. Establish the connection"
   ]
  },
  {
   "cell_type": "code",
   "execution_count": null,
   "metadata": {},
   "outputs": [],
   "source": [
    "def connect(port=23000):\n",
    "    try:\n",
    "        client = RemoteAPIClient('127.0.0.1', port)\n",
    "        sim = client.getObject('sim') # Careful! function is getObject now (capital O) \n",
    "        print(f\"Connected to CoppeliaSim on port {port}\")\n",
    "        return sim\n",
    "    except Exception as e:\n",
    "        print(f\"Could not connect to CoppeliaSim on port {port}: {e}\")\n",
    "        return None\n",
    "\n",
    "sim = connect()\n",
    "if sim:\n",
    "    print(\"Simulation time:\", sim.getSimulationTime())"
   ]
  },
  {
   "cell_type": "markdown",
   "metadata": {},
   "source": [
    "<h3> 2. Get the handlers </h3>"
   ]
  },
  {
   "cell_type": "code",
   "execution_count": null,
   "metadata": {},
   "outputs": [],
   "source": [
    "dummy = sim.getObject('/FinalEffector')\n",
    "print(f\"Dummy handle: {dummy}\")"
   ]
  },
  {
   "cell_type": "code",
   "execution_count": null,
   "metadata": {},
   "outputs": [],
   "source": [
    "pos = sim.getObjectPosition(dummy, -1)\n",
    "print(pos)"
   ]
  },
  {
   "cell_type": "markdown",
   "metadata": {},
   "source": [
    "<h3> 3. What is the position of the joints?</h3>"
   ]
  },
  {
   "cell_type": "code",
   "execution_count": null,
   "metadata": {},
   "outputs": [],
   "source": [
    "#New ZeroMQ code\n",
    "joint1 = sim.getObject('/joint1')\n",
    "joint2 = sim.getObject('/joint2')\n",
    "print(\"Joint handles:\", joint1, joint2)"
   ]
  },
  {
   "cell_type": "code",
   "execution_count": null,
   "metadata": {},
   "outputs": [],
   "source": [
    "angle1 = sim.getJointPosition(joint1)\n",
    "angle2 = sim.getJointPosition(joint2)\n",
    "\n",
    "print(f\"Joint 1 angle: {angle1:.2f} rad\")\n",
    "print(f\"Joint 2 angle: {angle2:.2f} rad\")"
   ]
  },
  {
   "cell_type": "markdown",
   "metadata": {},
   "source": [
    "<h3> 4. We move the robot  p.e. theta1=45  theta2=45 d3=0.07 </h3>"
   ]
  },
  {
   "cell_type": "code",
   "execution_count": null,
   "metadata": {},
   "outputs": [],
   "source": [
    "q1 = 45 * np.pi / 180  # convert to radians\n",
    "sim.setJointPosition(joint1, q1)\n",
    "print(\"Joint 1 target position set to\", q1)"
   ]
  },
  {
   "cell_type": "code",
   "execution_count": null,
   "metadata": {},
   "outputs": [],
   "source": [
    "q2 = 45 * np.pi / 180\n",
    "sim.setJointPosition(joint2, q2)\n",
    "print(\"Joint 1 target position set to\", q2)"
   ]
  },
  {
   "cell_type": "code",
   "execution_count": null,
   "metadata": {},
   "outputs": [],
   "source": [
    "pjoint = sim.getObject('/Prismatic_joint')\n",
    "print(\"Prismatic joint handle:\", pjoint)"
   ]
  },
  {
   "cell_type": "code",
   "execution_count": null,
   "metadata": {},
   "outputs": [],
   "source": [
    "sim.setJointPosition(pjoint, 0.07)"
   ]
  },
  {
   "cell_type": "code",
   "execution_count": null,
   "metadata": {},
   "outputs": [],
   "source": [
    "pos = sim.getObjectPosition(dummy, -1)\n",
    "print(pos)"
   ]
  },
  {
   "cell_type": "code",
   "execution_count": null,
   "metadata": {},
   "outputs": [],
   "source": []
  }
 ],
 "metadata": {
  "kernelspec": {
   "display_name": "Python 3 (ipykernel)",
   "language": "python",
   "name": "python3"
  },
  "language_info": {
   "codemirror_mode": {
    "name": "ipython",
    "version": 3
   },
   "file_extension": ".py",
   "mimetype": "text/x-python",
   "name": "python",
   "nbconvert_exporter": "python",
   "pygments_lexer": "ipython3",
   "version": "3.10.16"
  }
 },
 "nbformat": 4,
 "nbformat_minor": 4
}
