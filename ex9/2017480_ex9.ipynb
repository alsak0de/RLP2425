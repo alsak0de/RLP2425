{
 "cells": [
  {
   "cell_type": "code",
   "execution_count": 21,
   "id": "b77ef4d4-af77-4af2-8653-2dc7547c1b8a",
   "metadata": {},
   "outputs": [
    {
     "name": "stdout",
     "output_type": "stream",
     "text": [
      "Connected to CoppeliaSim on port 23000\n",
      "Joint handles: [16, 18, 20, 22, 24, 26]\n",
      "Vision sensor handle: 37\n",
      "Cube handles: [36, 38, 40, 39]\n",
      "Plane handles: [41, 42, 43, 44]\n",
      "Tots els objectes sota joints[2]:\n",
      "  section_2_respondable                                        pos=[-0.016207438437135974, -0.00029501344837337207, 0.12139939531272949]\n",
      "  section_2_visual                                             pos=[-0.01648544302534494, -0.00010779716239034276, 0.12134212350098234]\n",
      "  section_3_respondable                                        pos=[0.008601389281293281, 0.0022069182126360208, 0.1543183301908218]\n",
      "  section_3_visual                                             pos=[0.00807213241101848, 0.0004020915758351838, 0.15423647999106135]\n",
      "  holder_section_respondable                                   pos=[0.09035681973407468, 0.002981321320810546, 0.15645795430350076]\n",
      "  holder_section_visual                                        pos=[0.09101839976358564, 0.0025903797398557638, 0.15629293367347125]\n",
      "  holder_respondable                                           pos=[0.11987148718833421, -0.00691431603881343, 0.15548301880047274]\n",
      "  holder_visual                                                pos=[0.11988025855159887, -0.00688843333102027, 0.1555811326735469]\n",
      "  Dummy                                                        pos=[-0.016192198878645158, 0.0017358615556314007, 0.2713305121133721]\n"
     ]
    }
   ],
   "source": [
    "# Part 0 - Creeu un Jupyter notebooks i configureu una connexió amb l'escena Coppelia.\n",
    "import coppeliasim_zmqremoteapi_client\n",
    "from coppeliasim_zmqremoteapi_client import RemoteAPIClient\n",
    "import numpy as np\n",
    "\n",
    "def connect(port=23000):\n",
    "    try:\n",
    "        client = RemoteAPIClient('127.0.0.1', port)\n",
    "        print(f\"Connected to CoppeliaSim on port {port}\")\n",
    "        return client\n",
    "    except Exception as e:\n",
    "        print(f\"Could not connect to CoppeliaSim on port {port}: {e}\")\n",
    "        return None\n",
    "\n",
    "client = connect()\n",
    "sim = client.getObject('sim')\n",
    "\n",
    "# Obtenim joint handlers\n",
    "joints = [sim.getObjectHandle(f'/m{i+1}') for i in range(6)]\n",
    "\n",
    "# Obtenir vision sensor handler\n",
    "vision_sensor = sim.getObjectHandle('/Vision_sensor')\n",
    "\n",
    "# Obtenir handles dels cubs\n",
    "cubes = [sim.getObjectHandle(f'/Cuboid[{i}]') for i in range(4)]\n",
    "\n",
    "# Obtenir handlers de les safates\n",
    "planes = [sim.getObjectHandle(f'/Plane[{i}]') for i in range(4)]\n",
    "\n",
    "print(\"Joint handles:\", joints)\n",
    "print(\"Vision sensor handle:\", vision_sensor)\n",
    "print(\"Cube handles:\", cubes)\n",
    "print(\"Plane handles:\", planes)\n",
    "\n",
    "# Llista tots els shapes i dummies sota el joint 3\n",
    "print(\"Tots els objectes sota joints[2]:\")\n",
    "for obj_type in [sim.object_shape_type, sim.object_dummy_type]:\n",
    "    for h in sim.getObjectsInTree(joints[2], obj_type):\n",
    "        alias = sim.getObjectAlias(h)\n",
    "        pos   = sim.getObjectPosition(h, -1)\n",
    "        print(f\"  {alias:60s} pos={pos}\")"
   ]
  },
  {
   "cell_type": "code",
   "execution_count": 22,
   "id": "3fe8ca65-808a-495f-941c-7fa5d10efb33",
   "metadata": {},
   "outputs": [
    {
     "name": "stdout",
     "output_type": "stream",
     "text": [
      "Moved joints to target positions.\n",
      "Moved joints back to zero.\n"
     ]
    },
    {
     "data": {
      "text/plain": [
       "1"
      ]
     },
     "execution_count": 22,
     "metadata": {},
     "output_type": "execute_result"
    }
   ],
   "source": [
    "# Part 0 -  i feu moure tots els motors del robot.\n",
    "\n",
    "import time\n",
    "\n",
    "# Exemple: Movem cada articulació a una posició diferent i després torneu-la a zero\n",
    "target_positions = [0.5, -0.5, 0.5, -0.5, 0.5, -0.5]  # radians\n",
    "\n",
    "# Movem a les posicions objectiu\n",
    "for joint, pos in zip(joints, target_positions):\n",
    "    sim.setJointTargetPosition(joint, pos)\n",
    "print(\"Moved joints to target positions.\")\n",
    "time.sleep(2)  # Wait for 2 seconds to observe the movement\n",
    "\n",
    "# Moveu de nou a zero\n",
    "for joint in joints:\n",
    "    sim.setJointTargetPosition(joint, 0)\n",
    "print(\"Moved joints back to zero.\")\n",
    "\n",
    "# posem la pinsa a 15\n",
    "sim.setJointTargetPosition(joints[5], 15 * np.pi/180)"
   ]
  },
  {
   "cell_type": "code",
   "execution_count": 23,
   "id": "c168e2df-352c-4b28-b000-f43a43832087",
   "metadata": {},
   "outputs": [
    {
     "data": {
      "image/png": "[encoded data removed]",
      "text/plain": [
       "<Figure size 640x480 with 1 Axes>"
      ]
     },
     "metadata": {},
     "output_type": "display_data"
    }
   ],
   "source": [
    "# Part 1 - capturem imatge del sensor\n",
    "import cv2\n",
    "import matplotlib.pyplot as plt\n",
    "\n",
    "img, resX, resY = sim.getVisionSensorCharImage(vision_sensor)\n",
    "\n",
    "# Convertim la imatge a un array de NumPy i la reformatem\n",
    "image = np.frombuffer(img, dtype=np.uint8).reshape(resY, resX, 3)\n",
    "image = np.flipud(image)  # Flip vertically if needed\n",
    "\n",
    "# Mostra la imatge per verificar-la (el robot ha de estar en simulació)\n",
    "import matplotlib.pyplot as plt\n",
    "# plt.imshow(cv2.cvtColor(image, cv2.COLOR_BGR2RGB))\n",
    "plt.imshow(image)\n",
    "plt.title(\"Vision Sensor Image\")\n",
    "plt.show()"
   ]
  },
  {
   "cell_type": "code",
   "execution_count": 13,
   "id": "a427d656-4b06-4917-ab70-cab4a254af1b",
   "metadata": {},
   "outputs": [
    {
     "name": "stdout",
     "output_type": "stream",
     "text": [
      "Green cube:\n",
      "  Detected image position: (x=32, y=154), size (w=36, h=28)\n",
      "  Estimated world position: (x=0.175, y=0.075), distance=0.190 m\n",
      "  Simulation world position: (x=0.175, y=0.075, z=0.010)\n",
      "------------------------------------------------------------\n",
      "Yellow cube:\n",
      "  Detected image position: (x=95, y=154), size (w=29, h=28)\n",
      "  Estimated world position: (x=0.175, y=0.026), distance=0.177 m\n",
      "  Simulation world position: (x=0.175, y=0.025, z=0.010)\n",
      "------------------------------------------------------------\n",
      "Cyan cube:\n",
      "  Detected image position: (x=160, y=154), size (w=29, h=28)\n",
      "  Estimated world position: (x=0.175, y=-0.025), distance=0.177 m\n",
      "  Simulation world position: (x=0.175, y=-0.025, z=0.010)\n",
      "------------------------------------------------------------\n",
      "Red cube:\n",
      "  Detected image position: (x=224, y=154), size (w=36, h=28)\n",
      "  Estimated world position: (x=0.175, y=-0.075), distance=0.190 m\n",
      "  Simulation world position: (x=0.175, y=-0.075, z=0.010)\n",
      "------------------------------------------------------------\n",
      "Total cubes detected: 4\n"
     ]
    },
    {
     "data": {
      "image/png": "[encoded data removed]",
      "text/plain": [
       "<Figure size 640x480 with 1 Axes>"
      ]
     },
     "metadata": {},
     "output_type": "display_data"
    }
   ],
   "source": [
    "import cv2\n",
    "import numpy as np\n",
    "import matplotlib.pyplot as plt\n",
    "\n",
    "# Definim els rangs de color en RGB\n",
    "color_ranges = {\n",
    "    \"green\":  (np.array([0, 120, 0]),   np.array([100, 255, 100])),\n",
    "    \"yellow\": (np.array([180, 180, 0]), np.array([255, 255, 120])),\n",
    "    \"cyan\":   (np.array([0, 180, 180]), np.array([80, 255, 255])),\n",
    "    \"red\":    (np.array([180, 0, 0]),   np.array([255, 80, 80]))\n",
    "}\n",
    "\n",
    "# Per a la visualització, assignem un color a cada caixa delimitadora\n",
    "box_colors = {\n",
    "    \"green\":  (0, 255, 0),\n",
    "    \"yellow\": (255, 255, 0),\n",
    "    \"cyan\":   (0, 255, 255),\n",
    "    \"red\":    (255, 0, 0)\n",
    "}\n",
    "\n",
    "# Mapejem el nom dels colors als índexs dels cubs a la simulació\n",
    "cube_indices = {\n",
    "    \"cyan\": 0,\n",
    "    \"yellow\": 1,\n",
    "    \"red\": 2,\n",
    "    \"green\": 3\n",
    "}\n",
    "\n",
    "# Obtenim les posicions reals de la simulació\n",
    "cube_positions_sim = {}\n",
    "for color, idx in cube_indices.items():\n",
    "    pos = sim.getObjectPosition(cubes[idx], -1)\n",
    "    cube_positions_sim[color] = pos\n",
    "\n",
    "# Calibració: mapeig de x de la imatge (píxels) a y en el món (metres)\n",
    "def img_to_world(cx, cy):\n",
    "    # Mapeig lineal per a y_món (lateral)\n",
    "    m = -0.00078125\n",
    "    c = 0.1\n",
    "    y_world = m * cx + c\n",
    "    # x_món és constant per aquesta configuració (tots els cubs a la mateixa profunditat)\n",
    "    x_world = 0.175\n",
    "    # Distància real des de la càmera (0,0) al centre del cub\n",
    "    d = np.sqrt(x_world**2 + y_world**2)\n",
    "    return x_world, y_world, d\n",
    "\n",
    "# Detecta els cubs a la imatge i compara les posicions\n",
    "image_with_boxes = image.copy()\n",
    "cube_count = 0\n",
    "detected_positions = {}\n",
    "estimated_world_positions = {}\n",
    "\n",
    "for color, (low, high) in color_ranges.items():\n",
    "    mask = cv2.inRange(image, low, high)\n",
    "    kernel = np.ones((5, 5), np.uint8)\n",
    "    mask = cv2.morphologyEx(mask, cv2.MORPH_CLOSE, kernel)\n",
    "    mask = cv2.morphologyEx(mask, cv2.MORPH_OPEN, kernel)\n",
    "    cnts = cv2.findContours(mask, cv2.RETR_TREE, cv2.CHAIN_APPROX_NONE)[-2]\n",
    "    for c in cnts:\n",
    "        x, y, w, h = cv2.boundingRect(c)\n",
    "        if w > 10 and h > 10:\n",
    "            cv2.rectangle(image_with_boxes, (x, y), (x + w, y + h), box_colors[color], 3)\n",
    "            cx, cy = x + w // 2, y + h // 2\n",
    "            detected_positions[color] = (cx, cy)\n",
    "            # Estimem la posició al món des de la imatge\n",
    "            xw, yw, dist = img_to_world(cx, cy)\n",
    "            estimated_world_positions[color] = (xw, yw, dist)\n",
    "            # Obtenim la posició de la simulació\n",
    "            sim_pos = cube_positions_sim[color]\n",
    "            print(f\"{color.capitalize()} cube:\")\n",
    "            print(f\"  Detected image position: (x={cx}, y={cy}), size (w={w}, h={h})\")\n",
    "            print(f\"  Estimated world position: (x={xw:.3f}, y={yw:.3f}), distance={dist:.3f} m\")\n",
    "            print(f\"  Simulation world position: (x={sim_pos[0]:.3f}, y={sim_pos[1]:.3f}, z={sim_pos[2]:.3f})\")\n",
    "            print(\"-\" * 60)\n",
    "            cube_count += 1\n",
    "\n",
    "print(f\"Total cubes detected: {cube_count}\")\n",
    "plt.imshow(image_with_boxes)\n",
    "plt.title(\"Detected Cubes\")\n",
    "plt.show()"
   ]
  },
  {
   "cell_type": "code",
   "execution_count": 14,
   "id": "4ff70a3a-53dc-42e7-843f-43ce6cc4cff2",
   "metadata": {},
   "outputs": [
    {
     "name": "stdout",
     "output_type": "stream",
     "text": [
      "Yellow tray (Plane[3]) position: [0.05000000447034836, 0.11999999731779099, 0.0020000000949949026]\n",
      "Red tray (Plane[2]) position: [-0.09999997913837433, 0.11999999731779099, 0.0020000000949949026]\n",
      "Green tray (Plane[1]) position: [0.05000000447034836, -0.11999999731779099, 0.0020000000949949026]\n",
      "Blue tray (Plane[0]) position: [-0.10000000149011612, -0.11999999731779099, 0.0020000000949949026]\n"
     ]
    }
   ],
   "source": [
    "# Obtenim les posicions de les safates/planos\n",
    "tray_names = ['yellow', 'red', 'green', 'blue']\n",
    "tray_positions = {}\n",
    "\n",
    "for i, color in zip([3, 2, 1, 0], tray_names):\n",
    "    pos = sim.getObjectPosition(planes[i], -1)  # -1 indica el marc mundial\n",
    "    tray_positions[color] = pos\n",
    "    print(f\"{color.capitalize()} tray (Plane[{i}]) position: {pos}\")\n"
   ]
  },
  {
   "cell_type": "code",
   "execution_count": 15,
   "id": "f8d5e782-5ccd-4669-a599-5a98c9ef237e",
   "metadata": {},
   "outputs": [],
   "source": [
    " #Provem a tocar el dummy amb la punta de la pinsa\n",
    "\n",
    "import math, time\n",
    "import numpy as np\n",
    "\n",
    "# ──────────────────────────────────────────────────\n",
    "# 1) valors manuals (en graus, excepte m6 en rad)\n",
    "manual_deg = [\n",
    "    23,    # m1 (base)\n",
    "    0,    # m2 (braç superior)\n",
    "    0,     # m3 (colze)\n",
    "    0,     # m4 (roll canell)\n",
    "   110,    # m5 (pitch canell)\n",
    "    0.12   # m6 (pinça)\n",
    "]\n",
    "# ──────────────────────────────────────────────────\n",
    "\n",
    "# 2) Converteim graus a radians\n",
    "manual_rad = [math.radians(a) for a in manual_deg[:5]] + [manual_deg[5]]\n",
    "\n",
    "# 3) Movem\n",
    "for j_handle, ang in zip(joints, manual_rad):\n",
    "    sim.setJointTargetPosition(j_handle, ang)\n",
    "time.sleep(0.5)\n",
    "\n"
   ]
  },
  {
   "cell_type": "code",
   "execution_count": 16,
   "id": "acacd5a3-b8e9-4d25-a4c1-95705fe83ad6",
   "metadata": {},
   "outputs": [],
   "source": [
    "def cinematica_inversa(x, y, z):\n",
    "    # Constants geomètriques del robot\n",
    "    b = 0.15   # Longitud del braç L1 + extensió fins al dummy\n",
    "    ab = 0.05  # Longitud de l'avantbraç L2\n",
    "    H = 0.05   # Alçada de la base\n",
    "    #correcio\n",
    "\n",
    "    # Càlcul de l'eix 1 (rotació de base)\n",
    "    Axis1 = math.atan2(y, x)\n",
    "    xprima = math.sqrt(x**2 + y**2)\n",
    "    B = xprima\n",
    "    A = z - H\n",
    "\n",
    "    # Hipotenusa del triangle format pel braç\n",
    "    Hip = math.sqrt(A**2 + B**2)\n",
    "\n",
    "    # Angles intermedis per calcular el segon eix\n",
    "    alfa = math.atan2(A, B)\n",
    "    beta = math.acos((b**2 - ab**2 + Hip**2) / (2 * b * Hip))\n",
    "    Axis2 = alfa + beta\n",
    "\n",
    "    # Càlcul del tercer eix (avantbraç)\n",
    "    gamma = math.acos((b**2 + ab**2 - Hip**2) / (2 * b * ab))\n",
    "    Axis3 = gamma\n",
    "\n",
    "    # Conversió dels angles a graus\n",
    "    Axis1Grados = Axis1 * 180 / math.pi        # Giro base en graus\n",
    "    Axis2Grados = 90 - Axis2 * 180 / math.pi   # Giro braç en graus\n",
    "    Axis3Grados = 180 - Axis3 * 180 / math.pi  # Giro avantbraç en graus\n",
    "\n",
    "    # Retornem els angles en un array\n",
    "    ciGraus = [Axis1Grados, Axis2Grados, Axis3Grados]\n",
    "    return ciGraus"
   ]
  },
  {
   "cell_type": "code",
   "execution_count": 17,
   "id": "0d740342-d11b-4554-8500-edabe346f0ce",
   "metadata": {},
   "outputs": [],
   "source": [
    "import math, time\n",
    "import numpy as np\n",
    "\n",
    "def moure(x, y, z):\n",
    "    # 1) Calcular angles amb la cinemàtica inversa\n",
    "    angles_ci = cinematica_inversa(x, y, z)  # Retorna [m1, m2, m3] en graus\n",
    "\n",
    "    # 2) Convertir a radians\n",
    "    angles_rad = [math.radians(a) for a in angles_ci]\n",
    "\n",
    "    print(\"Movent el robot a angles (º):\", angles_ci)\n",
    "\n",
    "    # 3) Aplicar només als tres primers eixos\n",
    "    for i in range(3):\n",
    "        time.sleep(1)\n",
    "        sim.setJointTargetPosition(joints[i], angles_rad[i])\n",
    "        print(f\"Movent eix {i+1} a {round(angles_ci[i], 2)}º...\")\n",
    "\n",
    "\n",
    "    # 4) Verificació posicional\n",
    "    tip_hdl = sim.getObjectHandle('holder_visual')\n",
    "    p_tip = np.array(sim.getObjectPosition(tip_hdl, -1))\n",
    "    p_obj = np.array([x, y, z])\n",
    "    dist = np.linalg.norm(p_tip - p_obj)\n",
    "    print(f\"Distància punta-objectiu: {dist:.4f} m\")\n",
    "\n",
    "def aixecar():\n",
    "    angle_deg = 30          # graus que vols\n",
    "    angle_rad = angle_deg * np.pi/180.0   # passem a radians\n",
    "    sim.setJointTargetPosition(joints[4], angle_rad)\n",
    "\n",
    "\n",
    "def baixar():\n",
    "    angle_deg = 10          # graus que vols\n",
    "    angle_rad = angle_deg * np.pi/180.0   # passem a radians\n",
    "    sim.setJointTargetPosition(joints[4], angle_rad)\n",
    "\n",
    "def deixar():\n",
    "    # 1) Inclina la pinssa 10°\n",
    "    m5_deg  = 10\n",
    "    m5_rad  = m5_deg * np.pi / 180\n",
    "    sim.setJointTargetPosition(joints[4], m5_rad)\n",
    "\n",
    "    # 2) Obre la pinça (m6): valor petit en radians\n",
    "    sim.setJointTargetPosition(joints[5], 0.02)  \n",
    "\n",
    "\n",
    "\n",
    "    \n"
   ]
  },
  {
   "cell_type": "code",
   "execution_count": 18,
   "id": "5607a5b9-f3ce-41ab-b7dd-c553d7731a84",
   "metadata": {},
   "outputs": [
    {
     "name": "stdout",
     "output_type": "stream",
     "text": [
      "Movent el robot a angles (º): [-7.696051722016568, 75.38855256183939, 48.44541003700073]\n",
      "Movent eix 1 a -7.7º...\n",
      "Movent eix 2 a 75.39º...\n",
      "Movent eix 3 a 48.45º...\n",
      "Distància punta-objectiu: 0.0206 m\n",
      "m5 abans: 110.0°\n"
     ]
    }
   ],
   "source": [
    "#anem pel blau\n",
    "xw, yw, dist = estimated_world_positions['cyan']\n",
    "zw = 0.06 #fem servir la alçada estimada\n",
    "moure(xw+0.01,yw,zw)\n",
    "before = sim.getJointPosition(joints[4])   # en radians\n",
    "print(f\"m5 abans: {np.degrees(before):.1f}°\")\n",
    "time.sleep(2)\n",
    "#baixem pinsa\n",
    "#baixar()\n",
    "#tanquem pinsa\n",
    "sim.setJointTargetPosition(joints[5], 0.12)   # o el valor que tanca de debò\n",
    "time.sleep(1)\n",
    "# truqillo pare-fill\n",
    "cub_cyan  = sim.getObject('/Cuboid[2]')      # el cub blau/cyan\n",
    "gripper    = sim.getObject('/base_link_respondable/holder_visual')\n",
    "sim.setObjectParent(cub_cyan, gripper, True) # keepInPlace = True\n",
    "\n",
    "time.sleep(1)\n",
    "\n"
   ]
  },
  {
   "cell_type": "code",
   "execution_count": 19,
   "id": "819bd59b-0c6f-4fe5-b61c-c815621099a5",
   "metadata": {},
   "outputs": [],
   "source": [
    "angle_deg = 30          # graus que vols\n",
    "angle_rad = angle_deg * np.pi/180.0   # passem a radians\n",
    "#sim.setJointTargetPosition(joints[4], angle_rad)\n",
    "#sim.setJointTargetPosition(joints[5], 15 * np.pi/180)"
   ]
  },
  {
   "cell_type": "code",
   "execution_count": 20,
   "id": "2dce3fd6-bdd9-473a-a5f4-ebebcba57fa9",
   "metadata": {},
   "outputs": [
    {
     "name": "stdout",
     "output_type": "stream",
     "text": [
      "[-0.10000000149011612, -0.11999999731779099, 0.0020000000949949026]\n",
      "Movent el robot a angles (º): [-129.8055721419869, 54.648733983675136, 82.72298745465619]\n",
      "Movent eix 1 a -129.81º...\n",
      "Movent eix 2 a 54.65º...\n",
      "Movent eix 3 a 82.72º...\n",
      "Distància punta-objectiu: 0.0791 m\n"
     ]
    }
   ],
   "source": [
    "blue_tray =sim.getObjectPosition(planes[0], -1) # posicio tray blue\n",
    "print(blue_tray)\n",
    "moure (blue_tray[0],blue_tray[1],0.1)"
   ]
  },
  {
   "cell_type": "code",
   "execution_count": null,
   "id": "9c101ce4-8671-4bf5-ac68-804ccc1799af",
   "metadata": {},
   "outputs": [],
   "source": []
  }
 ],
 "metadata": {
  "kernelspec": {
   "display_name": "Python (rob310)",
   "language": "python",
   "name": "rob310"
  },
  "language_info": {
   "codemirror_mode": {
    "name": "ipython",
    "version": 3
   },
   "file_extension": ".py",
   "mimetype": "text/x-python",
   "name": "python",
   "nbconvert_exporter": "python",
   "pygments_lexer": "ipython3",
   "version": "3.10.16"
  }
 },
 "nbformat": 4,
 "nbformat_minor": 5
}
