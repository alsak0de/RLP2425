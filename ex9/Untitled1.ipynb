{
 "cells": [
  {
   "cell_type": "code",
   "execution_count": 1,
   "id": "c397d83d-aaaa-45b4-b477-ad577ac84425",
   "metadata": {},
   "outputs": [
    {
     "name": "stdout",
     "output_type": "stream",
     "text": [
      "Punto de cruce: a partir de los 68 años conviene más jubilarse a los 63 tras el paro.\n"
     ]
    }
   ],
   "source": [
    "# Supuestos para el cálculo:\n",
    "\n",
    "# Opción 1: Jubilación anticipada forzosa a los 61\n",
    "pension_completa = 2000  # Supongamos una pensión completa de 2000 €/mes\n",
    "reduccion_forzosa = 0.13  # 13% reducción por jubilación anticipada forzosa a los 61\n",
    "pension_forzosa = pension_completa * (1 - reduccion_forzosa)\n",
    "\n",
    "# Opción 2: Paro 2 años (de 61 a 63), luego jubilación anticipada voluntaria con menor reducción\n",
    "paro_mensual = 1400  # Supongamos que el paro es de 1400 €/mes\n",
    "reduccion_voluntaria = 0.065  # 6.5% reducción por jubilación a los 63\n",
    "pension_voluntaria = pension_completa * (1 - reduccion_voluntaria)\n",
    "\n",
    "# Calculamos el punto de cruce: a partir de qué edad conviene más la segunda opción\n",
    "\n",
    "edad_max = 100\n",
    "años = list(range(61, edad_max + 1))\n",
    "\n",
    "acumulado_forzosa = []\n",
    "acumulado_voluntaria = []\n",
    "total_f = 0\n",
    "total_v = 0\n",
    "\n",
    "for edad in años:\n",
    "    if edad < 63:\n",
    "        total_f += pension_forzosa * 12\n",
    "        total_v += paro_mensual * 12\n",
    "    else:\n",
    "        total_f += pension_forzosa * 12\n",
    "        total_v += pension_voluntaria * 12\n",
    "    acumulado_forzosa.append(total_f)\n",
    "    acumulado_voluntaria.append(total_v)\n",
    "\n",
    "# Encuentra el punto de cruce\n",
    "punto_cruce = None\n",
    "for edad, f, v in zip(años, acumulado_forzosa, acumulado_voluntaria):\n",
    "    if v > f:\n",
    "        punto_cruce = edad\n",
    "        break\n",
    "\n",
    "print(f\"Punto de cruce: a partir de los {punto_cruce} años conviene más jubilarse a los 63 tras el paro.\")\n"
   ]
  },
  {
   "cell_type": "code",
   "execution_count": null,
   "id": "fb955aa2-9f57-4897-9cdb-90e818f4c36e",
   "metadata": {},
   "outputs": [],
   "source": []
  }
 ],
 "metadata": {
  "kernelspec": {
   "display_name": "Python 3 (ipykernel)",
   "language": "python",
   "name": "python3"
  },
  "language_info": {
   "codemirror_mode": {
    "name": "ipython",
    "version": 3
   },
   "file_extension": ".py",
   "mimetype": "text/x-python",
   "name": "python",
   "nbconvert_exporter": "python",
   "pygments_lexer": "ipython3",
   "version": "3.10.16"
  }
 },
 "nbformat": 4,
 "nbformat_minor": 5
}
