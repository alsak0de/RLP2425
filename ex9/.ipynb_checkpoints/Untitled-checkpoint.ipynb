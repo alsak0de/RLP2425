{
 "cells": [
  {
   "cell_type": "code",
   "execution_count": 1,
   "id": "b77ef4d4-af77-4af2-8653-2dc7547c1b8a",
   "metadata": {},
   "outputs": [
    {
     "name": "stdout",
     "output_type": "stream",
     "text": [
      "Connected to CoppeliaSim on port 23000\n",
      "Joint handles: [16, 18, 20, 22, 24, 26]\n",
      "Vision sensor handle: 37\n",
      "Cube handles: [36, 38, 39, 40]\n",
      "Plane handles: [41, 42, 43, 44]\n"
     ]
    }
   ],
   "source": [
    "# Part 0 - Creeu un Jupyter notebooks i configureu una connexió amb l'escena Coppelia.\n",
    "import coppeliasim_zmqremoteapi_client\n",
    "from coppeliasim_zmqremoteapi_client import RemoteAPIClient\n",
    "import numpy as np\n",
    "\n",
    "def connect(port=23000):\n",
    "    try:\n",
    "        client = RemoteAPIClient('127.0.0.1', port)\n",
    "        print(f\"Connected to CoppeliaSim on port {port}\")\n",
    "        return client\n",
    "    except Exception as e:\n",
    "        print(f\"Could not connect to CoppeliaSim on port {port}: {e}\")\n",
    "        return None\n",
    "\n",
    "client = connect()\n",
    "sim = client.getObject('sim')\n",
    "\n",
    "# Get joint handles\n",
    "joints = [sim.getObjectHandle(f'/m{i+1}') for i in range(6)]\n",
    "\n",
    "# Get vision sensor handle\n",
    "vision_sensor = sim.getObjectHandle('/Vision_sensor')\n",
    "\n",
    "# Get cube handles\n",
    "cubes = [sim.getObjectHandle(f'/Cuboid[{i}]') for i in range(4)]\n",
    "\n",
    "# Get tray/plane handles\n",
    "planes = [sim.getObjectHandle(f'/Plane[{i}]') for i in range(4)]\n",
    "\n",
    "print(\"Joint handles:\", joints)\n",
    "print(\"Vision sensor handle:\", vision_sensor)\n",
    "print(\"Cube handles:\", cubes)\n",
    "print(\"Plane handles:\", planes)"
   ]
  },
  {
   "cell_type": "code",
   "execution_count": 2,
   "id": "3fe8ca65-808a-495f-941c-7fa5d10efb33",
   "metadata": {},
   "outputs": [
    {
     "name": "stdout",
     "output_type": "stream",
     "text": [
      "Moved joints to target positions.\n",
      "Moved joints back to zero.\n"
     ]
    }
   ],
   "source": [
    "# Part 0 -  i feu moure tots els motors del robot.\n",
    "\n",
    "import time\n",
    "\n",
    "# Example: Move each joint to a different position, then back to zero\n",
    "target_positions = [0.5, -0.5, 0.5, -0.5, 0.5, -0.5]  # radians\n",
    "\n",
    "# Move to target positions\n",
    "for joint, pos in zip(joints, target_positions):\n",
    "    sim.setJointTargetPosition(joint, pos)\n",
    "print(\"Moved joints to target positions.\")\n",
    "time.sleep(2)  # Wait for 2 seconds to observe the movement\n",
    "\n",
    "# Move back to zero\n",
    "for joint in joints:\n",
    "    sim.setJointTargetPosition(joint, 0)\n",
    "print(\"Moved joints back to zero.\")"
   ]
  },
  {
   "cell_type": "code",
   "execution_count": 3,
   "id": "c168e2df-352c-4b28-b000-f43a43832087",
   "metadata": {},
   "outputs": [
    {
     "ename": "ImportError",
     "evalue": "dlopen(/Users/albert/miniconda3/envs/rob/lib/python3.11/site-packages/cv2.cpython-311-darwin.so, 0x0002): Library not loaded: @rpath/liblapack.3.dylib\n  Referenced from: <55371AF9-6715-3771-A213-E48722ABA229> /Users/albert/miniconda3/envs/rob/lib/libopencv_core.4.7.0.dylib\n  Reason: tried: '/Users/albert/miniconda3/envs/rob/lib/liblapack.3.dylib' (no such file), '/Users/albert/miniconda3/envs/rob/lib/liblapack.3.dylib' (no such file), '/Users/albert/miniconda3/envs/rob/lib/python3.11/site-packages/../../liblapack.3.dylib' (no such file), '/Users/albert/miniconda3/envs/rob/lib/python3.11/site-packages/../../liblapack.3.dylib' (no such file), '/Users/albert/miniconda3/envs/rob/bin/../lib/liblapack.3.dylib' (no such file), '/Users/albert/miniconda3/envs/rob/bin/../lib/liblapack.3.dylib' (no such file), '/usr/local/lib/liblapack.3.dylib' (no such file), '/usr/lib/liblapack.3.dylib' (no such file, not in dyld cache)",
     "output_type": "error",
     "traceback": [
      "\u001b[0;31m---------------------------------------------------------------------------\u001b[0m",
      "\u001b[0;31mImportError\u001b[0m                               Traceback (most recent call last)",
      "Cell \u001b[0;32mIn[3], line 2\u001b[0m\n\u001b[1;32m      1\u001b[0m \u001b[38;5;66;03m# Part 1 - capturem imatge del sensor\u001b[39;00m\n\u001b[0;32m----> 2\u001b[0m \u001b[38;5;28;01mimport\u001b[39;00m \u001b[38;5;21;01mcv2\u001b[39;00m\n\u001b[1;32m      3\u001b[0m \u001b[38;5;28;01mimport\u001b[39;00m \u001b[38;5;21;01mmatplotlib\u001b[39;00m\u001b[38;5;21;01m.\u001b[39;00m\u001b[38;5;21;01mpyplot\u001b[39;00m \u001b[38;5;28;01mas\u001b[39;00m \u001b[38;5;21;01mplt\u001b[39;00m\n\u001b[1;32m      5\u001b[0m \u001b[38;5;66;03m# Capture image from the vision sensor\u001b[39;00m\n",
      "\u001b[0;31mImportError\u001b[0m: dlopen(/Users/albert/miniconda3/envs/rob/lib/python3.11/site-packages/cv2.cpython-311-darwin.so, 0x0002): Library not loaded: @rpath/liblapack.3.dylib\n  Referenced from: <55371AF9-6715-3771-A213-E48722ABA229> /Users/albert/miniconda3/envs/rob/lib/libopencv_core.4.7.0.dylib\n  Reason: tried: '/Users/albert/miniconda3/envs/rob/lib/liblapack.3.dylib' (no such file), '/Users/albert/miniconda3/envs/rob/lib/liblapack.3.dylib' (no such file), '/Users/albert/miniconda3/envs/rob/lib/python3.11/site-packages/../../liblapack.3.dylib' (no such file), '/Users/albert/miniconda3/envs/rob/lib/python3.11/site-packages/../../liblapack.3.dylib' (no such file), '/Users/albert/miniconda3/envs/rob/bin/../lib/liblapack.3.dylib' (no such file), '/Users/albert/miniconda3/envs/rob/bin/../lib/liblapack.3.dylib' (no such file), '/usr/local/lib/liblapack.3.dylib' (no such file), '/usr/lib/liblapack.3.dylib' (no such file, not in dyld cache)"
     ]
    }
   ],
   "source": [
    "# Part 1 - capturem imatge del sensor\n",
    "import cv2\n",
    "import matplotlib.pyplot as plt\n",
    "\n",
    "# Capture image from the vision sensor\n",
    "img, resX, resY = sim.getVisionSensorCharImage(vision_sensor)\n",
    "\n",
    "# Convert the image to a NumPy array and reshape\n",
    "image = np.frombuffer(img, dtype=np.uint8).reshape(resY, resX, 3)\n",
    "image = np.flipud(image)  # Flip vertically if needed\n",
    "\n",
    "# Optional: Display the image to verify\n",
    "import matplotlib.pyplot as plt\n",
    "plt.imshow(cv2.cvtColor(image, cv2.COLOR_BGR2RGB))\n",
    "plt.title(\"Vision Sensor Image\")\n",
    "plt.show()"
   ]
  },
  {
   "cell_type": "code",
   "execution_count": null,
   "id": "a427d656-4b06-4917-ab70-cab4a254af1b",
   "metadata": {},
   "outputs": [],
   "source": []
  }
 ],
 "metadata": {
  "kernelspec": {
   "display_name": "Python (rob)",
   "language": "python",
   "name": "rob"
  },
  "language_info": {
   "codemirror_mode": {
    "name": "ipython",
    "version": 3
   },
   "file_extension": ".py",
   "mimetype": "text/x-python",
   "name": "python",
   "nbconvert_exporter": "python",
   "pygments_lexer": "ipython3",
   "version": "3.11.11"
  }
 },
 "nbformat": 4,
 "nbformat_minor": 5
}
