{
 "cells": [
  {
   "cell_type": "markdown",
   "metadata": {},
   "source": [
    "<h3>SESSION 7 - 4-axis Scara Robot (Rotary Suction Cup Manipulator)</h3>\n",
    "Suction cup-type manipulator control, pick & Place of the Scara Robot with orientation control, Inverse Kinematics"
   ]
  },
  {
   "cell_type": "markdown",
   "metadata": {},
   "source": [
    "The image in the figure represents a 4-Axis SCARA robot and its D-H table (session 9).<br>\n",
    "<img src=\"Scara4dofs.jpg\" width=\"500\"><br>\n",
    "From the parameters indicated in the image, we calculate the coordinate transformation matrices for each joint."
   ]
  },
  {
   "cell_type": "code",
   "execution_count": 105,
   "metadata": {},
   "outputs": [
    {
     "data": {
      "text/latex": [
       "$\\displaystyle \\left( \\theta_{1}, \\  \\theta_{2}, \\  \\theta_{3}, \\  \\theta_{4}, \\  lc, \\  la, \\  lb, \\  l_{4}, \\  d_{3}, \\  \\theta, \\  \\alpha, \\  a, \\  d\\right)$"
      ],
      "text/plain": [
       "(theta1, theta2, theta3, theta4, lc, la, lb, l4, d3, theta, alpha, a, d)"
      ]
     },
     "execution_count": 105,
     "metadata": {},
     "output_type": "execute_result"
    }
   ],
   "source": [
    "import numpy as np\n",
    "import sympy as sp\n",
    "from sympy import *\n",
    "from sympy.physics.vector import init_vprinting\n",
    "init_vprinting(use_latex='mathjax', pretty_print=False)\n",
    "\n",
    "# declaramos los símbolos (longitudes, variables, etc.) que se utilizarán para una formulación posterior.\n",
    "\n",
    "\n",
    "from sympy.physics.mechanics import dynamicsymbols\n",
    "theta1, theta2, theta3, theta4, lc, la, lb, l4, d3, theta, alpha, a, d = dynamicsymbols('theta1 theta2 theta3 theta4 lc la lb l4 d3 theta alpha a d')\n",
    "theta1, theta2, theta3, theta4, lc, la, lb, l4, d3, theta, alpha, a, d "
   ]
  },
  {
   "cell_type": "code",
   "execution_count": 106,
   "metadata": {},
   "outputs": [
    {
     "data": {
      "text/latex": [
       "$\\displaystyle \\left[\\begin{matrix}\\cos{\\left(\\theta \\right)} & - \\sin{\\left(\\theta \\right)} \\cos{\\left(\\alpha \\right)} & \\sin{\\left(\\alpha \\right)} \\sin{\\left(\\theta \\right)} & a \\cos{\\left(\\theta \\right)}\\\\\\sin{\\left(\\theta \\right)} & \\cos{\\left(\\alpha \\right)} \\cos{\\left(\\theta \\right)} & - \\sin{\\left(\\alpha \\right)} \\cos{\\left(\\theta \\right)} & a \\sin{\\left(\\theta \\right)}\\\\0 & \\sin{\\left(\\alpha \\right)} & \\cos{\\left(\\alpha \\right)} & d\\\\0 & 0 & 0 & 1\\end{matrix}\\right]$"
      ],
      "text/plain": [
       "Matrix([\n",
       "[cos(theta), -sin(theta)*cos(alpha),  sin(alpha)*sin(theta), a*cos(theta)],\n",
       "[sin(theta),  cos(alpha)*cos(theta), -sin(alpha)*cos(theta), a*sin(theta)],\n",
       "[         0,             sin(alpha),             cos(alpha),            d],\n",
       "[         0,                      0,                      0,            1]])"
      ]
     },
     "execution_count": 106,
     "metadata": {},
     "output_type": "execute_result"
    }
   ],
   "source": [
    "# The standard homogeneous transformation matrix is represented as:\n",
    "\n",
    "rot = sp.Matrix([[sp.cos(theta), -sp.sin(theta)*sp.cos(alpha), sp.sin(theta)*sp.sin(alpha)],\n",
    "                 [sp.sin(theta), sp.cos(theta)*sp.cos(alpha), -sp.cos(theta)*sp.sin(alpha)],\n",
    "                 [0, sp.sin(alpha), sp.cos(alpha)]])\n",
    "\n",
    "trans = sp.Matrix([a*sp.cos(theta),a*sp.sin(theta),d])\n",
    "\n",
    "last_row = sp.Matrix([[0, 0, 0, 1]])\n",
    "\n",
    "m = sp.Matrix.vstack(sp.Matrix.hstack(rot, trans), last_row)\n",
    "m"
   ]
  },
  {
   "cell_type": "code",
   "execution_count": 107,
   "metadata": {},
   "outputs": [
    {
     "data": {
      "text/latex": [
       "$\\displaystyle \\left[\\begin{matrix}\\cos{\\left(\\theta_{1} \\right)} & - \\sin{\\left(\\theta_{1} \\right)} & 0 & la \\cos{\\left(\\theta_{1} \\right)}\\\\\\sin{\\left(\\theta_{1} \\right)} & \\cos{\\left(\\theta_{1} \\right)} & 0 & la \\sin{\\left(\\theta_{1} \\right)}\\\\0 & 0 & 1.0 & lc\\\\0 & 0 & 0 & 1.0\\end{matrix}\\right]$"
      ],
      "text/plain": [
       "Matrix([\n",
       "[cos(theta1), -sin(theta1),   0, la*cos(theta1)],\n",
       "[sin(theta1),  cos(theta1),   0, la*sin(theta1)],\n",
       "[          0,            0, 1.0,             lc],\n",
       "[          0,            0,   0,            1.0]])"
      ]
     },
     "execution_count": 107,
     "metadata": {},
     "output_type": "execute_result"
    }
   ],
   "source": [
    "# Transformation: 1st axis from '0' to '1'\n",
    "\n",
    "m01 = m.subs({ theta:theta1, d:lc, a:la , alpha:0})\n",
    "N(m01,2)"
   ]
  },
  {
   "cell_type": "code",
   "execution_count": 108,
   "metadata": {},
   "outputs": [
    {
     "data": {
      "text/latex": [
       "$\\displaystyle \\left[\\begin{matrix}\\cos{\\left(\\theta_{2} \\right)} & 1.0 \\sin{\\left(\\theta_{2} \\right)} & 1.22464679914735 \\cdot 10^{-16} \\sin{\\left(\\theta_{2} \\right)} & lb \\cos{\\left(\\theta_{2} \\right)}\\\\\\sin{\\left(\\theta_{2} \\right)} & - 1.0 \\cos{\\left(\\theta_{2} \\right)} & - 1.22464679914735 \\cdot 10^{-16} \\cos{\\left(\\theta_{2} \\right)} & lb \\sin{\\left(\\theta_{2} \\right)}\\\\0 & 1.22464679914735 \\cdot 10^{-16} & -1.0 & 0\\\\0 & 0 & 0 & 1\\end{matrix}\\right]$"
      ],
      "text/plain": [
       "Matrix([\n",
       "[cos(theta2),      1.0*sin(theta2),  1.22464679914735e-16*sin(theta2), lb*cos(theta2)],\n",
       "[sin(theta2),     -1.0*cos(theta2), -1.22464679914735e-16*cos(theta2), lb*sin(theta2)],\n",
       "[          0, 1.22464679914735e-16,                              -1.0,              0],\n",
       "[          0,                    0,                                 0,              1]])"
      ]
     },
     "execution_count": 108,
     "metadata": {},
     "output_type": "execute_result"
    }
   ],
   "source": [
    "# Transformation: 2nd axis from '1' to '2'\n",
    "m12 = m.subs({ theta:theta2, d:0, a:lb ,alpha:180*np.pi/180})\n",
    "m12"
   ]
  },
  {
   "cell_type": "code",
   "execution_count": 109,
   "metadata": {},
   "outputs": [
    {
     "data": {
      "text/latex": [
       "$\\displaystyle \\left[\\begin{matrix}\\cos{\\left(\\theta_{2} \\right)} & 1.0 \\sin{\\left(\\theta_{2} \\right)} & 0 & lb \\cos{\\left(\\theta_{2} \\right)}\\\\\\sin{\\left(\\theta_{2} \\right)} & - 1.0 \\cos{\\left(\\theta_{2} \\right)} & 0 & lb \\sin{\\left(\\theta_{2} \\right)}\\\\0 & 0 & -1.0 & 0\\\\0 & 0 & 0 & 1\\end{matrix}\\right]$"
      ],
      "text/plain": [
       "Matrix([\n",
       "[cos(theta2),  1.0*sin(theta2),    0, lb*cos(theta2)],\n",
       "[sin(theta2), -1.0*cos(theta2),    0, lb*sin(theta2)],\n",
       "[          0,                0, -1.0,              0],\n",
       "[          0,                0,    0,              1]])"
      ]
     },
     "execution_count": 109,
     "metadata": {},
     "output_type": "execute_result"
    }
   ],
   "source": [
    "# round to 0\n",
    "m12[0,2]=0\n",
    "m12[1,2]=0\n",
    "m12[2,1]=0 #problem when rounding to 0 http://research.iac.es/sieinvens/python-course/source/sympy.html\n",
    "m12"
   ]
  },
  {
   "cell_type": "code",
   "execution_count": 110,
   "metadata": {},
   "outputs": [
    {
     "data": {
      "text/latex": [
       "$\\displaystyle \\left[\\begin{matrix}1 & 0 & 0 & 0\\\\0 & 1 & 0 & 0\\\\0 & 0 & 1 & d_{3}\\\\0 & 0 & 0 & 1\\end{matrix}\\right]$"
      ],
      "text/plain": [
       "Matrix([\n",
       "[1, 0, 0,  0],\n",
       "[0, 1, 0,  0],\n",
       "[0, 0, 1, d3],\n",
       "[0, 0, 0,  1]])"
      ]
     },
     "execution_count": 110,
     "metadata": {},
     "output_type": "execute_result"
    }
   ],
   "source": [
    "# Transformation: 3rd axis from '2' to '3'\n",
    "m23 = m.subs({ theta:0, d:d3, a:0 ,alpha:0*np.pi/180})\n",
    "m23"
   ]
  },
  {
   "cell_type": "code",
   "execution_count": 111,
   "metadata": {},
   "outputs": [
    {
     "data": {
      "text/latex": [
       "$\\displaystyle \\left[\\begin{matrix}\\cos{\\left(\\theta_{4} \\right)} & 1.0 \\sin{\\left(\\theta_{4} \\right)} & 1.22464679914735 \\cdot 10^{-16} \\sin{\\left(\\theta_{4} \\right)} & 0\\\\\\sin{\\left(\\theta_{4} \\right)} & - 1.0 \\cos{\\left(\\theta_{4} \\right)} & - 1.22464679914735 \\cdot 10^{-16} \\cos{\\left(\\theta_{4} \\right)} & 0\\\\0 & 1.22464679914735 \\cdot 10^{-16} & -1.0 & l_{4}\\\\0 & 0 & 0 & 1\\end{matrix}\\right]$"
      ],
      "text/plain": [
       "Matrix([\n",
       "[cos(theta4),      1.0*sin(theta4),  1.22464679914735e-16*sin(theta4),  0],\n",
       "[sin(theta4),     -1.0*cos(theta4), -1.22464679914735e-16*cos(theta4),  0],\n",
       "[          0, 1.22464679914735e-16,                              -1.0, l4],\n",
       "[          0,                    0,                                 0,  1]])"
      ]
     },
     "execution_count": 111,
     "metadata": {},
     "output_type": "execute_result"
    }
   ],
   "source": [
    "# Transformation: 4th axis from '3' to '4'\n",
    "m34 = m.subs({ theta:theta4, d:l4, a:0 ,alpha:180*np.pi/180})\n",
    "m34"
   ]
  },
  {
   "cell_type": "code",
   "execution_count": 112,
   "metadata": {},
   "outputs": [
    {
     "data": {
      "text/latex": [
       "$\\displaystyle \\left[\\begin{matrix}\\cos{\\left(\\theta_{4} \\right)} & 1.0 \\sin{\\left(\\theta_{4} \\right)} & 0 & 0\\\\\\sin{\\left(\\theta_{4} \\right)} & - 1.0 \\cos{\\left(\\theta_{4} \\right)} & 0 & 0\\\\0 & 0 & -1.0 & l_{4}\\\\0 & 0 & 0 & 1\\end{matrix}\\right]$"
      ],
      "text/plain": [
       "Matrix([\n",
       "[cos(theta4),  1.0*sin(theta4),    0,  0],\n",
       "[sin(theta4), -1.0*cos(theta4),    0,  0],\n",
       "[          0,                0, -1.0, l4],\n",
       "[          0,                0,    0,  1]])"
      ]
     },
     "execution_count": 112,
     "metadata": {},
     "output_type": "execute_result"
    }
   ],
   "source": [
    "# round to 0\n",
    "m34[0,2]=0\n",
    "m34[1,2]=0\n",
    "m34[2,1]=0 #problem when rounding to 0 http://research.iac.es/sieinvens/python-course/source/sympy.html\n",
    "m34"
   ]
  },
  {
   "cell_type": "code",
   "execution_count": 113,
   "metadata": {},
   "outputs": [
    {
     "data": {
      "text/latex": [
       "$\\displaystyle \\left[\\begin{matrix}\\left(- \\sin{\\left(\\theta_{1} \\right)} \\sin{\\left(\\theta_{2} \\right)} + \\cos{\\left(\\theta_{1} \\right)} \\cos{\\left(\\theta_{2} \\right)}\\right) \\cos{\\left(\\theta_{4} \\right)} + \\left(1.0 \\sin{\\left(\\theta_{1} \\right)} \\cos{\\left(\\theta_{2} \\right)} + 1.0 \\sin{\\left(\\theta_{2} \\right)} \\cos{\\left(\\theta_{1} \\right)}\\right) \\sin{\\left(\\theta_{4} \\right)} & 1.0 \\left(- \\sin{\\left(\\theta_{1} \\right)} \\sin{\\left(\\theta_{2} \\right)} + \\cos{\\left(\\theta_{1} \\right)} \\cos{\\left(\\theta_{2} \\right)}\\right) \\sin{\\left(\\theta_{4} \\right)} - 1.0 \\left(1.0 \\sin{\\left(\\theta_{1} \\right)} \\cos{\\left(\\theta_{2} \\right)} + 1.0 \\sin{\\left(\\theta_{2} \\right)} \\cos{\\left(\\theta_{1} \\right)}\\right) \\cos{\\left(\\theta_{4} \\right)} & 0 & la \\cos{\\left(\\theta_{1} \\right)} - lb \\sin{\\left(\\theta_{1} \\right)} \\sin{\\left(\\theta_{2} \\right)} + lb \\cos{\\left(\\theta_{1} \\right)} \\cos{\\left(\\theta_{2} \\right)}\\\\\\left(1.0 \\sin{\\left(\\theta_{1} \\right)} \\sin{\\left(\\theta_{2} \\right)} - 1.0 \\cos{\\left(\\theta_{1} \\right)} \\cos{\\left(\\theta_{2} \\right)}\\right) \\sin{\\left(\\theta_{4} \\right)} + \\left(\\sin{\\left(\\theta_{1} \\right)} \\cos{\\left(\\theta_{2} \\right)} + \\sin{\\left(\\theta_{2} \\right)} \\cos{\\left(\\theta_{1} \\right)}\\right) \\cos{\\left(\\theta_{4} \\right)} & - 1.0 \\left(1.0 \\sin{\\left(\\theta_{1} \\right)} \\sin{\\left(\\theta_{2} \\right)} - 1.0 \\cos{\\left(\\theta_{1} \\right)} \\cos{\\left(\\theta_{2} \\right)}\\right) \\cos{\\left(\\theta_{4} \\right)} + 1.0 \\left(\\sin{\\left(\\theta_{1} \\right)} \\cos{\\left(\\theta_{2} \\right)} + \\sin{\\left(\\theta_{2} \\right)} \\cos{\\left(\\theta_{1} \\right)}\\right) \\sin{\\left(\\theta_{4} \\right)} & 0 & la \\sin{\\left(\\theta_{1} \\right)} + lb \\sin{\\left(\\theta_{1} \\right)} \\cos{\\left(\\theta_{2} \\right)} + lb \\sin{\\left(\\theta_{2} \\right)} \\cos{\\left(\\theta_{1} \\right)}\\\\0 & 0 & 1.0 & - 1.0 d_{3} - 1.0 l_{4} + lc\\\\0 & 0 & 0 & 1\\end{matrix}\\right]$"
      ],
      "text/plain": [
       "Matrix([\n",
       "[(-sin(theta1)*sin(theta2) + cos(theta1)*cos(theta2))*cos(theta4) + (1.0*sin(theta1)*cos(theta2) + 1.0*sin(theta2)*cos(theta1))*sin(theta4), 1.0*(-sin(theta1)*sin(theta2) + cos(theta1)*cos(theta2))*sin(theta4) - 1.0*(1.0*sin(theta1)*cos(theta2) + 1.0*sin(theta2)*cos(theta1))*cos(theta4),   0, la*cos(theta1) - lb*sin(theta1)*sin(theta2) + lb*cos(theta1)*cos(theta2)],\n",
       "[ (1.0*sin(theta1)*sin(theta2) - 1.0*cos(theta1)*cos(theta2))*sin(theta4) + (sin(theta1)*cos(theta2) + sin(theta2)*cos(theta1))*cos(theta4), -1.0*(1.0*sin(theta1)*sin(theta2) - 1.0*cos(theta1)*cos(theta2))*cos(theta4) + 1.0*(sin(theta1)*cos(theta2) + sin(theta2)*cos(theta1))*sin(theta4),   0, la*sin(theta1) + lb*sin(theta1)*cos(theta2) + lb*sin(theta2)*cos(theta1)],\n",
       "[                                                                                                                                         0,                                                                                                                                                  0, 1.0,                                                    -1.0*d3 - 1.0*l4 + lc],\n",
       "[                                                                                                                                         0,                                                                                                                                                  0,   0,                                                                        1]])"
      ]
     },
     "execution_count": 113,
     "metadata": {},
     "output_type": "execute_result"
    }
   ],
   "source": [
    "# Unsimplified 4-axis Resulting Matrix\n",
    "m04 = (m01*m12*m23*m34)\n",
    "m04"
   ]
  },
  {
   "cell_type": "code",
   "execution_count": 114,
   "metadata": {},
   "outputs": [
    {
     "data": {
      "text/latex": [
       "$\\displaystyle \\left[\\begin{matrix}1.0 \\cos{\\left(\\theta_{1} + \\theta_{2} - \\theta_{4} \\right)} & - 1.0 \\sin{\\left(\\theta_{1} + \\theta_{2} - \\theta_{4} \\right)} & 0 & la \\cos{\\left(\\theta_{1} \\right)} + lb \\cos{\\left(\\theta_{1} + \\theta_{2} \\right)}\\\\1.0 \\sin{\\left(\\theta_{1} + \\theta_{2} - \\theta_{4} \\right)} & 1.0 \\cos{\\left(\\theta_{1} + \\theta_{2} - \\theta_{4} \\right)} & 0 & la \\sin{\\left(\\theta_{1} \\right)} + lb \\sin{\\left(\\theta_{1} + \\theta_{2} \\right)}\\\\0 & 0 & 1.0 & - 1.0 d_{3} - 1.0 l_{4} + 1.0 lc\\\\0 & 0 & 0 & 1\\end{matrix}\\right]$"
      ],
      "text/plain": [
       "Matrix([\n",
       "[1.0*cos(theta1 + theta2 - theta4), -1.0*sin(theta1 + theta2 - theta4),   0, la*cos(theta1) + lb*cos(theta1 + theta2)],\n",
       "[1.0*sin(theta1 + theta2 - theta4),  1.0*cos(theta1 + theta2 - theta4),   0, la*sin(theta1) + lb*sin(theta1 + theta2)],\n",
       "[                                0,                                  0, 1.0,                -1.0*d3 - 1.0*l4 + 1.0*lc],\n",
       "[                                0,                                  0,   0,                                        1]])"
      ]
     },
     "execution_count": 114,
     "metadata": {},
     "output_type": "execute_result"
    }
   ],
   "source": [
    "# Resulting Matrix we can simplify it further:\n",
    "mbee= sp.Matrix([[sp.trigsimp(m04[0,0].simplify()), sp.trigsimp(m04[0,1].simplify()), (m04[0,2].simplify()),sp.trigsimp(m04[0,3].simplify())],\n",
    "                 [sp.trigsimp(m04[1,0].simplify()), sp.trigsimp(m04[1,1].simplify()), (m04[1,2].simplify()),sp.trigsimp(m04[1,3].simplify())],\n",
    "                 [sp.trigsimp(m04[2,0].simplify()), m04[2,1].simplify(), sp.trigsimp(m04[2,2].simplify()),sp.trigsimp(m04[2,3].simplify())],\n",
    "                 [m04[3,0].simplify(), m04[3,1].simplify(), m04[3,2].simplify(),m04[3,3].simplify()]])\n",
    "\n",
    "mbee"
   ]
  },
  {
   "cell_type": "code",
   "execution_count": 115,
   "metadata": {},
   "outputs": [
    {
     "data": {
      "text/latex": [
       "$\\displaystyle \\left[\\begin{matrix}1.0 \\cos{\\left(\\theta_{1} + \\theta_{2} - \\theta_{4} \\right)} & - 1.0 \\sin{\\left(\\theta_{1} + \\theta_{2} - \\theta_{4} \\right)} & 0 & 0.2 \\cos{\\left(\\theta_{1} + \\theta_{2} \\right)} + 0.2 \\cos{\\left(\\theta_{1} \\right)}\\\\1.0 \\sin{\\left(\\theta_{1} + \\theta_{2} - \\theta_{4} \\right)} & 1.0 \\cos{\\left(\\theta_{1} + \\theta_{2} - \\theta_{4} \\right)} & 0 & 0.2 \\sin{\\left(\\theta_{1} + \\theta_{2} \\right)} + 0.2 \\sin{\\left(\\theta_{1} \\right)}\\\\0 & 0 & 1.0 & 0.1019 - 1.0 d_{3}\\\\0 & 0 & 0 & 1\\end{matrix}\\right]$"
      ],
      "text/plain": [
       "Matrix([\n",
       "[1.0*cos(theta1 + theta2 - theta4), -1.0*sin(theta1 + theta2 - theta4),   0, 0.2*cos(theta1 + theta2) + 0.2*cos(theta1)],\n",
       "[1.0*sin(theta1 + theta2 - theta4),  1.0*cos(theta1 + theta2 - theta4),   0, 0.2*sin(theta1 + theta2) + 0.2*sin(theta1)],\n",
       "[                                0,                                  0, 1.0,                            0.1019 - 1.0*d3],\n",
       "[                                0,                                  0,   0,                                          1]])"
      ]
     },
     "execution_count": 115,
     "metadata": {},
     "output_type": "execute_result"
    }
   ],
   "source": [
    "#We substitute the values of la, lb, lc i l4 in the matrix\n",
    "mbee=mbee.subs({ lc:0.2, la:0.2, lb:0.2, l4:0.0981})\n",
    "mbee"
   ]
  },
  {
   "cell_type": "markdown",
   "metadata": {},
   "source": [
    "### COMUNICACIÓN CON COPPELIA Y EXTRACCIÓN DE CONTROLADORES"
   ]
  },
  {
   "cell_type": "code",
   "execution_count": 116,
   "metadata": {},
   "outputs": [
    {
     "name": "stdout",
     "output_type": "stream",
     "text": [
      "Connected to CoppeliaSim on port 23000\n",
      "True\n",
      "24 28 16 17 21 23\n"
     ]
    }
   ],
   "source": [
    "\"\"\"\n",
    "# we import the necessary libraries and establish a connection\n",
    "import sim         \n",
    "def connect(port):\n",
    "\n",
    "    sim.simxFinish(-1) # just in case, close all opened connections\n",
    "    clientID=sim.simxStart('127.0.0.1',port,True,True,2000,5) # Connect\n",
    "    if clientID == 0: print(\"connected to\", port)\n",
    "    else: print(\"could not connect\")\n",
    "    return clientID\n",
    "\n",
    "\n",
    "\n",
    "clientID = connect(19999)\n",
    "\"\"\"\n",
    "\n",
    "# Implementación de la conexión con ZeroMQ AAPI\n",
    "\n",
    "import coppeliasim_zmqremoteapi_client\n",
    "from coppeliasim_zmqremoteapi_client import RemoteAPIClient\n",
    "\n",
    "def connect(port=23000):\n",
    "    try:\n",
    "        client = RemoteAPIClient('127.0.0.1', port)\n",
    "        print(f\"Connected to CoppeliaSim on port {port}\")\n",
    "        return client\n",
    "    except Exception as e:\n",
    "        print(f\"Could not connect to CoppeliaSim on port {port}: {e}\")\n",
    "        return None\n",
    "# Connect to the COPPELIA server\n",
    "\n",
    "client = connect()\n",
    "\n",
    "# Acceso al objeto sim\n",
    "sim = client.getObject('sim')\n",
    "\n",
    "\n",
    "\"\"\"\n",
    "# Handlers\n",
    "# We require the handlers for the joints, the suction cup and the suction sensor (Allows us to know if the object is close)\n",
    "\n",
    "retCode,cuboid=sim.simxGetObjectHandle(clientID,'Cuboid',sim.simx_opmode_blocking)\n",
    "retCode,suction=sim.simxGetObjectHandle(clientID,'suctionPad',sim.simx_opmode_blocking)\n",
    "retCode,joint1=sim.simxGetObjectHandle(clientID,'Joint1',sim.simx_opmode_blocking)\n",
    "retCode,joint2=sim.simxGetObjectHandle(clientID,'Joint2',sim.simx_opmode_blocking)\n",
    "retCode,joint3=sim.simxGetObjectHandle(clientID,'Joint3',sim.simx_opmode_blocking)\n",
    "retCode,joint4=sim.simxGetObjectHandle(clientID,'Joint4',sim.simx_opmode_blocking)\n",
    "\n",
    "\"\"\"\n",
    "\n",
    "#Nuevo códgo con MQ\n",
    "\n",
    "cuboid = sim.getObjectHandle('/Cuboid')\n",
    "suction = sim.getObjectHandle('/suctionPad')\n",
    "joint1 = sim.getObjectHandle('/Joint1')\n",
    "joint2 = sim.getObjectHandle('/Joint2')\n",
    "joint3 = sim.getObjectHandle('/Joint3')\n",
    "joint4 = sim.getObjectHandle('/Joint4')\n",
    "\n",
    "\n",
    "print( cuboid, suction, joint1, joint2, joint3, joint4 )"
   ]
  },
  {
   "cell_type": "markdown",
   "metadata": {},
   "source": [
    "<h3> Suction cup control </h3>\n",
    "Function that allows you to activate or deactivate the Coppelia suction cup from Jupyter. There are instructions in the Coppelia suctionPad scripts that allow remote use."
   ]
  },
  {
   "cell_type": "code",
   "execution_count": 117,
   "metadata": {},
   "outputs": [],
   "source": [
    "'''\n",
    "def setEffector(val):\n",
    "# function that triggers the end effector remotely\n",
    "# val is Int with value 0 or 1 to disable or activate the final actuator.\n",
    "    res,retInts,retFloats,retStrings,retBuffer=sim.simxCallScriptFunction(clientID,\n",
    "        \"suctionPad\", sim.sim_scripttype_childscript,\"setEffector\",[val],[],[],\"\", sim.simx_opmode_blocking)\n",
    "    return res\n",
    "'''\n",
    "\n",
    "def setEffector(val):\n",
    "    try:\n",
    "        sim.setInt32Signal('suctionPadEffector', val)\n",
    "        # print(f\"OK: setEffector({val}) sent via signal successfully\")\n",
    "        return 0\n",
    "    except Exception as e:\n",
    "        print(f\"Error setting effector signal ({val}): {e}\")\n",
    "        return 1\n"
   ]
  },
  {
   "cell_type": "markdown",
   "metadata": {},
   "source": [
    "### Rotation matrix from the Euler angles"
   ]
  },
  {
   "cell_type": "code",
   "execution_count": 118,
   "metadata": {},
   "outputs": [],
   "source": [
    "# We define a function to construct the rotation matrix from the Euler angles\n",
    "\n",
    "def matrixFromEuler(alpha, beta, gamma):\n",
    "    # theta y alpha in radians\n",
    "    # d y a in meters\n",
    "    Ra = sp.Matrix([[1, 0, 0, 0],\n",
    "                   [0, sp.cos(alpha), -sp.sin(alpha), 0],\n",
    "                   [0, sp.sin(alpha), sp.cos(alpha), 0],\n",
    "                   [0, 0, 0, 1]])\n",
    "    Rb = sp.Matrix([[sp.cos(beta), 0, sp.sin(beta), 0],\n",
    "                   [0, 1, 0, 0],\n",
    "                   [-sp.sin(beta), 0, sp.cos(beta), 0],\n",
    "                   [0, 0, 0, 1]])\n",
    "    Rc = sp.Matrix([[sp.cos(gamma), -sp.sin(gamma), 0, 0],\n",
    "                   [sp.sin(gamma), sp.cos(gamma), 0, 0],\n",
    "                   [0, 0, 1, 0],\n",
    "                   [0, 0, 0, 1]])\n",
    "    E = Ra*Rb*Rc\n",
    "    return E"
   ]
  },
  {
   "cell_type": "code",
   "execution_count": null,
   "metadata": {},
   "outputs": [],
   "source": []
  },
  {
   "cell_type": "code",
   "execution_count": 119,
   "metadata": {},
   "outputs": [
    {
     "name": "stdout",
     "output_type": "stream",
     "text": [
      "[0.25, 0.25, 0.009999927133321759] [-1.2420651328680367e-14, -2.7535921774697387e-15, 25.000000627450746]\n",
      "Piece Position: [0.25, 0.25, 0.009999927133321759] m\n",
      "Orientation of the Piece on the Z axis: 25. degrees\n"
     ]
    }
   ],
   "source": [
    "\"\"\"\n",
    "# WE GET THE POSITION AND ORIENTATION OF THE COBOID WE HAVE TO GET\n",
    "RetCode,posicion=sim.simxGetObjectPosition(clientID,cuboid, -1, sim.simx_opmode_blocking)\n",
    "RetCode,orientacion=sim.simxGetObjectOrientation(clientID,cuboid, -1, sim.simx_opmode_blocking)\n",
    "# Degrees of each axis\n",
    "orientacion[0]=orientacion[0]*180/np.pi\n",
    "orientacion[1]=orientacion[1]*180/np.pi\n",
    "orientacion[2]=orientacion[2]*180/np.pi\n",
    "print (posicion,orientacion)\n",
    "print(\" Piece Position : \", posicion, \"m\")\n",
    "orz= N(orientacion[2],2)\n",
    "print(\"Orientation of the Piece on the Z axis : \", orz, \"degrees\")\n",
    "# Check that the angles of the piece range from -90 to 90º\n",
    "\"\"\"\n",
    "\n",
    "\n",
    "# Get the position and orientation of the cuboid using ZeroMQ Remote API\n",
    "posicion = sim.getObjectPosition(cuboid, -1)\n",
    "orientacion = sim.getObjectOrientation(cuboid, -1)\n",
    "\n",
    "# Degrees of each axis\n",
    "orientacion[0] = orientacion[0] * 180 / np.pi\n",
    "orientacion[1] = orientacion[1] * 180 / np.pi\n",
    "orientacion[2] = orientacion[2] * 180 / np.pi\n",
    "\n",
    "print(posicion, orientacion)\n",
    "print(\"Piece Position:\", posicion, \"m\")\n",
    "\n",
    "orz = N(orientacion[2], 2)\n",
    "print(\"Orientation of the Piece on the Z axis:\", orz, \"degrees\")\n",
    "\n",
    "# Check that the angles of the piece range from -90 to 90º\n",
    "\n",
    "\n"
   ]
  },
  {
   "cell_type": "code",
   "execution_count": 120,
   "metadata": {},
   "outputs": [
    {
     "data": {
      "text/latex": [
       "$\\displaystyle \\left[\\begin{matrix}0.90631 & -0.42262 & 0 & 0.25\\\\0.42262 & 0.90631 & 0 & 0.25\\\\0 & 0 & 1.0 & 0.021\\\\0 & 0 & 0 & 1.0\\end{matrix}\\right]$"
      ],
      "text/plain": [
       "Matrix([\n",
       "[0.90631, -0.42262,   0,  0.25],\n",
       "[0.42262,  0.90631,   0,  0.25],\n",
       "[      0,        0, 1.0, 0.021],\n",
       "[      0,        0,   0,   1.0]])"
      ]
     },
     "execution_count": 120,
     "metadata": {},
     "output_type": "execute_result"
    }
   ],
   "source": [
    "# We observe that the object is oriented in the Z Axis about 25 degrees\n",
    "# We build the object matrix with its orientations and positions\n",
    "mpieza = sp.Matrix([[1, 0, 0,posicion[0]],\n",
    "               [0, 1, 0, posicion[1]], \n",
    "               [0, 0, 1, posicion[2]], \n",
    "               [0, 0, 0, 1]])\n",
    "Objetivo = mpieza*matrixFromEuler(0, 0,orz*np.pi/180) \n",
    "#I only pass the Z Axis, the others are close to 0 (in an atropomorphic the Alga, Beta and Gamma should be passed)\n",
    "\n",
    "# We adjust the grip position of the suction cup\n",
    "# IMPORTANT: THE PIECE GIVES US A Z POSITION CENTERED ON THE PIECE OF ONE CM--> BUT THE SUCTION CUP HAS TO GET IT 1mm ABOVE\n",
    "dventosa=0.011 # It will be located in our case at 2.1 cm in Z, being able to pick up the piece\n",
    "Objetivo[2,3]=Objetivo[2,3]+dventosa\n",
    "Objetivo=N(Objetivo,5) \n",
    "Objetivo"
   ]
  },
  {
   "cell_type": "code",
   "execution_count": 121,
   "metadata": {},
   "outputs": [
    {
     "data": {
      "text/latex": [
       "$\\displaystyle \\left[\\begin{matrix}1.0 \\cos{\\left(\\theta_{1} + \\theta_{2} - \\theta_{4} \\right)} - 0.90631 & 0.42262 - 1.0 \\sin{\\left(\\theta_{1} + \\theta_{2} - \\theta_{4} \\right)} & 0 & 0.2 \\cos{\\left(\\theta_{1} + \\theta_{2} \\right)} + 0.2 \\cos{\\left(\\theta_{1} \\right)} - 0.25\\\\1.0 \\sin{\\left(\\theta_{1} + \\theta_{2} - \\theta_{4} \\right)} - 0.42262 & 1.0 \\cos{\\left(\\theta_{1} + \\theta_{2} - \\theta_{4} \\right)} - 0.90631 & 0 & 0.2 \\sin{\\left(\\theta_{1} + \\theta_{2} \\right)} + 0.2 \\sin{\\left(\\theta_{1} \\right)} - 0.25\\\\0 & 0 & 0 & 0.080900061750412 - 1.0 d_{3}\\\\0 & 0 & 0 & 0\\end{matrix}\\right]$"
      ],
      "text/plain": [
       "Matrix([\n",
       "[1.0*cos(theta1 + theta2 - theta4) - 0.90631, 0.42262 - 1.0*sin(theta1 + theta2 - theta4), 0, 0.2*cos(theta1 + theta2) + 0.2*cos(theta1) - 0.25],\n",
       "[1.0*sin(theta1 + theta2 - theta4) - 0.42262, 1.0*cos(theta1 + theta2 - theta4) - 0.90631, 0, 0.2*sin(theta1 + theta2) + 0.2*sin(theta1) - 0.25],\n",
       "[                                          0,                                           0, 0,                        0.080900061750412 - 1.0*d3],\n",
       "[                                          0,                                           0, 0,                                                 0]])"
      ]
     },
     "execution_count": 121,
     "metadata": {},
     "output_type": "execute_result"
    }
   ],
   "source": [
    "# Sympy's nsolve function searches for solutions that\n",
    "# set an expression equal to zero. If we require mbee = D, then we look for mbee-D = 0\n",
    "eq=mbee-Objetivo\n",
    "eq\n"
   ]
  },
  {
   "cell_type": "markdown",
   "metadata": {},
   "source": [
    "## We solve using Sympy's nsolve\n",
    "### We can obtain the angles and distances of the Joints"
   ]
  },
  {
   "cell_type": "code",
   "execution_count": 122,
   "metadata": {},
   "outputs": [
    {
     "data": {
      "text/latex": [
       "$\\displaystyle \\left[\\begin{matrix}0.2987\\\\0.97339\\\\0.0809\\\\0.83576\\end{matrix}\\right]$"
      ],
      "text/plain": [
       "Matrix([\n",
       "[ 0.2987],\n",
       "[0.97339],\n",
       "[ 0.0809],\n",
       "[0.83576]])"
      ]
     },
     "execution_count": 122,
     "metadata": {},
     "output_type": "execute_result"
    }
   ],
   "source": [
    "try:\n",
    "    q = nsolve(mbee-Objetivo, (theta1,theta2,d3,theta4),(1, 1, 1, 1), prec=5)\n",
    "except:\n",
    "    print('no se encontró la solución, es posible que haya infinitas soluciones')\n",
    "    q = [0, 0, 0, 0]\n",
    "q\n",
    "# It is possible that you will not find a solution due to the precision and initial values given, try changing orientation and position\n"
   ]
  },
  {
   "cell_type": "code",
   "execution_count": 123,
   "metadata": {},
   "outputs": [
    {
     "name": "stdout",
     "output_type": "stream",
     "text": [
      "Matrix([[0.29870], [0.97339], [0.080900], [0.83576]])\n",
      "17.1144408238486 55.7711404366566 -0.080900 47.8855880780249\n"
     ]
    }
   ],
   "source": [
    "# Degrees of each axis\n",
    "q[0]=q[0]-round(q[0]/(np.pi*2))*2*np.pi\n",
    "q[1]=q[1]-round(q[1]/(np.pi*2))*2*np.pi\n",
    "q[3]=q[3]-round(q[3]/(np.pi*2))*2*np.pi\n",
    "print(q)\n",
    "a1=q[0]*180/np.pi\n",
    "a2=q[1]*180/np.pi\n",
    "a3=-q[2]  # destination distance\n",
    "a4=q[3]*180/np.pi\n",
    "print(a1,a2,a3,a4)"
   ]
  },
  {
   "cell_type": "markdown",
   "metadata": {},
   "source": []
  },
  {
   "cell_type": "markdown",
   "metadata": {},
   "source": [
    "<img src=\"0piece.png\" width=\"500\"><br>"
   ]
  },
  {
   "cell_type": "code",
   "execution_count": 124,
   "metadata": {},
   "outputs": [
    {
     "name": "stdout",
     "output_type": "stream",
     "text": [
      "0.2987031936645508 0.9733896255493164 0.8357610702514648\n",
      "OK: setEffector(1) sent via signal successfully\n"
     ]
    }
   ],
   "source": [
    "\"\"\"\n",
    "import time\n",
    "time.sleep(3)\n",
    "setEffector(0)\n",
    "\n",
    "sim.setJointTargetPosition(joint1, q[0])\n",
    "sim.setJointTargetPosition(joint2, q[1])\n",
    "sim.setJointTargetPosition(joint4, q[3])\n",
    "\n",
    "time.sleep(3)\n",
    "\n",
    "sim.setJointTargetPosition(joint3, a3)\n",
    "setEffector(1)\n",
    "\n",
    "time.sleep(1)\n",
    "\n",
    "sim.setJointTargetPosition(joint3, a3 + 0.08)  # SUBO 8cm\n",
    "time.sleep(1)\n",
    "\"\"\"\n",
    "\n",
    "# Preparado\n",
    "import time\n",
    "\n",
    "\n",
    "q = [float(val) for val in q]\n",
    "a1 = float(a1)\n",
    "a2 = float(a2)\n",
    "a3 = float(a3)\n",
    "a4 = float(a4)\n",
    "\n",
    "print(q[0], q[1], q[3])\n",
    "\n",
    "\n",
    "# Mover Joints con setJointTargetPosition \n",
    "sim.setJointTargetPosition(joint1, q[0])\n",
    "sim.setJointTargetPosition(joint2, q[1])\n",
    "sim.setJointTargetPosition(joint4, q[3])\n",
    "\n",
    "time.sleep(3)\n",
    "\n",
    "# Baja el eje Z\n",
    "sim.setJointTargetPosition(joint3, a3)\n",
    "\n",
    "# Activa el effector\n",
    "setEffector(1)\n",
    "\n",
    "# Espera\n",
    "time.sleep(1)\n",
    "\n",
    "# Sube el eje Z\n",
    "sim.setJointTargetPosition(joint3, a3 + 0.08)\n",
    "time.sleep(1)\n",
    "\n",
    "\n",
    "\n"
   ]
  },
  {
   "cell_type": "code",
   "execution_count": 125,
   "metadata": {},
   "outputs": [
    {
     "data": {
      "text/latex": [
       "$\\displaystyle \\left[\\begin{matrix}1.0 & 0 & 0 & 0.39\\\\0 & 1.0 & 0 & 0\\\\0 & 0 & 1.0 & 0.021\\\\0 & 0 & 0 & 1.0\\end{matrix}\\right]$"
      ],
      "text/plain": [
       "Matrix([\n",
       "[1.0,   0,   0,  0.39],\n",
       "[  0, 1.0,   0,     0],\n",
       "[  0,   0, 1.0, 0.021],\n",
       "[  0,   0,   0,   1.0]])"
      ]
     },
     "execution_count": 125,
     "metadata": {},
     "output_type": "execute_result"
    }
   ],
   "source": [
    "# Si quisiera colocar la pieza por ejemplo en el punto x,y,z=0.25,0,0.021\n",
    "x,y,z=0.39,0,0.021\n",
    "# Construimos la matriz destino con sus orientaciones y posiciones\n",
    "destino = sp.Matrix([[1, 0, 0,x],\n",
    "               [0, 1, 0, y], \n",
    "               [0, 0, 1,z], \n",
    "               [0, 0, 0, 1]])\n",
    "PuntoDestino = destino*matrixFromEuler(0, 0, 0) #Solo le paso la del Eje Z, para jugar al dominó puede ser 0 o 90º\n",
    "\n",
    "# Ajustamos la posición de cogida de la ventosa \n",
    "# IMPORTANTE: LA PIEZA NOS DA UNA POSICIÓN Z CENTRADA EN LA PIEZA DE UN CM--> PERO LA VENTOSA A DE COGERLA 1mm POR ENCIM\n",
    "PuntoDestino=N(PuntoDestino,5)\n",
    "PuntoDestino"
   ]
  },
  {
   "cell_type": "code",
   "execution_count": 126,
   "metadata": {},
   "outputs": [
    {
     "data": {
      "text/latex": [
       "$\\displaystyle \\left[\\begin{matrix}-0.22408\\\\0.44815\\\\0.0809\\\\0.22408\\end{matrix}\\right]$"
      ],
      "text/plain": [
       "Matrix([\n",
       "[-0.22408],\n",
       "[ 0.44815],\n",
       "[  0.0809],\n",
       "[ 0.22408]])"
      ]
     },
     "execution_count": 126,
     "metadata": {},
     "output_type": "execute_result"
    }
   ],
   "source": [
    "try:\n",
    "    q = nsolve(mbee-PuntoDestino, (theta1,theta2,d3,theta4),(1, 1, 1, 1), prec=5)\n",
    "except:\n",
    "    print('solution was not found, it is possible that there are infinite solutions')\n",
    "    q = [0, 0, 0, 0]\n",
    "q\n"
   ]
  },
  {
   "cell_type": "code",
   "execution_count": 127,
   "metadata": {},
   "outputs": [
    {
     "name": "stdout",
     "output_type": "stream",
     "text": [
      "Matrix([[-0.22408], [0.44815], [0.080900], [0.22408]])\n",
      "-12.8386476914641 25.6772953829282 -0.080900 12.8386476914641\n"
     ]
    }
   ],
   "source": [
    "# Grados de cada eje destino\n",
    "q[0]=q[0]-round(q[0]/(np.pi*2))*2*np.pi\n",
    "q[1]=q[1]-round(q[1]/(np.pi*2))*2*np.pi\n",
    "q[3]=q[3]-round(q[3]/(np.pi*2))*2*np.pi\n",
    "print(q)\n",
    "b1=q[0]*180/np.pi\n",
    "b2=q[1]*180/np.pi\n",
    "b3=-q[2]  # distancia destino: restará al prismático la distancia máxima\n",
    "b4=q[3]*180/np.pi\n",
    "print(b1,b2,b3,b4)"
   ]
  },
  {
   "cell_type": "code",
   "execution_count": 128,
   "metadata": {},
   "outputs": [
    {
     "data": {
      "text/latex": [
       "$\\displaystyle 82.932521647066$"
      ],
      "text/plain": [
       "82.9325216470660"
      ]
     },
     "execution_count": 128,
     "metadata": {},
     "output_type": "execute_result"
    }
   ],
   "source": [
    "#Correction needed of orientation:\n",
    "correccion=a1-b1+a2-b2+a4-orz\n",
    "correccion\n",
    "# Substraction between origin and destination angles"
   ]
  },
  {
   "cell_type": "code",
   "execution_count": 129,
   "metadata": {},
   "outputs": [
    {
     "data": {
      "text/plain": [
       "'\\nretCode = sim.simxSetJointTargetPosition(clientID, joint1, q[0], sim.simx_opmode_oneshot)\\nretCode = sim.simxSetJointTargetPosition(clientID, joint2, q[1], sim.simx_opmode_oneshot)\\ntime.sleep(2)\\nretCode = sim.simxSetJointTargetPosition(clientID, joint4,(correccion)*np.pi/180, sim.simx_opmode_oneshot)\\ntime.sleep(2)\\nretCode = sim.simxSetJointTargetPosition(clientID, joint3, a3+0.002, sim.simx_opmode_oneshot)\\ntime.sleep(1)\\nsetEffector(0)\\ntime.sleep(1)\\nretCode = sim.simxSetJointTargetPosition(clientID, joint3, a3+0.08, sim.simx_opmode_oneshot)\\n'"
      ]
     },
     "execution_count": 129,
     "metadata": {},
     "output_type": "execute_result"
    }
   ],
   "source": [
    "\"\"\"\n",
    "retCode = sim.simxSetJointTargetPosition(clientID, joint1, q[0], sim.simx_opmode_oneshot)\n",
    "retCode = sim.simxSetJointTargetPosition(clientID, joint2, q[1], sim.simx_opmode_oneshot)\n",
    "time.sleep(2)\n",
    "retCode = sim.simxSetJointTargetPosition(clientID, joint4,(correccion)*np.pi/180, sim.simx_opmode_oneshot)\n",
    "time.sleep(2)\n",
    "retCode = sim.simxSetJointTargetPosition(clientID, joint3, a3+0.002, sim.simx_opmode_oneshot)\n",
    "time.sleep(1)\n",
    "setEffector(0)\n",
    "time.sleep(1)\n",
    "retCode = sim.simxSetJointTargetPosition(clientID, joint3, a3+0.08, sim.simx_opmode_oneshot)\n",
    "\"\"\""
   ]
  },
  {
   "cell_type": "markdown",
   "metadata": {},
   "source": [
    "<img src=\"1piece.png\" width=\"500\"><br>"
   ]
  },
  {
   "cell_type": "markdown",
   "metadata": {},
   "source": [
    "<h3>EXERCISE -\n",
    "    You have to do the programming to place the 3 dominoes together with a proper orientation.\n",
    "    \n",
    "Note: It is not necessary to apply image recognition algorithms or the values of the chips, we just want to place the chips in an orderly manner </h3>"
   ]
  },
  {
   "cell_type": "code",
   "execution_count": 130,
   "metadata": {},
   "outputs": [
    {
     "data": {
      "text/latex": [
       "$\\displaystyle \\left[\\begin{matrix}1.0 & 0 & 0 & 0.39\\\\0 & 1.0 & 0 & 0\\\\0 & 0 & 1.0 & 0.021\\\\0 & 0 & 0 & 1.0\\end{matrix}\\right]$"
      ],
      "text/plain": [
       "Matrix([\n",
       "[1.0,   0,   0,  0.39],\n",
       "[  0, 1.0,   0,     0],\n",
       "[  0,   0, 1.0, 0.021],\n",
       "[  0,   0,   0,   1.0]])"
      ]
     },
     "execution_count": 130,
     "metadata": {},
     "output_type": "execute_result"
    }
   ],
   "source": [
    "import sympy as sp\n",
    "import numpy as np\n",
    "\n",
    "# Coordenadas de destino\n",
    "x, y, z = 0.39, 0.0, 0.021\n",
    "\n",
    "# Creamos la matriz destino\n",
    "destino = sp.Matrix([\n",
    "    [1, 0, 0, x],\n",
    "    [0, 1, 0, y],\n",
    "    [0, 0, 1, z],\n",
    "    [0, 0, 0, 1]\n",
    "])\n",
    "\n",
    "# Solo queremos orientación 0 en Z, no hay rotación\n",
    "PuntoDestino = destino * matrixFromEuler(0, 0, 0)  # función que ya tienes definida\n",
    "PuntoDestino = sp.N(PuntoDestino, 5)  # redondeo a 5 decimales\n",
    "PuntoDestino\n",
    "\n"
   ]
  },
  {
   "cell_type": "code",
   "execution_count": 131,
   "metadata": {},
   "outputs": [
    {
     "data": {
      "text/latex": [
       "$\\displaystyle \\left[\\begin{matrix}-0.22408\\\\0.44815\\\\0.0809\\\\0.22408\\end{matrix}\\right]$"
      ],
      "text/plain": [
       "Matrix([\n",
       "[-0.22408],\n",
       "[ 0.44815],\n",
       "[  0.0809],\n",
       "[ 0.22408]])"
      ]
     },
     "execution_count": 131,
     "metadata": {},
     "output_type": "execute_result"
    }
   ],
   "source": [
    "from sympy import nsolve\n",
    "\n",
    "# Intentamos resolver mbee - PuntoDestino = 0\n",
    "try:\n",
    "    q = nsolve(mbee - PuntoDestino, (theta1, theta2, d3, theta4), (1, 1, 1, 1), prec=5)\n",
    "except:\n",
    "    print('No se encontró la solución, es posible que haya infinitas soluciones')\n",
    "    q = [0, 0, 0, 0]\n",
    "\n",
    "q\n"
   ]
  },
  {
   "cell_type": "code",
   "execution_count": 132,
   "metadata": {},
   "outputs": [
    {
     "name": "stdout",
     "output_type": "stream",
     "text": [
      "Matrix([[-0.22408], [0.44815], [0.080900], [0.22408]])\n",
      "-12.8386476914641 25.6772953829282 -0.080900 12.8386476914641\n"
     ]
    }
   ],
   "source": [
    "# Ajuste de los ángulos al rango correcto\n",
    "q[0] = q[0] - round(q[0] / (2 * np.pi)) * 2 * np.pi\n",
    "q[1] = q[1] - round(q[1] / (2 * np.pi)) * 2 * np.pi\n",
    "q[3] = q[3] - round(q[3] / (2 * np.pi)) * 2 * np.pi\n",
    "\n",
    "print(q)\n",
    "\n",
    "# Convertimos a grados\n",
    "b1 = q[0] * 180 / np.pi\n",
    "b2 = q[1] * 180 / np.pi\n",
    "b3 = -q[2]  # La distancia en el prismatico (negada)\n",
    "b4 = q[3] * 180 / np.pi\n",
    "\n",
    "print(b1, b2, b3, b4)"
   ]
  },
  {
   "cell_type": "code",
   "execution_count": 133,
   "metadata": {},
   "outputs": [
    {
     "name": "stdout",
     "output_type": "stream",
     "text": [
      "Corrección angular: 82.9325216470660\n"
     ]
    }
   ],
   "source": [
    "# correccion de orientación\n",
    "\n",
    "correccion = a1 - b1 + a2 - b2 + a4 - orz\n",
    "print(\"Corrección angular:\", correccion)\n"
   ]
  },
  {
   "cell_type": "code",
   "execution_count": 134,
   "metadata": {},
   "outputs": [
    {
     "name": "stdout",
     "output_type": "stream",
     "text": [
      "OK: setEffector(0) sent via signal successfully\n"
     ]
    },
    {
     "data": {
      "text/latex": [
       "$\\displaystyle 1$"
      ],
      "text/plain": [
       "1"
      ]
     },
     "execution_count": 134,
     "metadata": {},
     "output_type": "execute_result"
    }
   ],
   "source": [
    "import time\n",
    "\n",
    "# Primero mueve los dos primeros ejes\n",
    "sim.setJointTargetPosition(joint1, float(q[0]))\n",
    "sim.setJointTargetPosition(joint2, float(q[1]))\n",
    "\n",
    "# Esperamos que llegue\n",
    "time.sleep(2)\n",
    "\n",
    "# Luego corregimos la orientación (solo el cuarto joint)\n",
    "sim.setJointTargetPosition(joint4, float(correccion) * np.pi / 180)\n",
    "\n",
    "# Esperamos de nuevo\n",
    "time.sleep(2)\n",
    "\n",
    "# Ahora bajamos en Z para soltar\n",
    "sim.setJointTargetPosition(joint3, a3 + 0.002)\n",
    "time.sleep(1)\n",
    "\n",
    "# Soltamos la pieza\n",
    "setEffector(0)\n",
    "\n",
    "# Subimos el Z otra vez\n",
    "time.sleep(1)\n",
    "sim.setJointTargetPosition(joint3, a3 + 0.08)\n"
   ]
  },
  {
   "cell_type": "code",
   "execution_count": 135,
   "metadata": {
    "scrolled": true
   },
   "outputs": [
    {
     "name": "stdout",
     "output_type": "stream",
     "text": [
      "[0.04465553164482117, 0.2800000011920929, 0.009999927133321759] [-0.0, 0.0, 50.00000251749755]\n"
     ]
    }
   ],
   "source": [
    "# busquemos la segunda ficha (el 6:3)\n",
    "\n",
    "cuboid1 = sim.getObjectHandle('/Cuboid1')\n",
    "posicion1 = sim.getObjectPosition(cuboid1, -1)\n",
    "orientacion1 = sim.getObjectOrientation(cuboid1, -1)\n",
    "\n",
    "# Pasamos orientación a grados para verla mejor\n",
    "orientacion1_deg = [o * 180/np.pi for o in orientacion1]\n",
    "\n",
    "print(posicion1, orientacion1_deg)\n"
   ]
  },
  {
   "cell_type": "code",
   "execution_count": 136,
   "metadata": {},
   "outputs": [
    {
     "name": "stdout",
     "output_type": "stream",
     "text": [
      "Orientation Z Cuboid1: 50.00000251749755\n"
     ]
    }
   ],
   "source": [
    "# Convertimos orientación de radianes a grados\n",
    "orientacion1[0] = orientacion1[0] * 180 / np.pi\n",
    "orientacion1[1] = orientacion1[1] * 180 / np.pi\n",
    "orientacion1[2] = orientacion1[2] * 180 / np.pi\n",
    "\n",
    "print(\"Orientation Z Cuboid1:\", orientacion1[2])"
   ]
  },
  {
   "cell_type": "code",
   "execution_count": 137,
   "metadata": {},
   "outputs": [
    {
     "data": {
      "text/latex": [
       "$\\displaystyle \\left[\\begin{matrix}0.64279 & -0.76604 & 0 & 0.044656\\\\0.76604 & 0.64279 & 0 & 0.28\\\\0 & 0 & 1.0 & 0.021\\\\0 & 0 & 0 & 1.0\\end{matrix}\\right]$"
      ],
      "text/plain": [
       "Matrix([\n",
       "[0.64279, -0.76604,   0, 0.044656],\n",
       "[0.76604,  0.64279,   0,     0.28],\n",
       "[      0,        0, 1.0,    0.021],\n",
       "[      0,        0,   0,      1.0]])"
      ]
     },
     "execution_count": 137,
     "metadata": {},
     "output_type": "execute_result"
    }
   ],
   "source": [
    "# Extraemos la orientación en Z\n",
    "orz1 = N(orientacion1[2], 2)\n",
    "\n",
    "# Construimos matriz de la pieza\n",
    "mpieza1 = sp.Matrix([\n",
    "    [1, 0, 0, posicion1[0]],\n",
    "    [0, 1, 0, posicion1[1]],\n",
    "    [0, 0, 1, posicion1[2]],\n",
    "    [0, 0, 0, 1]\n",
    "])\n",
    "\n",
    "# Combinamos posición y orientación\n",
    "Objetivo1 = mpieza1 * matrixFromEuler(0, 0, orz1*np.pi/180)\n",
    "\n",
    "# Ajustamos altura para la ventosa\n",
    "dventosa = 0.011\n",
    "Objetivo1[2, 3] += dventosa\n",
    "Objetivo1 = N(Objetivo1, 5)\n",
    "\n",
    "Objetivo1"
   ]
  },
  {
   "cell_type": "code",
   "execution_count": 138,
   "metadata": {},
   "outputs": [
    {
     "name": "stdout",
     "output_type": "stream",
     "text": [
      "[0.6297101974487305, 1.5658683776855469, 0.08090007305145264, 1.3229141235351562]\n"
     ]
    }
   ],
   "source": [
    "try:\n",
    "    q = nsolve(mbee - Objetivo1, (theta1, theta2, d3, theta4), (1, 1, 1, 1), prec=5)\n",
    "    q = [float(val) for val in q]\n",
    "except:\n",
    "    print('No se encontró la solución, puede haber infinitas soluciones')\n",
    "    q = [0, 0, 0, 0]\n",
    "\n",
    "print(q)"
   ]
  },
  {
   "cell_type": "code",
   "execution_count": 139,
   "metadata": {},
   "outputs": [
    {
     "name": "stdout",
     "output_type": "stream",
     "text": [
      "36.079736630161996 89.71764931437902 -0.08090007305145264 75.79739593681286\n"
     ]
    }
   ],
   "source": [
    "# Ajustamos valores\n",
    "q[0] = q[0] - round(q[0]/(np.pi*2))*2*np.pi\n",
    "q[1] = q[1] - round(q[1]/(np.pi*2))*2*np.pi\n",
    "q[3] = q[3] - round(q[3]/(np.pi*2))*2*np.pi\n",
    "\n",
    "a1 = q[0]*180/np.pi\n",
    "a2 = q[1]*180/np.pi\n",
    "a3 = -q[2]  # destino eje Z\n",
    "a4 = q[3]*180/np.pi\n",
    "\n",
    "# Transformamos a float\n",
    "q = [float(val) for val in q]\n",
    "a1 = float(a1)\n",
    "a2 = float(a2)\n",
    "a3 = float(a3)\n",
    "a4 = float(a4)\n",
    "\n",
    "print(a1, a2, a3, a4)\n"
   ]
  },
  {
   "cell_type": "code",
   "execution_count": 140,
   "metadata": {},
   "outputs": [
    {
     "name": "stdout",
     "output_type": "stream",
     "text": [
      "OK: setEffector(1) sent via signal successfully\n"
     ]
    }
   ],
   "source": [
    "# Vamos a recoger la ficha\n",
    "\n",
    "# Movimiento\n",
    "sim.setJointTargetPosition(joint1, q[0])\n",
    "sim.setJointTargetPosition(joint2, q[1])\n",
    "sim.setJointTargetPosition(joint4, q[3])\n",
    "\n",
    "# Espera unos segundos\n",
    "time.sleep(3)\n",
    "\n",
    "# Baja el eje Z\n",
    "sim.setJointTargetPosition(joint3, a3)\n",
    "time.sleep(1)\n",
    "\n",
    "# Activa ventosa\n",
    "setEffector(1)\n",
    "time.sleep(1)\n",
    "\n",
    "# Sube el eje Z\n",
    "sim.setJointTargetPosition(joint3, a3 + 0.08)\n",
    "time.sleep(1)\n"
   ]
  },
  {
   "cell_type": "code",
   "execution_count": 141,
   "metadata": {},
   "outputs": [],
   "source": [
    "# Nueva posición destino para la segunda ficha\n",
    "\n",
    "# Parámetros\n",
    "longitud_ficha = 0.08  # 8 cm\n",
    "separacion = 0.000     # mm\n",
    "\n",
    "# Coordenadas de destino\n",
    "x_destino, y_destino, z_destino = x - longitud_ficha - separacion, y, z\n",
    "\n",
    "\n",
    "# Construimos la matriz de destino\n",
    "destino1 = sp.Matrix([\n",
    "    [1, 0, 0, x_destino],\n",
    "    [0, 1, 0, y_destino],\n",
    "    [0, 0, 1, z_destino],\n",
    "    [0, 0, 0, 1]\n",
    "])\n",
    "\n",
    "angulo_rotacion = (90 - orz1) * np.pi/180\n",
    "PuntoDestino1 = destino1 * matrixFromEuler(0, 0, angulo_rotacion)\n",
    "\n",
    "\n",
    "# Ajustamos por la altura de la ventosa\n",
    "PuntoDestino1 = N(PuntoDestino1, 5)\n",
    "\n",
    "\n"
   ]
  },
  {
   "cell_type": "code",
   "execution_count": 142,
   "metadata": {},
   "outputs": [
    {
     "data": {
      "text/latex": [
       "$\\displaystyle \\left[ -0.684081077575684, \\  1.36816215515137, \\  0.0808999538421631, \\  -0.0140503793954849\\right]$"
      ],
      "text/plain": [
       "[-0.6840810775756836, 1.3681621551513672, 0.08089995384216309, -0.014050379395484924]"
      ]
     },
     "execution_count": 142,
     "metadata": {},
     "output_type": "execute_result"
    }
   ],
   "source": [
    "# Cálculo cinemática inversa\n",
    "try:\n",
    "    q = nsolve(mbee - PuntoDestino1, (theta1, theta2, d3, theta4), (1, 1, 1, 1), prec=5)\n",
    "    q = [float(val) for val in q]\n",
    "except:\n",
    "    print('No se encontró la solución')\n",
    "    q = [0, 0, 0, 0]\n",
    "q"
   ]
  },
  {
   "cell_type": "code",
   "execution_count": 143,
   "metadata": {},
   "outputs": [
    {
     "name": "stdout",
     "output_type": "stream",
     "text": [
      "-39.194958589848135 78.38991717969627 -0.08089995384216309 -0.8050274399188592\n"
     ]
    }
   ],
   "source": [
    "# ajustamos ángulos. Normalizamos los ángulos de q[0], q[1], q[3] para que estén en el rango correcto (−π, π) y luego calculamos b1, b2, b3, b4 en grados\n",
    "\n",
    "q[0] = q[0] - round(q[0]/(np.pi*2))*2*np.pi\n",
    "q[1] = q[1] - round(q[1]/(np.pi*2))*2*np.pi\n",
    "q[3] = q[3] - round(q[3]/(np.pi*2))*2*np.pi\n",
    "\n",
    "b1 = q[0]*180/np.pi\n",
    "b2 = q[1]*180/np.pi\n",
    "b3 = -q[2]\n",
    "b4 = q[3]*180/np.pi\n",
    "\n",
    "q = [float(val) for val in q]\n",
    "b1 = float(b1)\n",
    "b2 = float(b2)\n",
    "b3 = float(b3)\n",
    "b4 = float(b4)\n",
    "\n",
    "print(b1, b2, b3, b4)\n"
   ]
  },
  {
   "cell_type": "code",
   "execution_count": 144,
   "metadata": {},
   "outputs": [
    {
     "name": "stdout",
     "output_type": "stream",
     "text": [
      "Corrección de orientación: 202.39982329150573\n"
     ]
    }
   ],
   "source": [
    "# Corrección de orientación\n",
    "# correccion = a1 - b1 + a2 - b2 + a4 - 90  \n",
    "correccion = a1 - b1 + a2 - b2 + a4 + 90 - orz1\n",
    "correccion = float(correccion)\n",
    "\n",
    "print(\"Corrección de orientación:\", correccion)\n"
   ]
  },
  {
   "cell_type": "code",
   "execution_count": 145,
   "metadata": {},
   "outputs": [
    {
     "name": "stdout",
     "output_type": "stream",
     "text": [
      "OK: setEffector(0) sent via signal successfully\n"
     ]
    }
   ],
   "source": [
    "# Colocamos 2a ficha\n",
    "\n",
    "# Aseguramos que q es lista de floats\n",
    "q = [float(val) for val in q]\n",
    "b3 = float(b3)\n",
    "\n",
    "\n",
    "# Movemos los joints para colocar la segunda ficha\n",
    "\n",
    "sim.setJointTargetPosition(joint1, q[0])\n",
    "sim.setJointTargetPosition(joint2, q[1])\n",
    "time.sleep(2)\n",
    "\n",
    "# Aplicamos la corrección angular\n",
    "sim.setJointTargetPosition(joint4, correccion * np.pi/180)\n",
    "time.sleep(2)\n",
    "\n",
    "# Bajamos\n",
    "sim.setJointTargetPosition(joint3, b3 + 0.002)\n",
    "time.sleep(1)\n",
    "\n",
    "# Soltamos la ficha\n",
    "setEffector(0)\n",
    "time.sleep(1)\n",
    "\n",
    "# Subimos\n",
    "sim.setJointTargetPosition(joint3, b3 + 0.08)\n",
    "time.sleep(1)\n",
    "\n"
   ]
  },
  {
   "cell_type": "code",
   "execution_count": 146,
   "metadata": {},
   "outputs": [
    {
     "name": "stdout",
     "output_type": "stream",
     "text": [
      "Posición de la 3ª ficha: [0.1446555256843567, 0.3050000071525574, 0.009999927133321759]\n",
      "Orientación de la 3ª ficha: [1.1771901585122494e-15, 2.6962215139317198e-14, -94.999976340824]\n",
      "Orientación en Z de la ficha: -95.\n"
     ]
    }
   ],
   "source": [
    "# Cogemos la tercera ficha\n",
    "\n",
    "# Obtener el handle\n",
    "cuboid2 = sim.getObjectHandle('/Cuboid2')\n",
    "\n",
    "# Obtener posición y orientación\n",
    "posicion2 = sim.getObjectPosition(cuboid2, -1)\n",
    "orientacion2 = sim.getObjectOrientation(cuboid2, -1)\n",
    "\n",
    "# Convertimos la orientación de radianes a grados\n",
    "orientacion2[0] = orientacion2[0] * 180 / np.pi\n",
    "orientacion2[1] = orientacion2[1] * 180 / np.pi\n",
    "orientacion2[2] = orientacion2[2] * 180 / np.pi\n",
    "\n",
    "print(\"Posición de la 3ª ficha:\", posicion2)\n",
    "print(\"Orientación de la 3ª ficha:\", orientacion2)\n",
    "\n",
    "# Extraemos la orientación en Z\n",
    "orz2 = N(orientacion2[2], 2)\n",
    "print(\"Orientación en Z de la ficha:\", orz2)\n"
   ]
  },
  {
   "cell_type": "code",
   "execution_count": 147,
   "metadata": {},
   "outputs": [
    {
     "data": {
      "text/latex": [
       "$\\displaystyle \\left[\\begin{matrix}-0.087156 & 0.99619 & 0 & 0.14466\\\\-0.99619 & -0.087156 & 0 & 0.305\\\\0 & 0 & 1.0 & 0.021\\\\0 & 0 & 0 & 1.0\\end{matrix}\\right]$"
      ],
      "text/plain": [
       "Matrix([\n",
       "[-0.087156,   0.99619,   0, 0.14466],\n",
       "[ -0.99619, -0.087156,   0,   0.305],\n",
       "[        0,         0, 1.0,   0.021],\n",
       "[        0,         0,   0,     1.0]])"
      ]
     },
     "execution_count": 147,
     "metadata": {},
     "output_type": "execute_result"
    }
   ],
   "source": [
    "# Definimos la matriz objetivo para coger la tercera ficha\n",
    "\n",
    "# Construimos la matriz de posición (sin rotación todavía)\n",
    "mpieza2 = sp.Matrix([\n",
    "    [1, 0, 0, posicion2[0]],\n",
    "    [0, 1, 0, posicion2[1]],\n",
    "    [0, 0, 1, posicion2[2]],\n",
    "    [0, 0, 0, 1]\n",
    "])\n",
    "\n",
    "# Aplicamos sólo rotación en Z (como antes)\n",
    "Objetivo2 = mpieza2 * matrixFromEuler(0, 0, orz2 * np.pi / 180)\n",
    "\n",
    "# Ajustamos la altura de la ventosa\n",
    "dventosa = 0.011\n",
    "Objetivo2[2, 3] += dventosa\n",
    "\n",
    "# Simplificamos numéricamente\n",
    "Objetivo2 = N(Objetivo2, 5)\n",
    "\n",
    "Objetivo2\n"
   ]
  },
  {
   "cell_type": "code",
   "execution_count": 148,
   "metadata": {},
   "outputs": [
    {
     "data": {
      "text/latex": [
       "$\\displaystyle \\left[ 0.561673164367676, \\  1.13252258300781, \\  0.0809000730514526, \\  3.35226058959961\\right]$"
      ],
      "text/plain": [
       "[0.5616731643676758, 1.1325225830078125, 0.08090007305145264, 3.3522605895996094]"
      ]
     },
     "execution_count": 148,
     "metadata": {},
     "output_type": "execute_result"
    }
   ],
   "source": [
    "# Cálculo de la cinemática inversa para alcanzar la tercera ficha\n",
    "\n",
    "try:\n",
    "    q = nsolve(mbee - Objetivo2, (theta1, theta2, d3, theta4), (1, 1, 1, 1), prec=5)\n",
    "    q = [float(val) for val in q]\n",
    "except:\n",
    "    print('No se encontró la solución')\n",
    "    q = [0, 0, 0, 0]\n",
    "\n",
    "q\n"
   ]
  },
  {
   "cell_type": "code",
   "execution_count": 149,
   "metadata": {},
   "outputs": [
    {
     "name": "stdout",
     "output_type": "stream",
     "text": [
      "32.1815017840256 64.8887642096021 -0.08090007305145264 -167.92961638790544\n"
     ]
    }
   ],
   "source": [
    "# Ajustamos ángulos para que estén en el rango correcto\n",
    "\n",
    "q[0] = q[0] - round(q[0]/(np.pi*2))*2*np.pi\n",
    "q[1] = q[1] - round(q[1]/(np.pi*2))*2*np.pi\n",
    "q[3] = q[3] - round(q[3]/(np.pi*2))*2*np.pi\n",
    "\n",
    "c1 = q[0] * 180 / np.pi\n",
    "c2 = q[1] * 180 / np.pi\n",
    "c3 = -q[2]  # la altura\n",
    "c4 = q[3] * 180 / np.pi\n",
    "\n",
    "# Aseguramos que son tipo float\n",
    "q = [float(val) for val in q]\n",
    "c1 = float(c1)\n",
    "c2 = float(c2)\n",
    "c3 = float(c3)\n",
    "c4 = float(c4)\n",
    "\n",
    "print(c1, c2, c3, c4)\n"
   ]
  },
  {
   "cell_type": "code",
   "execution_count": 150,
   "metadata": {},
   "outputs": [
    {
     "name": "stdout",
     "output_type": "stream",
     "text": [
      "Corrección de orientación: 199.52451588772618\n"
     ]
    }
   ],
   "source": [
    "# Corrección de orientación\n",
    "correccion = a1 - c1 + a2 - c2 + a4 - orz2\n",
    "correccion = float(correccion)\n",
    "\n",
    "print(\"Corrección de orientación:\", correccion)\n"
   ]
  },
  {
   "cell_type": "code",
   "execution_count": 151,
   "metadata": {},
   "outputs": [
    {
     "name": "stdout",
     "output_type": "stream",
     "text": [
      "OK: setEffector(1) sent via signal successfully\n"
     ]
    }
   ],
   "source": [
    "import time\n",
    "\n",
    "# Mover a la posición de la tercera ficha\n",
    "sim.setJointTargetPosition(joint1, q[0])\n",
    "sim.setJointTargetPosition(joint2, q[1])\n",
    "sim.setJointTargetPosition(joint4, q[3])\n",
    "\n",
    "# Esperamos para asegurar que el movimiento termine\n",
    "time.sleep(3)\n",
    "\n",
    "# Bajamos para coger la ficha\n",
    "sim.setJointTargetPosition(joint3, c3)\n",
    "time.sleep(1)\n",
    "\n",
    "# Activamos el efecto de succión\n",
    "setEffector(1)\n",
    "time.sleep(1)\n",
    "\n",
    "# Subimos la ficha\n",
    "sim.setJointTargetPosition(joint3, c3 + 0.08)\n",
    "time.sleep(1)\n"
   ]
  },
  {
   "cell_type": "code",
   "execution_count": 152,
   "metadata": {},
   "outputs": [
    {
     "data": {
      "text/latex": [
       "$\\displaystyle \\left[\\begin{matrix}-0.99619 & 0.087156 & 0 & 0.22\\\\-0.087156 & -0.99619 & 0 & 0\\\\0 & 0 & 1.0 & 0.021\\\\0 & 0 & 0 & 1.0\\end{matrix}\\right]$"
      ],
      "text/plain": [
       "Matrix([\n",
       "[ -0.99619, 0.087156,   0,  0.22],\n",
       "[-0.087156, -0.99619,   0,     0],\n",
       "[        0,        0, 1.0, 0.021],\n",
       "[        0,        0,   0,   1.0]])"
      ]
     },
     "execution_count": 152,
     "metadata": {},
     "output_type": "execute_result"
    }
   ],
   "source": [
    "# Nueva posición destino para la tercera ficha\n",
    "\n",
    "# Parámetros\n",
    "longitud_ficha = 0.08  # 8 * 2 cm aprox.\n",
    "separacion = 0.000     # mm entre fichas\n",
    "\n",
    "# Usamos la última posición conocida (x, y, z) de la segunda ficha\n",
    "# y calculamos el nuevo destino desplazando en la dirección correcta\n",
    "\n",
    "x_destino = x - 0.17 - separacion\n",
    "y_destino = y\n",
    "z_destino = z  # mantenemos altura\n",
    "\n",
    "# Construimos la matriz destino\n",
    "destino2 = sp.Matrix([\n",
    "    [1, 0, 0, x_destino],\n",
    "    [0, 1, 0, y_destino],\n",
    "    [0, 0, 1, z_destino],\n",
    "    [0, 0, 0, 1]\n",
    "])\n",
    "\n",
    "# Aplicamos la misma rotación que la segunda ficha (para que queden alineadas)\n",
    "angulo_rotacion = (90 - orz2) * np.pi/180\n",
    "PuntoDestino2 = destino2 * matrixFromEuler(0, 0, angulo_rotacion)\n",
    "\n",
    "# Ajustamos precisión\n",
    "PuntoDestino2 = N(PuntoDestino2, 5)\n",
    "\n",
    "PuntoDestino2\n"
   ]
  },
  {
   "cell_type": "code",
   "execution_count": 153,
   "metadata": {},
   "outputs": [
    {
     "data": {
      "text/latex": [
       "$\\displaystyle \\left[ 5.29475402832031, \\  1.97686386108398, \\  0.0808999538421631, \\  4.04275512695313\\right]$"
      ],
      "text/plain": [
       "[5.2947540283203125, 1.9768638610839844, 0.08089995384216309, 4.042755126953125]"
      ]
     },
     "execution_count": 153,
     "metadata": {},
     "output_type": "execute_result"
    }
   ],
   "source": [
    "# Cálculo de la cinemática inversa para la tercera ficha\n",
    "\n",
    "try:\n",
    "    q = nsolve(mbee - PuntoDestino2, (theta1, theta2, d3, theta4), (1, 1, 1, 1), prec=5)\n",
    "    q = [float(val) for val in q]\n",
    "except:\n",
    "    print('No se encontró la solución')\n",
    "    q = [0, 0, 0, 0]\n",
    "\n",
    "q\n"
   ]
  },
  {
   "cell_type": "code",
   "execution_count": 154,
   "metadata": {},
   "outputs": [
    {
     "name": "stdout",
     "output_type": "stream",
     "text": [
      "-56.63294061735494 113.26595591204857 -0.08089995384216309 -128.36719362071062\n"
     ]
    }
   ],
   "source": [
    "# Ajuste de los valores de q\n",
    "\n",
    "q[0] = q[0] - round(q[0]/(np.pi*2))*2*np.pi\n",
    "q[1] = q[1] - round(q[1]/(np.pi*2))*2*np.pi\n",
    "q[3] = q[3] - round(q[3]/(np.pi*2))*2*np.pi\n",
    "\n",
    "c1 = q[0]*180/np.pi\n",
    "c2 = q[1]*180/np.pi\n",
    "c3 = -q[2]\n",
    "c4 = q[3]*180/np.pi\n",
    "\n",
    "# Los pasamos todos a float\n",
    "q = [float(val) for val in q]\n",
    "c1 = float(c1)\n",
    "c2 = float(c2)\n",
    "c3 = float(c3)\n",
    "c4 = float(c4)\n",
    "\n",
    "print(c1, c2, c3, c4)\n"
   ]
  },
  {
   "cell_type": "code",
   "execution_count": 155,
   "metadata": {},
   "outputs": [],
   "source": [
    "# Corrección de orientación para la tercera ficha\n",
    "\n",
    "correccion = a1 - c1 + a2 - c2 + a4 +180 - orz2\n",
    "correccion = float(correccion)\n",
    "\n",
    "\n"
   ]
  },
  {
   "cell_type": "code",
   "execution_count": 156,
   "metadata": {},
   "outputs": [
    {
     "name": "stdout",
     "output_type": "stream",
     "text": [
      "OK: setEffector(0) sent via signal successfully\n"
     ]
    }
   ],
   "source": [
    "# Movimiento del robot para colocar la tercera ficha\n",
    "\n",
    "# Giramos los joints de base (theta1 y theta2)\n",
    "sim.setJointTargetPosition(joint1, q[0])\n",
    "sim.setJointTargetPosition(joint2, q[1])\n",
    "time.sleep(2)\n",
    "\n",
    "# Ajustamos la rotación de la ventosa\n",
    "sim.setJointTargetPosition(joint4, correccion * np.pi / 180)\n",
    "time.sleep(2)\n",
    "\n",
    "#  Bajamos para acercarnos a la posición de colocación\n",
    "sim.setJointTargetPosition(joint3, c3 + 0.002)\n",
    "time.sleep(1)\n",
    "\n",
    "# Soltamos la ficha\n",
    "setEffector(0)\n",
    "time.sleep(1)\n",
    "\n",
    "# Subimos otra vez el brazo\n",
    "sim.setJointTargetPosition(joint3, c3 + 0.08)\n",
    "time.sleep(1)\n"
   ]
  },
  {
   "cell_type": "code",
   "execution_count": null,
   "metadata": {},
   "outputs": [],
   "source": []
  }
 ],
 "metadata": {
  "kernelspec": {
   "display_name": "Python 3 (ipykernel)",
   "language": "python",
   "name": "python3"
  },
  "language_info": {
   "codemirror_mode": {
    "name": "ipython",
    "version": 3
   },
   "file_extension": ".py",
   "mimetype": "text/x-python",
   "name": "python",
   "nbconvert_exporter": "python",
   "pygments_lexer": "ipython3",
   "version": "3.11.11"
  }
 },
 "nbformat": 4,
 "nbformat_minor": 4
}
