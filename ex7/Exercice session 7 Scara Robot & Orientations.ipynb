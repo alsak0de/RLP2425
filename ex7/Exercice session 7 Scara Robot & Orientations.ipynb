{
 "cells": [
  {
   "cell_type": "markdown",
   "metadata": {},
   "source": [
    "<h3>SESSION 7 - 4-axis Scara Robot (Rotary Suction Cup Manipulator)</h3>\n",
    "Suction cup-type manipulator control, pick & Place of the Scara Robot with orientation control, Inverse Kinematics"
   ]
  },
  {
   "cell_type": "markdown",
   "metadata": {},
   "source": [
    "The image in the figure represents a 4-Axis SCARA robot and its D-H table (session 9).<br>\n",
    "<img src=\"Scara4dofs.jpg\" width=\"500\"><br>\n",
    "From the parameters indicated in the image, we calculate the coordinate transformation matrices for each joint."
   ]
  },
  {
   "cell_type": "code",
   "execution_count": 1,
   "metadata": {},
   "outputs": [
    {
     "data": {
      "text/latex": [
       "$\\displaystyle \\left( \\theta_{1}, \\  \\theta_{2}, \\  \\theta_{3}, \\  \\theta_{4}, \\  lc, \\  la, \\  lb, \\  l_{4}, \\  d_{3}, \\  \\theta, \\  \\alpha, \\  a, \\  d\\right)$"
      ],
      "text/plain": [
       "(theta1, theta2, theta3, theta4, lc, la, lb, l4, d3, theta, alpha, a, d)"
      ]
     },
     "execution_count": 1,
     "metadata": {},
     "output_type": "execute_result"
    }
   ],
   "source": [
    "import numpy as np\n",
    "import sympy as sp\n",
    "from sympy import *\n",
    "from sympy.physics.vector import init_vprinting\n",
    "init_vprinting(use_latex='mathjax', pretty_print=False)\n",
    "\n",
    "# declaramos los símbolos (longitudes, variables, etc.) que se utilizarán para una formulación posterior.\n",
    "\n",
    "\n",
    "from sympy.physics.mechanics import dynamicsymbols\n",
    "theta1, theta2, theta3, theta4, lc, la, lb, l4, d3, theta, alpha, a, d = dynamicsymbols('theta1 theta2 theta3 theta4 lc la lb l4 d3 theta alpha a d')\n",
    "theta1, theta2, theta3, theta4, lc, la, lb, l4, d3, theta, alpha, a, d "
   ]
  },
  {
   "cell_type": "code",
   "execution_count": 2,
   "metadata": {},
   "outputs": [
    {
     "data": {
      "text/latex": [
       "$\\displaystyle \\left[\\begin{matrix}\\cos{\\left(\\theta \\right)} & - \\sin{\\left(\\theta \\right)} \\cos{\\left(\\alpha \\right)} & \\sin{\\left(\\alpha \\right)} \\sin{\\left(\\theta \\right)} & a \\cos{\\left(\\theta \\right)}\\\\\\sin{\\left(\\theta \\right)} & \\cos{\\left(\\alpha \\right)} \\cos{\\left(\\theta \\right)} & - \\sin{\\left(\\alpha \\right)} \\cos{\\left(\\theta \\right)} & a \\sin{\\left(\\theta \\right)}\\\\0 & \\sin{\\left(\\alpha \\right)} & \\cos{\\left(\\alpha \\right)} & d\\\\0 & 0 & 0 & 1\\end{matrix}\\right]$"
      ],
      "text/plain": [
       "Matrix([\n",
       "[cos(theta), -sin(theta)*cos(alpha),  sin(alpha)*sin(theta), a*cos(theta)],\n",
       "[sin(theta),  cos(alpha)*cos(theta), -sin(alpha)*cos(theta), a*sin(theta)],\n",
       "[         0,             sin(alpha),             cos(alpha),            d],\n",
       "[         0,                      0,                      0,            1]])"
      ]
     },
     "execution_count": 2,
     "metadata": {},
     "output_type": "execute_result"
    }
   ],
   "source": [
    "# The standard homogeneous transformation matrix is represented as:\n",
    "\n",
    "rot = sp.Matrix([[sp.cos(theta), -sp.sin(theta)*sp.cos(alpha), sp.sin(theta)*sp.sin(alpha)],\n",
    "                 [sp.sin(theta), sp.cos(theta)*sp.cos(alpha), -sp.cos(theta)*sp.sin(alpha)],\n",
    "                 [0, sp.sin(alpha), sp.cos(alpha)]])\n",
    "\n",
    "trans = sp.Matrix([a*sp.cos(theta),a*sp.sin(theta),d])\n",
    "\n",
    "last_row = sp.Matrix([[0, 0, 0, 1]])\n",
    "\n",
    "m = sp.Matrix.vstack(sp.Matrix.hstack(rot, trans), last_row)\n",
    "m"
   ]
  },
  {
   "cell_type": "code",
   "execution_count": 3,
   "metadata": {},
   "outputs": [
    {
     "data": {
      "text/latex": [
       "$\\displaystyle \\left[\\begin{matrix}\\cos{\\left(\\theta_{1} \\right)} & - \\sin{\\left(\\theta_{1} \\right)} & 0 & la \\cos{\\left(\\theta_{1} \\right)}\\\\\\sin{\\left(\\theta_{1} \\right)} & \\cos{\\left(\\theta_{1} \\right)} & 0 & la \\sin{\\left(\\theta_{1} \\right)}\\\\0 & 0 & 1.0 & lc\\\\0 & 0 & 0 & 1.0\\end{matrix}\\right]$"
      ],
      "text/plain": [
       "Matrix([\n",
       "[cos(theta1), -sin(theta1),   0, la*cos(theta1)],\n",
       "[sin(theta1),  cos(theta1),   0, la*sin(theta1)],\n",
       "[          0,            0, 1.0,             lc],\n",
       "[          0,            0,   0,            1.0]])"
      ]
     },
     "execution_count": 3,
     "metadata": {},
     "output_type": "execute_result"
    }
   ],
   "source": [
    "# Transformation: 1st axis from '0' to '1'\n",
    "\n",
    "m01 = m.subs({ theta:theta1, d:lc, a:la , alpha:0})\n",
    "N(m01,2)"
   ]
  },
  {
   "cell_type": "code",
   "execution_count": 4,
   "metadata": {},
   "outputs": [
    {
     "data": {
      "text/latex": [
       "$\\displaystyle \\left[\\begin{matrix}\\cos{\\left(\\theta_{2} \\right)} & 1.0 \\sin{\\left(\\theta_{2} \\right)} & 1.22464679914735 \\cdot 10^{-16} \\sin{\\left(\\theta_{2} \\right)} & lb \\cos{\\left(\\theta_{2} \\right)}\\\\\\sin{\\left(\\theta_{2} \\right)} & - 1.0 \\cos{\\left(\\theta_{2} \\right)} & - 1.22464679914735 \\cdot 10^{-16} \\cos{\\left(\\theta_{2} \\right)} & lb \\sin{\\left(\\theta_{2} \\right)}\\\\0 & 1.22464679914735 \\cdot 10^{-16} & -1.0 & 0\\\\0 & 0 & 0 & 1\\end{matrix}\\right]$"
      ],
      "text/plain": [
       "Matrix([\n",
       "[cos(theta2),      1.0*sin(theta2),  1.22464679914735e-16*sin(theta2), lb*cos(theta2)],\n",
       "[sin(theta2),     -1.0*cos(theta2), -1.22464679914735e-16*cos(theta2), lb*sin(theta2)],\n",
       "[          0, 1.22464679914735e-16,                              -1.0,              0],\n",
       "[          0,                    0,                                 0,              1]])"
      ]
     },
     "execution_count": 4,
     "metadata": {},
     "output_type": "execute_result"
    }
   ],
   "source": [
    "# Transformation: 2nd axis from '1' to '2'\n",
    "m12 = m.subs({ theta:theta2, d:0, a:lb ,alpha:180*np.pi/180})\n",
    "m12"
   ]
  },
  {
   "cell_type": "code",
   "execution_count": 5,
   "metadata": {},
   "outputs": [
    {
     "data": {
      "text/latex": [
       "$\\displaystyle \\left[\\begin{matrix}\\cos{\\left(\\theta_{2} \\right)} & 1.0 \\sin{\\left(\\theta_{2} \\right)} & 0 & lb \\cos{\\left(\\theta_{2} \\right)}\\\\\\sin{\\left(\\theta_{2} \\right)} & - 1.0 \\cos{\\left(\\theta_{2} \\right)} & 0 & lb \\sin{\\left(\\theta_{2} \\right)}\\\\0 & 0 & -1.0 & 0\\\\0 & 0 & 0 & 1\\end{matrix}\\right]$"
      ],
      "text/plain": [
       "Matrix([\n",
       "[cos(theta2),  1.0*sin(theta2),    0, lb*cos(theta2)],\n",
       "[sin(theta2), -1.0*cos(theta2),    0, lb*sin(theta2)],\n",
       "[          0,                0, -1.0,              0],\n",
       "[          0,                0,    0,              1]])"
      ]
     },
     "execution_count": 5,
     "metadata": {},
     "output_type": "execute_result"
    }
   ],
   "source": [
    "# round to 0\n",
    "m12[0,2]=0\n",
    "m12[1,2]=0\n",
    "m12[2,1]=0 #problem when rounding to 0 http://research.iac.es/sieinvens/python-course/source/sympy.html\n",
    "m12"
   ]
  },
  {
   "cell_type": "code",
   "execution_count": 6,
   "metadata": {},
   "outputs": [
    {
     "data": {
      "text/latex": [
       "$\\displaystyle \\left[\\begin{matrix}1 & 0 & 0 & 0\\\\0 & 1 & 0 & 0\\\\0 & 0 & 1 & d_{3}\\\\0 & 0 & 0 & 1\\end{matrix}\\right]$"
      ],
      "text/plain": [
       "Matrix([\n",
       "[1, 0, 0,  0],\n",
       "[0, 1, 0,  0],\n",
       "[0, 0, 1, d3],\n",
       "[0, 0, 0,  1]])"
      ]
     },
     "execution_count": 6,
     "metadata": {},
     "output_type": "execute_result"
    }
   ],
   "source": [
    "# Transformation: 3rd axis from '2' to '3'\n",
    "m23 = m.subs({ theta:0, d:d3, a:0 ,alpha:0*np.pi/180})\n",
    "m23"
   ]
  },
  {
   "cell_type": "code",
   "execution_count": 7,
   "metadata": {},
   "outputs": [
    {
     "data": {
      "text/latex": [
       "$\\displaystyle \\left[\\begin{matrix}\\cos{\\left(\\theta_{4} \\right)} & 1.0 \\sin{\\left(\\theta_{4} \\right)} & 1.22464679914735 \\cdot 10^{-16} \\sin{\\left(\\theta_{4} \\right)} & 0\\\\\\sin{\\left(\\theta_{4} \\right)} & - 1.0 \\cos{\\left(\\theta_{4} \\right)} & - 1.22464679914735 \\cdot 10^{-16} \\cos{\\left(\\theta_{4} \\right)} & 0\\\\0 & 1.22464679914735 \\cdot 10^{-16} & -1.0 & l_{4}\\\\0 & 0 & 0 & 1\\end{matrix}\\right]$"
      ],
      "text/plain": [
       "Matrix([\n",
       "[cos(theta4),      1.0*sin(theta4),  1.22464679914735e-16*sin(theta4),  0],\n",
       "[sin(theta4),     -1.0*cos(theta4), -1.22464679914735e-16*cos(theta4),  0],\n",
       "[          0, 1.22464679914735e-16,                              -1.0, l4],\n",
       "[          0,                    0,                                 0,  1]])"
      ]
     },
     "execution_count": 7,
     "metadata": {},
     "output_type": "execute_result"
    }
   ],
   "source": [
    "# Transformation: 4th axis from '3' to '4'\n",
    "m34 = m.subs({ theta:theta4, d:l4, a:0 ,alpha:180*np.pi/180})\n",
    "m34"
   ]
  },
  {
   "cell_type": "code",
   "execution_count": 8,
   "metadata": {},
   "outputs": [
    {
     "data": {
      "text/latex": [
       "$\\displaystyle \\left[\\begin{matrix}\\cos{\\left(\\theta_{4} \\right)} & 1.0 \\sin{\\left(\\theta_{4} \\right)} & 0 & 0\\\\\\sin{\\left(\\theta_{4} \\right)} & - 1.0 \\cos{\\left(\\theta_{4} \\right)} & 0 & 0\\\\0 & 0 & -1.0 & l_{4}\\\\0 & 0 & 0 & 1\\end{matrix}\\right]$"
      ],
      "text/plain": [
       "Matrix([\n",
       "[cos(theta4),  1.0*sin(theta4),    0,  0],\n",
       "[sin(theta4), -1.0*cos(theta4),    0,  0],\n",
       "[          0,                0, -1.0, l4],\n",
       "[          0,                0,    0,  1]])"
      ]
     },
     "execution_count": 8,
     "metadata": {},
     "output_type": "execute_result"
    }
   ],
   "source": [
    "# round to 0\n",
    "m34[0,2]=0\n",
    "m34[1,2]=0\n",
    "m34[2,1]=0 #problem when rounding to 0 http://research.iac.es/sieinvens/python-course/source/sympy.html\n",
    "m34"
   ]
  },
  {
   "cell_type": "code",
   "execution_count": 9,
   "metadata": {},
   "outputs": [
    {
     "data": {
      "text/latex": [
       "$\\displaystyle \\left[\\begin{matrix}\\left(- \\sin{\\left(\\theta_{1} \\right)} \\sin{\\left(\\theta_{2} \\right)} + \\cos{\\left(\\theta_{1} \\right)} \\cos{\\left(\\theta_{2} \\right)}\\right) \\cos{\\left(\\theta_{4} \\right)} + \\left(1.0 \\sin{\\left(\\theta_{1} \\right)} \\cos{\\left(\\theta_{2} \\right)} + 1.0 \\sin{\\left(\\theta_{2} \\right)} \\cos{\\left(\\theta_{1} \\right)}\\right) \\sin{\\left(\\theta_{4} \\right)} & 1.0 \\left(- \\sin{\\left(\\theta_{1} \\right)} \\sin{\\left(\\theta_{2} \\right)} + \\cos{\\left(\\theta_{1} \\right)} \\cos{\\left(\\theta_{2} \\right)}\\right) \\sin{\\left(\\theta_{4} \\right)} - 1.0 \\left(1.0 \\sin{\\left(\\theta_{1} \\right)} \\cos{\\left(\\theta_{2} \\right)} + 1.0 \\sin{\\left(\\theta_{2} \\right)} \\cos{\\left(\\theta_{1} \\right)}\\right) \\cos{\\left(\\theta_{4} \\right)} & 0 & la \\cos{\\left(\\theta_{1} \\right)} - lb \\sin{\\left(\\theta_{1} \\right)} \\sin{\\left(\\theta_{2} \\right)} + lb \\cos{\\left(\\theta_{1} \\right)} \\cos{\\left(\\theta_{2} \\right)}\\\\\\left(1.0 \\sin{\\left(\\theta_{1} \\right)} \\sin{\\left(\\theta_{2} \\right)} - 1.0 \\cos{\\left(\\theta_{1} \\right)} \\cos{\\left(\\theta_{2} \\right)}\\right) \\sin{\\left(\\theta_{4} \\right)} + \\left(\\sin{\\left(\\theta_{1} \\right)} \\cos{\\left(\\theta_{2} \\right)} + \\sin{\\left(\\theta_{2} \\right)} \\cos{\\left(\\theta_{1} \\right)}\\right) \\cos{\\left(\\theta_{4} \\right)} & - 1.0 \\left(1.0 \\sin{\\left(\\theta_{1} \\right)} \\sin{\\left(\\theta_{2} \\right)} - 1.0 \\cos{\\left(\\theta_{1} \\right)} \\cos{\\left(\\theta_{2} \\right)}\\right) \\cos{\\left(\\theta_{4} \\right)} + 1.0 \\left(\\sin{\\left(\\theta_{1} \\right)} \\cos{\\left(\\theta_{2} \\right)} + \\sin{\\left(\\theta_{2} \\right)} \\cos{\\left(\\theta_{1} \\right)}\\right) \\sin{\\left(\\theta_{4} \\right)} & 0 & la \\sin{\\left(\\theta_{1} \\right)} + lb \\sin{\\left(\\theta_{1} \\right)} \\cos{\\left(\\theta_{2} \\right)} + lb \\sin{\\left(\\theta_{2} \\right)} \\cos{\\left(\\theta_{1} \\right)}\\\\0 & 0 & 1.0 & - 1.0 d_{3} - 1.0 l_{4} + lc\\\\0 & 0 & 0 & 1\\end{matrix}\\right]$"
      ],
      "text/plain": [
       "Matrix([\n",
       "[(-sin(theta1)*sin(theta2) + cos(theta1)*cos(theta2))*cos(theta4) + (1.0*sin(theta1)*cos(theta2) + 1.0*sin(theta2)*cos(theta1))*sin(theta4), 1.0*(-sin(theta1)*sin(theta2) + cos(theta1)*cos(theta2))*sin(theta4) - 1.0*(1.0*sin(theta1)*cos(theta2) + 1.0*sin(theta2)*cos(theta1))*cos(theta4),   0, la*cos(theta1) - lb*sin(theta1)*sin(theta2) + lb*cos(theta1)*cos(theta2)],\n",
       "[ (1.0*sin(theta1)*sin(theta2) - 1.0*cos(theta1)*cos(theta2))*sin(theta4) + (sin(theta1)*cos(theta2) + sin(theta2)*cos(theta1))*cos(theta4), -1.0*(1.0*sin(theta1)*sin(theta2) - 1.0*cos(theta1)*cos(theta2))*cos(theta4) + 1.0*(sin(theta1)*cos(theta2) + sin(theta2)*cos(theta1))*sin(theta4),   0, la*sin(theta1) + lb*sin(theta1)*cos(theta2) + lb*sin(theta2)*cos(theta1)],\n",
       "[                                                                                                                                         0,                                                                                                                                                  0, 1.0,                                                    -1.0*d3 - 1.0*l4 + lc],\n",
       "[                                                                                                                                         0,                                                                                                                                                  0,   0,                                                                        1]])"
      ]
     },
     "execution_count": 9,
     "metadata": {},
     "output_type": "execute_result"
    }
   ],
   "source": [
    "# Unsimplified 4-axis Resulting Matrix\n",
    "m04 = (m01*m12*m23*m34)\n",
    "m04"
   ]
  },
  {
   "cell_type": "code",
   "execution_count": 10,
   "metadata": {},
   "outputs": [
    {
     "data": {
      "text/latex": [
       "$\\displaystyle \\left[\\begin{matrix}1.0 \\cos{\\left(\\theta_{1} + \\theta_{2} - \\theta_{4} \\right)} & - 1.0 \\sin{\\left(\\theta_{1} + \\theta_{2} - \\theta_{4} \\right)} & 0 & la \\cos{\\left(\\theta_{1} \\right)} + lb \\cos{\\left(\\theta_{1} + \\theta_{2} \\right)}\\\\1.0 \\sin{\\left(\\theta_{1} + \\theta_{2} - \\theta_{4} \\right)} & 1.0 \\cos{\\left(\\theta_{1} + \\theta_{2} - \\theta_{4} \\right)} & 0 & la \\sin{\\left(\\theta_{1} \\right)} + lb \\sin{\\left(\\theta_{1} + \\theta_{2} \\right)}\\\\0 & 0 & 1.0 & - 1.0 d_{3} - 1.0 l_{4} + 1.0 lc\\\\0 & 0 & 0 & 1\\end{matrix}\\right]$"
      ],
      "text/plain": [
       "Matrix([\n",
       "[1.0*cos(theta1 + theta2 - theta4), -1.0*sin(theta1 + theta2 - theta4),   0, la*cos(theta1) + lb*cos(theta1 + theta2)],\n",
       "[1.0*sin(theta1 + theta2 - theta4),  1.0*cos(theta1 + theta2 - theta4),   0, la*sin(theta1) + lb*sin(theta1 + theta2)],\n",
       "[                                0,                                  0, 1.0,                -1.0*d3 - 1.0*l4 + 1.0*lc],\n",
       "[                                0,                                  0,   0,                                        1]])"
      ]
     },
     "execution_count": 10,
     "metadata": {},
     "output_type": "execute_result"
    }
   ],
   "source": [
    "# Resulting Matrix we can simplify it further:\n",
    "mbee= sp.Matrix([[sp.trigsimp(m04[0,0].simplify()), sp.trigsimp(m04[0,1].simplify()), (m04[0,2].simplify()),sp.trigsimp(m04[0,3].simplify())],\n",
    "                 [sp.trigsimp(m04[1,0].simplify()), sp.trigsimp(m04[1,1].simplify()), (m04[1,2].simplify()),sp.trigsimp(m04[1,3].simplify())],\n",
    "                 [sp.trigsimp(m04[2,0].simplify()), m04[2,1].simplify(), sp.trigsimp(m04[2,2].simplify()),sp.trigsimp(m04[2,3].simplify())],\n",
    "                 [m04[3,0].simplify(), m04[3,1].simplify(), m04[3,2].simplify(),m04[3,3].simplify()]])\n",
    "\n",
    "mbee"
   ]
  },
  {
   "cell_type": "code",
   "execution_count": 12,
   "metadata": {},
   "outputs": [
    {
     "data": {
      "text/latex": [
       "$\\displaystyle \\left[\\begin{matrix}1.0 \\operatorname{cos}\\left(\\theta_{1} + \\theta_{2} - \\theta_{4}\\right) & - 1.0 \\operatorname{sin}\\left(\\theta_{1} + \\theta_{2} - \\theta_{4}\\right) & 0 & 0.2 \\operatorname{cos}\\left(\\theta_{1} + \\theta_{2}\\right) + 0.2 \\operatorname{cos}\\left(\\theta_{1}\\right)\\\\1.0 \\operatorname{sin}\\left(\\theta_{1} + \\theta_{2} - \\theta_{4}\\right) & 1.0 \\operatorname{cos}\\left(\\theta_{1} + \\theta_{2} - \\theta_{4}\\right) & 0 & 0.2 \\operatorname{sin}\\left(\\theta_{1} + \\theta_{2}\\right) + 0.2 \\operatorname{sin}\\left(\\theta_{1}\\right)\\\\0 & 0 & 1.0 & 0.1019 - 1.0 d_{3}\\\\0 & 0 & 0 & 1\\end{matrix}\\right]$"
      ],
      "text/plain": [
       "Matrix([\n",
       "[1.0*cos(theta1 + theta2 - theta4), -1.0*sin(theta1 + theta2 - theta4),   0, 0.2*cos(theta1 + theta2) + 0.2*cos(theta1)],\n",
       "[1.0*sin(theta1 + theta2 - theta4),  1.0*cos(theta1 + theta2 - theta4),   0, 0.2*sin(theta1 + theta2) + 0.2*sin(theta1)],\n",
       "[                                0,                                  0, 1.0,                            0.1019 - 1.0*d3],\n",
       "[                                0,                                  0,   0,                                          1]])"
      ]
     },
     "execution_count": 12,
     "metadata": {},
     "output_type": "execute_result"
    }
   ],
   "source": [
    "#We substitute the values of la, lb, lc i l4 in the matrix\n",
    "mbee=mbee.subs({ lc:0.2, la:0.2, lb:0.2, l4:0.0981})\n",
    "mbee"
   ]
  },
  {
   "cell_type": "markdown",
   "metadata": {},
   "source": [
    "### COMUNICACIÓN CON COPPELIA Y EXTRACCIÓN DE CONTROLADORES"
   ]
  },
  {
   "cell_type": "code",
   "execution_count": 13,
   "metadata": {},
   "outputs": [
    {
     "name": "stdout",
     "output_type": "stream",
     "text": [
      "connected to 19999\n",
      "24 28 16 17 21 23\n"
     ]
    }
   ],
   "source": [
    "\"\"\"\n",
    "# we import the necessary libraries and establish a connection\n",
    "import sim         \n",
    "def connect(port):\n",
    "\n",
    "    sim.simxFinish(-1) # just in case, close all opened connections\n",
    "    clientID=sim.simxStart('127.0.0.1',port,True,True,2000,5) # Connect\n",
    "    if clientID == 0: print(\"connected to\", port)\n",
    "    else: print(\"could not connect\")\n",
    "    return clientID\n",
    "\n",
    "\n",
    "\n",
    "clientID = connect(19999)\n",
    "\"\"\"\n",
    "\n",
    "# I've upgraded the code to  new ZeroMQ implementation.\n",
    "import coppeliasim_zmqremoteapi_client\n",
    "from coppeliasim_zmqremoteapi_client import RemoteAPIClient\n",
    "\n",
    "def connect(port=23000):\n",
    "    try:\n",
    "        client = RemoteAPIClient('127.0.0.1', port)\n",
    "        sim = client.getObject('sim') # Careful! function is getObject now (capital O) \n",
    "        print(f\"Connected to CoppeliaSim on port {port}\")\n",
    "        return sim\n",
    "    except Exception as e:\n",
    "        print(f\"Could not connect to CoppeliaSim on port {port}: {e}\")\n",
    "        return None\n",
    "# Connect to the COPPELIA server\n",
    "sim = connect()\n",
    "\"\"\"\n",
    "# Handlers\n",
    "# We require the handlers for the joints, the suction cup and the suction sensor (Allows us to know if the object is close)\n",
    "\n",
    "retCode,cuboid=sim.simxGetObjectHandle(clientID,'Cuboid',sim.simx_opmode_blocking)\n",
    "retCode,suction=sim.simxGetObjectHandle(clientID,'suctionPad',sim.simx_opmode_blocking)\n",
    "retCode,joint1=sim.simxGetObjectHandle(clientID,'Joint1',sim.simx_opmode_blocking)\n",
    "retCode,joint2=sim.simxGetObjectHandle(clientID,'Joint2',sim.simx_opmode_blocking)\n",
    "retCode,joint3=sim.simxGetObjectHandle(clientID,'Joint3',sim.simx_opmode_blocking)\n",
    "retCode,joint4=sim.simxGetObjectHandle(clientID,'Joint4',sim.simx_opmode_blocking)\n",
    "\n",
    "\"\"\"\n",
    "\n",
    "#New ZeroMQ code\n",
    "cuboid = sim.getObject('/cuboid')\n",
    "suction = sim.getObject('/suction')\n",
    "joint1 = sim.getObject('/joint1')\n",
    "joint2 = sim.getObject('/joint2')\n",
    "joint3 = sim.getObject('/joint3')\n",
    "joint4 = sim.getObject('/joint4')\n",
    "\n",
    "print( cuboid, suction, joint1, joint2, joint3, joint4 )"
   ]
  },
  {
   "cell_type": "markdown",
   "metadata": {},
   "source": [
    "<h3> Suction cup control </h3>\n",
    "Function that allows you to activate or deactivate the Coppelia suction cup from Jupyter. There are instructions in the Coppelia suctionPad scripts that allow remote use."
   ]
  },
  {
   "cell_type": "code",
   "execution_count": 14,
   "metadata": {},
   "outputs": [],
   "source": [
    "def setEffector(val):\n",
    "# function that triggers the end effector remotely\n",
    "# val is Int with value 0 or 1 to disable or activate the final actuator.\n",
    "    res,retInts,retFloats,retStrings,retBuffer=sim.simxCallScriptFunction(clientID,\n",
    "        \"suctionPad\", sim.sim_scripttype_childscript,\"setEffector\",[val],[],[],\"\", sim.simx_opmode_blocking)\n",
    "    return res"
   ]
  },
  {
   "cell_type": "markdown",
   "metadata": {},
   "source": [
    "### Rotation matrix from the Euler angles"
   ]
  },
  {
   "cell_type": "code",
   "execution_count": 15,
   "metadata": {},
   "outputs": [],
   "source": [
    "# We define a function to construct the rotation matrix from the Euler angles\n",
    "\n",
    "def matrixFromEuler(alpha, beta, gamma):\n",
    "    # theta y alpha in radians\n",
    "    # d y a in meters\n",
    "    Ra = sp.Matrix([[1, 0, 0, 0],\n",
    "                   [0, sp.cos(alpha), -sp.sin(alpha), 0],\n",
    "                   [0, sp.sin(alpha), sp.cos(alpha), 0],\n",
    "                   [0, 0, 0, 1]])\n",
    "    Rb = sp.Matrix([[sp.cos(beta), 0, sp.sin(beta), 0],\n",
    "                   [0, 1, 0, 0],\n",
    "                   [-sp.sin(beta), 0, sp.cos(beta), 0],\n",
    "                   [0, 0, 0, 1]])\n",
    "    Rc = sp.Matrix([[sp.cos(gamma), -sp.sin(gamma), 0, 0],\n",
    "                   [sp.sin(gamma), sp.cos(gamma), 0, 0],\n",
    "                   [0, 0, 1, 0],\n",
    "                   [0, 0, 0, 1]])\n",
    "    E = Ra*Rb*Rc\n",
    "    return E"
   ]
  },
  {
   "cell_type": "code",
   "execution_count": null,
   "metadata": {},
   "outputs": [],
   "source": []
  },
  {
   "cell_type": "code",
   "execution_count": 16,
   "metadata": {},
   "outputs": [
    {
     "name": "stdout",
     "output_type": "stream",
     "text": [
      "[0.25, 0.25, 0.009999925270676613] [-3.796000281768879e-08, -9.02471895034824e-08, 24.999977928391147]\n",
      " Piece Position :  [0.25, 0.25, 0.009999925270676613] m\n",
      "Orientation of the Piece on the Z axis :  25. degrees\n"
     ]
    }
   ],
   "source": [
    "# WE GET THE POSITION AND ORIENTATION OF THE COBOID WE HAVE TO GET\n",
    "RetCode,posicion=sim.simxGetObjectPosition(clientID,cuboid, -1, sim.simx_opmode_blocking)\n",
    "RetCode,orientacion=sim.simxGetObjectOrientation(clientID,cuboid, -1, sim.simx_opmode_blocking)\n",
    "# Degrees of each axis\n",
    "orientacion[0]=orientacion[0]*180/np.pi\n",
    "orientacion[1]=orientacion[1]*180/np.pi\n",
    "orientacion[2]=orientacion[2]*180/np.pi\n",
    "print (posicion,orientacion)\n",
    "print(\" Piece Position : \", posicion, \"m\")\n",
    "orz= N(orientacion[2],2)\n",
    "print(\"Orientation of the Piece on the Z axis : \", orz, \"degrees\")\n",
    "# Check that the angles of the piece range from -90 to 90º"
   ]
  },
  {
   "cell_type": "code",
   "execution_count": 17,
   "metadata": {},
   "outputs": [
    {
     "data": {
      "text/latex": [
       "$\\displaystyle \\left[\\begin{matrix}0.90631 & -0.42262 & 0 & 0.25\\\\0.42262 & 0.90631 & 0 & 0.25\\\\0 & 0 & 1.0 & 0.021\\\\0 & 0 & 0 & 1.0\\end{matrix}\\right]$"
      ],
      "text/plain": [
       "Matrix([\n",
       "[0.90631, -0.42262,   0,  0.25],\n",
       "[0.42262,  0.90631,   0,  0.25],\n",
       "[      0,        0, 1.0, 0.021],\n",
       "[      0,        0,   0,   1.0]])"
      ]
     },
     "execution_count": 17,
     "metadata": {},
     "output_type": "execute_result"
    }
   ],
   "source": [
    "# We observe that the object is oriented in the Z Axis about 25 degrees\n",
    "# We build the object matrix with its orientations and positions\n",
    "mpieza = sp.Matrix([[1, 0, 0,posicion[0]],\n",
    "               [0, 1, 0, posicion[1]], \n",
    "               [0, 0, 1, posicion[2]], \n",
    "               [0, 0, 0, 1]])\n",
    "Objetivo = mpieza*matrixFromEuler(0, 0,orz*np.pi/180) \n",
    "#I only pass the Z Axis, the others are close to 0 (in an atropomorphic the Alga, Beta and Gamma should be passed)\n",
    "\n",
    "# We adjust the grip position of the suction cup\n",
    "# IMPORTANT: THE PIECE GIVES US A Z POSITION CENTERED ON THE PIECE OF ONE CM--> BUT THE SUCTION CUP HAS TO GET IT 1mm ABOVE\n",
    "dventosa=0.011 # It will be located in our case at 2.1 cm in Z, being able to pick up the piece\n",
    "Objetivo[2,3]=Objetivo[2,3]+dventosa\n",
    "Objetivo=N(Objetivo,5) \n",
    "Objetivo"
   ]
  },
  {
   "cell_type": "code",
   "execution_count": 18,
   "metadata": {},
   "outputs": [
    {
     "data": {
      "text/latex": [
       "$\\displaystyle \\left[\\begin{matrix}1.0 \\operatorname{cos}\\left(\\theta_{1} + \\theta_{2} - \\theta_{4}\\right) - 0.90631 & 0.42262 - 1.0 \\operatorname{sin}\\left(\\theta_{1} + \\theta_{2} - \\theta_{4}\\right) & 0 & 0.2 \\operatorname{cos}\\left(\\theta_{1} + \\theta_{2}\\right) + 0.2 \\operatorname{cos}\\left(\\theta_{1}\\right) - 0.25\\\\1.0 \\operatorname{sin}\\left(\\theta_{1} + \\theta_{2} - \\theta_{4}\\right) - 0.42262 & 1.0 \\operatorname{cos}\\left(\\theta_{1} + \\theta_{2} - \\theta_{4}\\right) - 0.90631 & 0 & 0.2 \\operatorname{sin}\\left(\\theta_{1} + \\theta_{2}\\right) + 0.2 \\operatorname{sin}\\left(\\theta_{1}\\right) - 0.25\\\\0 & 0 & 0 & 0.080900061750412 - 1.0 d_{3}\\\\0 & 0 & 0 & 0\\end{matrix}\\right]$"
      ],
      "text/plain": [
       "Matrix([\n",
       "[1.0*cos(theta1 + theta2 - theta4) - 0.90631, 0.42262 - 1.0*sin(theta1 + theta2 - theta4), 0, 0.2*cos(theta1 + theta2) + 0.2*cos(theta1) - 0.25],\n",
       "[1.0*sin(theta1 + theta2 - theta4) - 0.42262, 1.0*cos(theta1 + theta2 - theta4) - 0.90631, 0, 0.2*sin(theta1 + theta2) + 0.2*sin(theta1) - 0.25],\n",
       "[                                          0,                                           0, 0,                        0.080900061750412 - 1.0*d3],\n",
       "[                                          0,                                           0, 0,                                                 0]])"
      ]
     },
     "execution_count": 18,
     "metadata": {},
     "output_type": "execute_result"
    }
   ],
   "source": [
    "# Sympy's nsolve function searches for solutions that\n",
    "# set an expression equal to zero. If we require mbee = D, then we look for mbee-D = 0\n",
    "eq=mbee-Objetivo\n",
    "eq\n"
   ]
  },
  {
   "cell_type": "markdown",
   "metadata": {},
   "source": [
    "## We solve using Sympy's nsolve\n",
    "### We can obtain the angles and distances of the Joints"
   ]
  },
  {
   "cell_type": "code",
   "execution_count": 19,
   "metadata": {},
   "outputs": [
    {
     "data": {
      "text/latex": [
       "$\\displaystyle \\left[\\begin{matrix}0.2987\\\\0.97339\\\\0.0809\\\\0.83576\\end{matrix}\\right]$"
      ],
      "text/plain": [
       "Matrix([\n",
       "[ 0.2987],\n",
       "[0.97339],\n",
       "[ 0.0809],\n",
       "[0.83576]])"
      ]
     },
     "execution_count": 19,
     "metadata": {},
     "output_type": "execute_result"
    }
   ],
   "source": [
    "try:\n",
    "    q = nsolve(mbee-Objetivo, (theta1,theta2,d3,theta4),(1, 1, 1, 1), prec=5)\n",
    "except:\n",
    "    print('no se encontró la solución, es posible que haya infinitas soluciones')\n",
    "    q = [0, 0, 0, 0]\n",
    "q\n",
    "# It is possible that you will not find a solution due to the precision and initial values given, try changing orientation and position\n"
   ]
  },
  {
   "cell_type": "code",
   "execution_count": 20,
   "metadata": {},
   "outputs": [
    {
     "name": "stdout",
     "output_type": "stream",
     "text": [
      "Matrix([[0.29870], [0.97339], [0.080900], [0.83576]])\n",
      "17.1144408238486 55.7711404366566 -0.080900 47.8855880780249\n"
     ]
    }
   ],
   "source": [
    "# Degrees of each axis\n",
    "q[0]=q[0]-round(q[0]/(np.pi*2))*2*np.pi\n",
    "q[1]=q[1]-round(q[1]/(np.pi*2))*2*np.pi\n",
    "q[3]=q[3]-round(q[3]/(np.pi*2))*2*np.pi\n",
    "print(q)\n",
    "a1=q[0]*180/np.pi\n",
    "a2=q[1]*180/np.pi\n",
    "a3=-q[2]  # destination distance\n",
    "a4=q[3]*180/np.pi\n",
    "print(a1,a2,a3,a4)"
   ]
  },
  {
   "cell_type": "markdown",
   "metadata": {},
   "source": []
  },
  {
   "cell_type": "markdown",
   "metadata": {},
   "source": [
    "<img src=\"0piece.png\" width=\"500\"><br>"
   ]
  },
  {
   "cell_type": "code",
   "execution_count": 21,
   "metadata": {},
   "outputs": [],
   "source": [
    "import time\n",
    "time.sleep(3)\n",
    "setEffector(0)\n",
    "# PUT IN THE DESIRED POINT\n",
    "retCode = sim.simxSetJointTargetPosition(clientID, joint1, q[0], sim.simx_opmode_oneshot)\n",
    "retCode = sim.simxSetJointTargetPosition(clientID, joint2, q[1], sim.simx_opmode_oneshot)\n",
    "retCode = sim.simxSetJointTargetPosition(clientID, joint4, q[3], sim.simx_opmode_oneshot)\n",
    "time.sleep(3)\n",
    "retCode = sim.simxSetJointTargetPosition(clientID, joint3, a3, sim.simx_opmode_oneshot)\n",
    "setEffector(1)\n",
    "time.sleep(1)\n",
    "retCode = sim.simxSetJointTargetPosition(clientID, joint3, a3+0.08, sim.simx_opmode_oneshot) # SUBO 8cm\n",
    "time.sleep(1)"
   ]
  },
  {
   "cell_type": "code",
   "execution_count": 212,
   "metadata": {},
   "outputs": [
    {
     "data": {
      "text/latex": [
       "$\\displaystyle \\left[\\begin{matrix}1.0 & 0 & 0 & 0.39\\\\0 & 1.0 & 0 & 0\\\\0 & 0 & 1.0 & 0.021\\\\0 & 0 & 0 & 1.0\\end{matrix}\\right]$"
      ],
      "text/plain": [
       "Matrix([\n",
       "[1.0,   0,   0,  0.39],\n",
       "[  0, 1.0,   0,     0],\n",
       "[  0,   0, 1.0, 0.021],\n",
       "[  0,   0,   0,   1.0]])"
      ]
     },
     "execution_count": 212,
     "metadata": {},
     "output_type": "execute_result"
    }
   ],
   "source": [
    "# Si quisiera colocar la pieza por ejemplo en el punto x,y,z=0.25,0,0.021\n",
    "x,y,z=0.39,0,0.021\n",
    "# Construimos la matriz destino con sus orientaciones y posiciones\n",
    "destino = sp.Matrix([[1, 0, 0,x],\n",
    "               [0, 1, 0, y], \n",
    "               [0, 0, 1,z], \n",
    "               [0, 0, 0, 1]])\n",
    "PuntoDestino = destino*matrixFromEuler(0, 0, 0) #Solo le paso la del Eje Z, para jugar al dominó puede ser 0 o 90º\n",
    "\n",
    "# Ajustamos la posición de cogida de la ventosa \n",
    "# IMPORTANTE: LA PIEZA NOS DA UNA POSICIÓN Z CENTRADA EN LA PIEZA DE UN CM--> PERO LA VENTOSA A DE COGERLA 1mm POR ENCIM\n",
    "PuntoDestino=N(PuntoDestino,5)\n",
    "PuntoDestino"
   ]
  },
  {
   "cell_type": "code",
   "execution_count": 213,
   "metadata": {},
   "outputs": [
    {
     "data": {
      "text/latex": [
       "$\\displaystyle \\left[\\begin{matrix}-0.22408\\\\0.44815\\\\0.0809\\\\0.22408\\end{matrix}\\right]$"
      ],
      "text/plain": [
       "Matrix([\n",
       "[-0.22408],\n",
       "[ 0.44815],\n",
       "[  0.0809],\n",
       "[ 0.22408]])"
      ]
     },
     "execution_count": 213,
     "metadata": {},
     "output_type": "execute_result"
    }
   ],
   "source": [
    "try:\n",
    "    q = nsolve(mbee-PuntoDestino, (theta1,theta2,d3,theta4),(1, 1, 1, 1), prec=5)\n",
    "except:\n",
    "    print('solution was not found, it is possible that there are infinite solutions')\n",
    "    q = [0, 0, 0, 0]\n",
    "q\n"
   ]
  },
  {
   "cell_type": "code",
   "execution_count": 214,
   "metadata": {},
   "outputs": [
    {
     "name": "stdout",
     "output_type": "stream",
     "text": [
      "Matrix([[-0.22408], [0.44815], [0.080900], [0.22408]])\n",
      "-12.8386476914641 25.6772953829282 -0.080900 12.8386476914641\n"
     ]
    }
   ],
   "source": [
    "# Grados de cada eje destino\n",
    "q[0]=q[0]-round(q[0]/(np.pi*2))*2*np.pi\n",
    "q[1]=q[1]-round(q[1]/(np.pi*2))*2*np.pi\n",
    "q[3]=q[3]-round(q[3]/(np.pi*2))*2*np.pi\n",
    "print(q)\n",
    "b1=q[0]*180/np.pi\n",
    "b2=q[1]*180/np.pi\n",
    "b3=-q[2]  # distancia destino: restará al prismático la distancia máxima\n",
    "b4=q[3]*180/np.pi\n",
    "print(b1,b2,b3,b4)"
   ]
  },
  {
   "cell_type": "code",
   "execution_count": 215,
   "metadata": {},
   "outputs": [
    {
     "data": {
      "text/latex": [
       "$\\displaystyle 82.932521647066$"
      ],
      "text/plain": [
       "82.9325216470660"
      ]
     },
     "execution_count": 215,
     "metadata": {},
     "output_type": "execute_result"
    }
   ],
   "source": [
    "#Correction needed of orientation:\n",
    "correccion=a1-b1+a2-b2+a4-orz\n",
    "correccion\n",
    "# Substraction between origin and destination angles"
   ]
  },
  {
   "cell_type": "code",
   "execution_count": 216,
   "metadata": {},
   "outputs": [],
   "source": [
    "retCode = sim.simxSetJointTargetPosition(clientID, joint1, q[0], sim.simx_opmode_oneshot)\n",
    "retCode = sim.simxSetJointTargetPosition(clientID, joint2, q[1], sim.simx_opmode_oneshot)\n",
    "time.sleep(2)\n",
    "retCode = sim.simxSetJointTargetPosition(clientID, joint4,(correccion)*np.pi/180, sim.simx_opmode_oneshot)\n",
    "time.sleep(2)\n",
    "retCode = sim.simxSetJointTargetPosition(clientID, joint3, a3+0.002, sim.simx_opmode_oneshot)\n",
    "time.sleep(1)\n",
    "setEffector(0)\n",
    "time.sleep(1)\n",
    "retCode = sim.simxSetJointTargetPosition(clientID, joint3, a3+0.08, sim.simx_opmode_oneshot)"
   ]
  },
  {
   "cell_type": "markdown",
   "metadata": {},
   "source": [
    "<img src=\"1piece.png\" width=\"500\"><br>"
   ]
  },
  {
   "cell_type": "markdown",
   "metadata": {},
   "source": [
    "<h3>EXERCISE -\n",
    "    You have to do the programming to place the 3 dominoes together with a proper orientation.\n",
    "    \n",
    "Note: It is not necessary to apply image recognition algorithms or the values of the chips, we just want to place the chips in an orderly manner </h3>"
   ]
  },
  {
   "cell_type": "code",
   "execution_count": 74,
   "metadata": {},
   "outputs": [],
   "source": [
    "\n",
    "\n"
   ]
  },
  {
   "cell_type": "code",
   "execution_count": 151,
   "metadata": {},
   "outputs": [],
   "source": []
  },
  {
   "cell_type": "code",
   "execution_count": null,
   "metadata": {},
   "outputs": [],
   "source": []
  },
  {
   "cell_type": "code",
   "execution_count": null,
   "metadata": {},
   "outputs": [],
   "source": []
  },
  {
   "cell_type": "code",
   "execution_count": null,
   "metadata": {},
   "outputs": [],
   "source": []
  },
  {
   "cell_type": "code",
   "execution_count": null,
   "metadata": {
    "scrolled": true
   },
   "outputs": [],
   "source": []
  },
  {
   "cell_type": "code",
   "execution_count": 31,
   "metadata": {},
   "outputs": [],
   "source": []
  },
  {
   "cell_type": "code",
   "execution_count": null,
   "metadata": {},
   "outputs": [],
   "source": []
  },
  {
   "cell_type": "code",
   "execution_count": null,
   "metadata": {},
   "outputs": [],
   "source": []
  }
 ],
 "metadata": {
  "kernelspec": {
   "display_name": "Python 3 (ipykernel)",
   "language": "python",
   "name": "python3"
  },
  "language_info": {
   "codemirror_mode": {
    "name": "ipython",
    "version": 3
   },
   "file_extension": ".py",
   "mimetype": "text/x-python",
   "name": "python",
   "nbconvert_exporter": "python",
   "pygments_lexer": "ipython3",
   "version": "3.11.11"
  }
 },
 "nbformat": 4,
 "nbformat_minor": 4
}
